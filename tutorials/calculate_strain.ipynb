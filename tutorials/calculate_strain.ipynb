{
 "cells": [
  {
   "cell_type": "markdown",
   "id": "d89d6479",
   "metadata": {},
   "source": [
    "# Rose tutorial numerical model\n"
   ]
  },
  {
   "cell_type": "code",
   "execution_count": 1,
   "id": "c2a265cd",
   "metadata": {},
   "outputs": [],
   "source": [
    "import os\n",
    "\n",
    "# import pickle for saving results\n",
    "import pickle\n",
    "# import ROSE packages\n",
    "import rose.model\n",
    "from rose.model.model_part import Material, Section\n",
    "from rose.model.train_model import *\n",
    "from rose.model.train_track_interaction import *"
   ]
  },
  {
   "cell_type": "markdown",
   "id": "5f2b04c8",
   "metadata": {},
   "source": [
    "<img src=\"static/train_track_model.png\">"
   ]
  },
  {
   "cell_type": "markdown",
   "id": "b41e6a3e",
   "metadata": {},
   "source": [
    "# Fill in parameters train"
   ]
  },
  {
   "cell_type": "markdown",
   "id": "a95bbedf",
   "metadata": {},
   "source": [
    "<img src=\"static/train_model.png\">"
   ]
  },
  {
   "cell_type": "markdown",
   "id": "938328a7",
   "metadata": {},
   "source": [
    "## Custom train"
   ]
  },
  {
   "cell_type": "markdown",
   "id": "e169f289",
   "metadata": {},
   "source": [
    "Set up a custom train\n"
   ]
  },
  {
   "cell_type": "code",
   "execution_count": 2,
   "id": "91a00b17",
   "metadata": {},
   "outputs": [],
   "source": [
    "# set up train\n",
    "tr = {}\n",
    "\n",
    "start_coord = 10\n",
    "velocity = 120/3.6 # set velocity of the train [m/s]\n",
    "\n",
    "\n",
    "# set up bogie configuration\n",
    "tr[\"wheel_distances\"] = [-1.25, 1.25]  # wheel distances from the centre of the bogie [m]\n",
    "tr[\"bogie_length\"] = 2  # length of the bogie [m]\n",
    "\n",
    "# set up cart configuration\n",
    "tr[\"bogie_distances\"] = [-10, 10]  # bogie distances from the centre of the cart [m]\n",
    "tr[\"cart_length\"] = 28  # length of the cart [m]\n",
    "\n",
    "# set up train configuration\n",
    "tr[\"cart_distances\"] = [start_coord]  # cart distances from the start of the track [m]\n",
    "\n",
    "# set train parameters\n",
    "tr[\"mass_wheel\"] = 1834/2  # mass of one wheel [kg]\n",
    "tr[\"mass_bogie\"] = 6e3/2  # mass of one bogie [kg]\n",
    "tr[\"mass_cart\"] = 75.5e3/2  # mass of one cart  [kg]\n",
    "\n",
    "tr[\"inertia_bogie\"] = 0.31e3/2  # mass inertia of one bogie   [kg.m2]\n",
    "tr[\"inertia_cart\"] = 128.8e3/2  # mass inertia of one cart   [kg.m2]\n",
    "\n",
    "tr[\"prim_stiffness\"] = 4800e3/2  # primary suspension: stiffness between wheels and bogie  [N/m]\n",
    "tr[\"sec_stiffness\"] = 2708e3/2  # secondary suspension: stiffness between bogies and cart  [N/m]\n",
    "\n",
    "tr[\"prim_damping\"] = 0.25e3/2  # primary suspension: damping between wheels and bogie  [N.s/m]\n",
    "tr[\"sec_damping\"] = 64e3/2  # secondary suspension: damping between bogies and cart  [N.s/m]\n",
    "\n",
    "tr[\"velocity\"] = velocity # set velocity of the train [m/s]\n",
    "\n",
    "# set default train is chosen on false, for further generation within the notebook\n",
    "default_train_is_chosen = False"
   ]
  },
  {
   "cell_type": "markdown",
   "id": "663ae53a",
   "metadata": {},
   "source": [
    "## Default train"
   ]
  },
  {
   "cell_type": "markdown",
   "id": "7c1e414d",
   "metadata": {},
   "source": [
    "Alternatively, a default train can be chosen, comment the following section out if you want to maintain the custom parameters\n"
   ]
  },
  {
   "cell_type": "code",
   "execution_count": 7,
   "id": "98a89a9b",
   "metadata": {},
   "outputs": [],
   "source": [
    "from rose.pre_process import default_trains\n",
    "\n",
    "# set train type\n",
    "train_type = default_trains.TrainType.SPRINTER_SLT\n",
    "\n",
    "# create train model\n",
    "train = default_trains.set_train(0, 0, start_coord, train_type, nb_carts=2)\n",
    "\n",
    "# set default train is chosen on true, for further generation within the notebook\n",
    "default_train_is_chosen = True"
   ]
  },
  {
   "cell_type": "markdown",
   "id": "4b4f7ca1",
   "metadata": {},
   "source": [
    "# Set geometry track"
   ]
  },
  {
   "cell_type": "markdown",
   "id": "f6275ab8",
   "metadata": {},
   "source": [
    "<img src=\"static/track_model.png\">"
   ]
  },
  {
   "cell_type": "markdown",
   "id": "187ff050",
   "metadata": {},
   "source": [
    "In this part of the code, the geometry of the track is set. It is possible to divide the track in multiple segment with a different underlying soil stiffness, thus modeling a stiffness transition is possible. The segment dependent track parameters are always defined in a list, also when only 1 segment is desired."
   ]
  },
  {
   "cell_type": "code",
   "execution_count": 8,
   "id": "47af96dc",
   "metadata": {},
   "outputs": [],
   "source": [
    "# Set geometry parameters of the track\n",
    "\n",
    "sleeper_distance = 0.6\n",
    "\n",
    "# set number of sleepers per segment. Any amount of segments can be chosen. Each segment can have a different soil stiffness\n",
    "nb_sleepers_per_segment =[100,100]\n",
    "geometry = {}\n",
    "geometry[\"n_segments\"] = len(nb_sleepers_per_segment)  # number of segments\n",
    "geometry[\"n_sleepers\"] = [n  for n in nb_sleepers_per_segment]  # number of sleepers per segment\n",
    "geometry[\"sleeper_distance\"] = sleeper_distance  # distance between sleepers, equal for each segment\n",
    "geometry[\"depth_soil\"] = [1.0  for n in nb_sleepers_per_segment]  # depth of the soil [m] per segment"
   ]
  },
  {
   "cell_type": "markdown",
   "id": "102166a5",
   "metadata": {},
   "source": [
    "<img src=\"static/rose_elements.png\">"
   ]
  },
  {
   "cell_type": "markdown",
   "id": "71df6bc4",
   "metadata": {},
   "source": [
    "# Fill in parameters track"
   ]
  },
  {
   "cell_type": "markdown",
   "id": "03bac3e8",
   "metadata": {},
   "source": [
    "Below the parameters of the track are to be filled in. Note that the soil parameters are to be given per segment, these parameters are always to be given in a list. If 2 segments are present, 2 stiffnessess and 2 dampings are to be filled in."
   ]
  },
  {
   "cell_type": "code",
   "execution_count": 9,
   "id": "aa1169a8",
   "metadata": {},
   "outputs": [],
   "source": [
    "mat = {}\n",
    "# set parameters of the rail\n",
    "mat[\"young_mod_beam\"] = 210e9  # young modulus rail [N/m]\n",
    "mat[\"poisson_beam\"] = 0.0  # poison ration rail\n",
    "mat[\"inertia_beam\"] = 2.3379E-05  # inertia of the rail [m4]\n",
    "mat[\"rho\"] = 7860  # density of the rail [kg/m3]\n",
    "mat[\"rail_area\"] = 69.77e-4  # area of the rail [m]\n",
    "mat[\"shear_factor_rail\"] = 0  # Timoshenko shear factor\n",
    "mat[\"height_rail\"] = 0.159 # height of the rail section [m]\n",
    "mat[\"height_neutral_axis\"] = 0.0699 # height of the neutral axis of the rail [m]\n",
    "\n",
    "# set parameters rail pad\n",
    "mat[\"mass_rail_pad\"] = 5  # mass of the rail pad [kg]\n",
    "mat[\"stiffness_rail_pad\"] = 800e6  # stiffness of the rail pad [N/m2]\n",
    "mat[\"damping_rail_pad\"] = 800e3  # damping of the rail pad [N/m2/s]\n",
    "\n",
    "# set parameters sleeper\n",
    "mat[\"mass_sleeper\"] = 142.5  # [kg]\n",
    "\n",
    "# Rayleigh damping system\n",
    "mat[\"damping_ratio\"] = 0.002  # damping\n",
    "mat[\"omega_one\"] = 6.283  # first radial_frequency\n",
    "mat[\"omega_two\"] = 125.66  # second radial_frequency\n",
    "\n",
    "# set up contact parameters\n",
    "mat[\"hertzian_contact_coef\"] = 9.1e-8  # Hertzian contact coefficient\n",
    "mat[\"hertzian_power\"] = 3 / 2  # Hertzian power\n",
    "\n",
    "# Set soil parameters of each segment\n",
    "soil = {\"stiffness_soils\": [180e6,180e5], # stiffness of the soil [N/m2]\n",
    "        \"damping_soils\": [30e3, 30e3]}    # dampng of the soil [N/m2/s]\n"
   ]
  },
  {
   "cell_type": "markdown",
   "id": "ee53dadf",
   "metadata": {},
   "source": [
    "# Fill in time integration"
   ]
  },
  {
   "cell_type": "code",
   "execution_count": 10,
   "id": "cd54111a",
   "metadata": {},
   "outputs": [],
   "source": [
    " time_int = {}\n",
    "# set time parameters in two stages\n",
    "time_int[\"tot_ini_time\"] = 0.5  # total initalisation time  [s]\n",
    "time_int[\"n_t_ini\"] = 5000  # number of time steps initialisation time  [-]\n",
    "\n",
    "time_int[\"tot_calc_time\"] = 2.5  # total time during calculation phase   [s]\n",
    "time_int[\"n_t_calc\"] = 25000  # number of time steps during calculation phase [-]"
   ]
  },
  {
   "cell_type": "markdown",
   "id": "8ae30e98",
   "metadata": {},
   "source": [
    "# Choose solver"
   ]
  },
  {
   "cell_type": "markdown",
   "id": "380ae3ef",
   "metadata": {},
   "source": [
    "Below, the solver for the calculation is set. Generally the \"NewmarkExplicit\" solver is faster, while the \"NewmarkImplicitForce\" solver is more stable, thus requiring less time steps.  "
   ]
  },
  {
   "cell_type": "code",
   "execution_count": 11,
   "id": "04cd1276",
   "metadata": {},
   "outputs": [],
   "source": [
    "# choose solver\n",
    "from solvers.newmark_solver import NewmarkExplicit, NewmarkImplicitForce\n",
    "solver = NewmarkImplicitForce()"
   ]
  },
  {
   "cell_type": "markdown",
   "id": "64a017be",
   "metadata": {},
   "source": [
    "# Populate time integration"
   ]
  },
  {
   "cell_type": "code",
   "execution_count": 12,
   "id": "58d51243",
   "metadata": {},
   "outputs": [],
   "source": [
    "# set initialisation time\n",
    "initialisation_time = np.linspace(0, time_int[\"tot_ini_time\"], time_int[\"n_t_ini\"])\n",
    "# set calculation time\n",
    "calculation_time = np.linspace(initialisation_time[-1], initialisation_time[-1] + time_int[\"tot_calc_time\"],\n",
    "                               time_int[\"n_t_calc\"])\n",
    "# Combine all time steps in an array\n",
    "time = np.concatenate((initialisation_time, calculation_time[1:]))"
   ]
  },
  {
   "cell_type": "markdown",
   "id": "990e76c3",
   "metadata": {},
   "source": [
    "# Generate geometry track"
   ]
  },
  {
   "cell_type": "code",
   "execution_count": 13,
   "id": "1644e289",
   "metadata": {},
   "outputs": [],
   "source": [
    "all_element_model_parts = []\n",
    "all_meshes = []\n",
    "# loop over number of segments\n",
    "for idx in range(geometry[\"n_segments\"]):\n",
    "    # set geometry of one segment\n",
    "    element_model_parts, mesh = create_horizontal_track(geometry[\"n_sleepers\"][idx],\n",
    "                                                        geometry[\"sleeper_distance\"],\n",
    "                                                        geometry[\"depth_soil\"][idx])\n",
    "    # add segment model parts and mesh to list\n",
    "    all_element_model_parts.append(element_model_parts)\n",
    "    all_meshes.append(mesh)\n",
    "\n",
    "# Setup global mesh and combine model parts of all segments\n",
    "rail_model_part, sleeper_model_part, rail_pad_model_part, soil_model_parts, all_mesh = \\\n",
    "    combine_horizontal_tracks(all_element_model_parts, all_meshes, sleeper_distance)\n",
    "\n",
    "# Fixate the bottom boundary\n",
    "bottom_boundaries = [add_no_displacement_boundary_to_bottom(soil_model_part)[\"bottom_boundary\"] for soil_model_part\n",
    "                     in soil_model_parts]\n",
    "\n",
    "# constraint rotation at the side boundaries\n",
    "side_boundaries = ConstraintModelPart(x_disp_dof=False, y_disp_dof=True, z_rot_dof=True)\n",
    "side_boundaries.nodes = [rail_model_part.nodes[0], rail_model_part.nodes[-1]]\n"
   ]
  },
  {
   "cell_type": "markdown",
   "id": "ddd9e93e",
   "metadata": {},
   "source": [
    "# Populate train model"
   ]
  },
  {
   "cell_type": "code",
   "execution_count": 14,
   "id": "3784d91a",
   "metadata": {},
   "outputs": [],
   "source": [
    "# set velocity of train\n",
    "velocities = np.ones(len(time)) * tr[\"velocity\"]\n",
    "\n",
    "# prevent train from moving in initialisation phase\n",
    "velocities[0:len(initialisation_time)] = 0\n",
    "\n",
    "# set up train\n",
    "if not default_train_is_chosen:\n",
    "    train = TrainModel()\n",
    "\n",
    "    # set up carts\n",
    "    train.cart_distances = tr[\"cart_distances\"]\n",
    "    train.carts = [Cart() for idx in range(len(tr[\"cart_distances\"]))]\n",
    "    for cart in train.carts:\n",
    "        cart.bogie_distances = tr[\"bogie_distances\"]\n",
    "        cart.inertia = tr[\"inertia_cart\"]\n",
    "        cart.mass = tr[\"mass_cart\"]\n",
    "        cart.stiffness = tr[\"sec_stiffness\"]\n",
    "        cart.damping = tr[\"sec_damping\"]\n",
    "        cart.length = tr[\"cart_length\"]\n",
    "\n",
    "        # setup bogies per cart\n",
    "        cart.bogies = [Bogie() for idx in range(len(tr[\"bogie_distances\"]))]\n",
    "        for bogie in cart.bogies:\n",
    "            bogie.wheel_distances = tr[\"wheel_distances\"]\n",
    "            bogie.mass = tr[\"mass_bogie\"]\n",
    "            bogie.inertia = tr[\"inertia_bogie\"]\n",
    "            bogie.stiffness = tr[\"prim_stiffness\"]\n",
    "            bogie.damping = tr[\"prim_damping\"]\n",
    "            bogie.length = tr[\"bogie_length\"]\n",
    "\n",
    "            # setup wheels per bogie\n",
    "            bogie.wheels = [Wheel() for idx in range(len(tr[\"wheel_distances\"]))]\n",
    "            for wheel in bogie.wheels:\n",
    "                wheel.mass = tr[\"mass_wheel\"]\n",
    "\n",
    "\n",
    "train.use_irregularities = True\n",
    "# set optional irregularities parameters\n",
    "train.irregularity_parameters = {\"Av\": 0.0000003365}\n",
    "\n",
    "train.time = time\n",
    "train.velocities = velocities"
   ]
  },
  {
   "cell_type": "markdown",
   "id": "7e1df963",
   "metadata": {},
   "source": [
    "## Define irregularities"
   ]
  },
  {
   "cell_type": "markdown",
   "id": "eefd4719",
   "metadata": {},
   "source": [
    "In this example, the front wheel contains a wheel flat, therefore a custom irregularities array is defined"
   ]
  },
  {
   "cell_type": "markdown",
   "id": "018d01cf",
   "metadata": {},
   "source": [
    "### Initialise train movement "
   ]
  },
  {
   "cell_type": "markdown",
   "id": "0ec540f3",
   "metadata": {},
   "source": [
    "Firstly initialise the train parts, i.e. wheels, bogies and carts. Note that this is only required when applying a custom \n",
    "irregularities matrix"
   ]
  },
  {
   "cell_type": "code",
   "execution_count": 15,
   "id": "9ae85ca7",
   "metadata": {},
   "outputs": [],
   "source": [
    "# calculate distances of the train over time\n",
    "train.calculate_distances()\n",
    "\n",
    "# set mesh of the train\n",
    "train.set_mesh()\n",
    "\n",
    "# make train parts easily accessible\n",
    "train.get_train_parts()"
   ]
  },
  {
   "cell_type": "code",
   "execution_count": 16,
   "id": "c8215289",
   "metadata": {},
   "outputs": [],
   "source": [
    "from rose.model.irregularities import WheelFlat\n",
    "# firstly initialise irregularites array as a zeros matrix\n",
    "irregularities = np.zeros((len(train.wheels), len(train.time)))"
   ]
  },
  {
   "cell_type": "markdown",
   "id": "58a7df20",
   "metadata": {},
   "source": [
    "### Define irregularities matrix"
   ]
  },
  {
   "cell_type": "markdown",
   "id": "fc9eb32b",
   "metadata": {},
   "source": [
    "Below a wheel flat in 1 wheel is simulated"
   ]
  },
  {
   "cell_type": "code",
   "execution_count": 17,
   "id": "b265e20d",
   "metadata": {},
   "outputs": [],
   "source": [
    "# the front wheel is the last wheel in the wheels array\n",
    "wheel_index = -1 # -1 indicates the last wheel\n",
    "front_wheel = train.wheels[wheel_index]\n",
    "\n",
    "# the wheel flat is defined as a function of distance traveled and the circumference of the wheel\n",
    "wheel_diameter = 0.92 # wheel diameter[m]\n",
    "wheel_flatness_length = 0.04 # length of the wheel is flat [m]\n",
    "\n",
    "# set the start position for the wheel flat, note that also previous rotations of the wheel is taken into account\n",
    "start_position_wheel_flat=60.1\n",
    "\n",
    "# calculate wheel flat array\n",
    "wheel_flat = WheelFlat(front_wheel.distances, wheel_diameter, wheel_flatness_length)\n",
    "wheel_flat_array = wheel_flat.irregularities\n",
    "\n",
    "# add wheel flat array to the train irregularities matrix\n",
    "irregularities[wheel_index,:] = wheel_flat_array\n",
    "train.irregularities_at_wheels = irregularities"
   ]
  },
  {
   "cell_type": "markdown",
   "id": "d6374a5c",
   "metadata": {},
   "source": [
    "# Populate track model"
   ]
  },
  {
   "cell_type": "code",
   "execution_count": 18,
   "id": "6cd43ee2",
   "metadata": {},
   "outputs": [],
   "source": [
    "# set elements\n",
    "material = Material()\n",
    "material.youngs_modulus = mat[\"young_mod_beam\"]\n",
    "material.poisson_ratio = mat[\"poisson_beam\"]\n",
    "material.density = mat[\"rho\"]\n",
    "\n",
    "section = Section()\n",
    "section.area = mat[\"rail_area\"]\n",
    "section.sec_moment_of_inertia = mat[\"inertia_beam\"]\n",
    "section.shear_factor = mat[\"shear_factor_rail\"]\n",
    "section.height = mat[\"height_rail\"]\n",
    "section.height_neutral_axis = mat[\"height_neutral_axis\"]\n",
    "\n",
    "rail_model_part.section = section\n",
    "rail_model_part.material = material\n",
    "\n",
    "rail_pad_model_part.mass = mat[\"mass_rail_pad\"]\n",
    "rail_pad_model_part.stiffness = mat[\"stiffness_rail_pad\"]\n",
    "rail_pad_model_part.damping = mat[\"damping_rail_pad\"]\n",
    "\n",
    "sleeper_model_part.mass = mat[\"mass_sleeper\"]\n",
    "\n",
    "for idx, soil_model_part in enumerate(soil_model_parts):\n",
    "    soil_model_part.stiffness = soil[\"stiffness_soils\"][idx]\n",
    "    soil_model_part.damping = soil[\"damping_soils\"][idx]\n",
    "\n",
    "\n",
    "# populate global system\n",
    "track = GlobalSystem()\n",
    "track.mesh = all_mesh\n",
    "track.time = time\n",
    "\n",
    "# collect all model parts track\n",
    "model_parts = [rail_model_part, rail_pad_model_part, sleeper_model_part, side_boundaries] \\\n",
    "              + soil_model_parts + bottom_boundaries\n",
    "track.model_parts = model_parts\n"
   ]
  },
  {
   "cell_type": "code",
   "execution_count": 19,
   "id": "c18c4f13",
   "metadata": {},
   "outputs": [
    {
     "data": {
      "text/plain": [
       "[<rose.model.track.Rail at 0x7fe205108790>,\n",
       " <rose.model.track.RailPad at 0x7fe163e18d90>,\n",
       " <rose.model.track.Sleeper at 0x7fe163e1a0d0>,\n",
       " <rose.model.model_part.ConstraintModelPart at 0x7fe16404de50>,\n",
       " <rose.model.soil.Soil at 0x7fe163eb4e90>,\n",
       " <rose.model.soil.Soil at 0x7fe163e1be90>,\n",
       " <rose.model.model_part.ConstraintModelPart at 0x7fe16404bb90>,\n",
       " <rose.model.model_part.ConstraintModelPart at 0x7fe1e5137410>]"
      ]
     },
     "execution_count": 19,
     "metadata": {},
     "output_type": "execute_result"
    }
   ],
   "source": [
    "model_parts"
   ]
  },
  {
   "cell_type": "markdown",
   "id": "5dc9d0a2",
   "metadata": {},
   "source": [
    "# Populate train track interaction model"
   ]
  },
  {
   "cell_type": "code",
   "execution_count": 20,
   "id": "739c8bd3",
   "metadata": {},
   "outputs": [],
   "source": [
    "# setup coupled train track system\n",
    "coupled_model = CoupledTrainTrack()\n",
    "\n",
    "coupled_model.train = train\n",
    "coupled_model.track = track\n",
    "coupled_model.rail = rail_model_part\n",
    "coupled_model.time = time\n",
    "coupled_model.initialisation_time = initialisation_time\n",
    "\n",
    "coupled_model.hertzian_contact_coef = mat[\"hertzian_contact_coef\"]\n",
    "coupled_model.hertzian_power = mat[\"hertzian_power\"]\n",
    "\n",
    "coupled_model.solver = solver\n",
    "\n",
    "coupled_model.is_rayleigh_damping = True\n",
    "coupled_model.damping_ratio = mat[\"damping_ratio\"]\n",
    "coupled_model.radial_frequency_one = mat[\"omega_one\"]\n",
    "coupled_model.radial_frequency_two = mat[\"omega_two\"]"
   ]
  },
  {
   "cell_type": "markdown",
   "id": "0a704168",
   "metadata": {},
   "source": [
    "# Calculate"
   ]
  },
  {
   "cell_type": "markdown",
   "id": "965f38e9",
   "metadata": {},
   "source": [
    "$F = M \\cdot a + C \\cdot v + K \\cdot u$"
   ]
  },
  {
   "cell_type": "code",
   "execution_count": 21,
   "id": "14569b00",
   "metadata": {},
   "outputs": [
    {
     "name": "stdout",
     "output_type": "stream",
     "text": [
      ".______        ______        _______. _______\n",
      "|   _  \\      /  __  \\      /       ||   ____|                                                                                                       __\n",
      "|  |_)  |    |  |  |  |    |   (----`|  |__                                                                                                   ___  _// \\\n",
      "|      /     |  |  |  |     \\   \\    |   __|                                                                                                _/   \\/__|_ \\\n",
      "|  |\\  \\----.|  `--'  | .----)   |   |  |____                                                                                              /  __//_/==\\_| ___\n",
      "| _| `._____| \\______/  |_______/    |_______|                                                                                           / | / /|// == \\ \\   /\n",
      "  ___        _                                                                                                                           |  | |\\|| //_\\ | |_/\n",
      " | _ ) _  _ (_)                                                                                                                           \\  \\ \\\\ / \\_/| || \\\n",
      " | _ \\| || | _                                                                                                                             \\___/\\\\| _  ///___\\\n",
      " |___/ \\_, |(_)                                                                                                                              \\__|\\_\\=//_// _\\_|\n",
      "       |__/                                                                                                                                     \\___\\_____/\n",
      "     ___      .______        ______   .__   __.               .______   .______       __    __  .__   __.   ______                             !! \\____/\n",
      "    /   \\     |   _  \\      /  __  \\  |  \\ |  |      ___      |   _  \\  |   _  \\     |  |  |  | |  \\ |  |  /  __  \\                           !!\n",
      "   /  ^  \\    |  |_)  |    |  |  |  | |   \\|  |     ( _ )     |  |_)  | |  |_)  |    |  |  |  | |   \\|  | |  |  |  |                           !!\n",
      "  /  /_\\  \\   |      /     |  |  |  | |  . `  |     / _ \\/\\   |   _  <  |      /     |  |  |  | |  . `  | |  |  |  |                ___      -(!!      __ ___ _\n",
      " /  _____  \\  |  |\\  \\----.|  `--'  | |  |\\   |    | (_>  <   |  |_)  | |  |\\  \\----.|  `--'  | |  |\\   | |  `--'  |               |\\|  \\       !!_.-~~ /|\\-  \\~-._\n",
      "/__/     \\__\\ | _| `._____| \\______/  |__| \\__|     \\___/\\/   |______/  | _| `._____| \\______/  |__| \\__|  \\______/                | -\\| |      !!/   /  | |\\- | |\\ \\\n",
      "                                                                                                                                    \\__-\\|______ !!  |    \\___\\|  \\_\\|\n",
      "                                                                                                                              _____ _.-~/|\\     \\\\!!  \\  |  /       ~-.\n",
      "                                                                                                                            /     /|  / /|  \\    \\!!    \\ /          |\\~-\n",
      "                                                                                                                          /  ---/| | |   |\\  |     !!                 \\__|\n",
      "                                                                                                                         | ---/| | |  \\ /|  /    -(!!\n",
      "                                                                                                                         | -/| |  /     \\|/        !!\n",
      "                                                                                                                         |/____ /                  !!)-\n",
      "                                                                                                                                                   !!\n",
      "Initialising train\n",
      "Initialising track and subsoil\n",
      "Initialising model parts\n",
      "Initialising global matrices\n",
      "Initialising global matrices\n",
      "Initialising track wheel interaction\n",
      "Initial static displacement of the train and the track\n"
     ]
    },
    {
     "name": "stderr",
     "output_type": "stream",
     "text": [
      "100%|██████████| 2.00/2.00 [00:00<00:00, 1.01ksteps/s]\n",
      "100%|██████████| 1.00/1.00 [00:00<00:00, 2.73ksteps/s]\n"
     ]
    },
    {
     "name": "stdout",
     "output_type": "stream",
     "text": [
      "Calculating calculation phase\n"
     ]
    },
    {
     "name": "stderr",
     "output_type": "stream",
     "text": [
      "100%|██████████| 5.00k/5.00k [00:02<00:00, 1.94ksteps/s]\n"
     ]
    },
    {
     "name": "stdout",
     "output_type": "stream",
     "text": [
      "Calculating calculation phase\n"
     ]
    },
    {
     "name": "stderr",
     "output_type": "stream",
     "text": [
      "100%|██████████| 25.0k/25.0k [00:17<00:00, 1.47ksteps/s]\n"
     ]
    },
    {
     "name": "stdout",
     "output_type": "stream",
     "text": [
      "Finalising calculation\n",
      "\n",
      "\n",
      "\n",
      "\u001b[3m  Your focus determines your reality. \u001b[0m\n",
      "\u001b[3m--- Qui - Gon Jinn\u001b[0m\n"
     ]
    }
   ],
   "source": [
    "coupled_model.main()"
   ]
  },
  {
   "cell_type": "markdown",
   "id": "9ec06103",
   "metadata": {},
   "source": [
    "# Write results in a pickle file"
   ]
  },
  {
   "cell_type": "markdown",
   "id": "914e2143",
   "metadata": {},
   "source": [
    "First check which model parts are present in the model and at which position in the model part list, the model parts are located"
   ]
  },
  {
   "cell_type": "code",
   "execution_count": 23,
   "id": "1697a952",
   "metadata": {},
   "outputs": [],
   "source": [
    "coupled_model.track.model_parts\n",
    "\n",
    "\n",
    "soil_indices = []\n",
    "\n",
    "for idx, model_part in enumerate(coupled_model.track.model_parts):\n",
    "    if isinstance(model_part,rose.model.track.Rail):\n",
    "        rail_index = idx\n",
    "    if isinstance(model_part,rose.model.track.RailPad):\n",
    "        rail_pad_index = idx\n",
    "    if isinstance(model_part,rose.model.track.Sleeper):\n",
    "        sleeper_index = idx\n",
    "    if isinstance(model_part,rose.model.soil.Soil):\n",
    "        soil_indices.append(idx)"
   ]
  },
  {
   "cell_type": "markdown",
   "id": "b69285c2",
   "metadata": {},
   "source": [
    "Now write the results from the coupled_model to a pickle file. Take good care of the model part index which is written to the output file, as this depends on the amount of segments in the model. Results are stored in a [Node/Element $*$ Time] List."
   ]
  },
  {
   "cell_type": "code",
   "execution_count": 24,
   "id": "c175e1b3",
   "metadata": {},
   "outputs": [],
   "source": [
    "# name output directory\n",
    "output_name = \"tutorial_calculate_strain\"\n",
    "output_dir = \"res\"\n",
    "output_interval = 1 # this indicates the interval of the output indices which should be written to the output file\n",
    "\n",
    "# check if output folder exists, create if the directory does not exist\n",
    "if not os.path.isdir(output_dir):\n",
    "    os.makedirs(output_dir)\n",
    "\n",
    "# collect results\n",
    "\n",
    "track_model_parts = coupled_model.track.model_parts\n",
    "\n",
    "# collect coordinates, vertical displacement and force of the rail\n",
    "\n",
    "# set index of the rail model part\n",
    "vertical_displacements_rail = np.array(\n",
    "    [node.displacements[0::output_interval, 1] for node in track_model_parts[rail_index].nodes])\n",
    "vertical_force_rail = np.array(\n",
    "    [element.force[0::output_interval, 1] for element in track_model_parts[rail_index].elements])\n",
    "coords_rail = np.array([node.coordinates[0] for node in track_model_parts[rail_index].nodes])\n",
    "\n",
    "# collect coordinates, vertical displacement and force of the rail pad\n",
    "vertical_displacements_rail_pad = np.array(\n",
    "    [node.displacements[0::output_interval, 1] for node in track_model_parts[rail_pad_index].nodes])\n",
    "vertical_force_rail_pad = np.array(\n",
    "    [element.force[0::output_interval, 1] for element in track_model_parts[rail_pad_index].elements])\n",
    "coords_rail_pad = np.array([node.coordinates[0] for node in track_model_parts[rail_pad_index].nodes])\n",
    "\n",
    "# collect coordinates, vertical displacement and force of the sleepers\n",
    "vertical_displacements_sleeper = np.array(\n",
    "    [node.displacements[0::output_interval, 1] for node in track_model_parts[sleeper_index].nodes])\n",
    "vertical_force_sleeper = np.array(\n",
    "    [node.force[0::output_interval, 1] for node in track_model_parts[sleeper_index].nodes])\n",
    "coords_sleeper = np.array([node.coordinates[0] for node in track_model_parts[sleeper_index].nodes])\n",
    "\n",
    "# combine soil results\n",
    "soil_nodes = []\n",
    "soil_elements = []\n",
    "for soil_index in soil_indices:\n",
    "    soil_nodes.append(track_model_parts[soil_index].nodes)\n",
    "    soil_elements.append(track_model_parts[soil_index].elements)\n",
    "soil_nodes = list(itertools.chain.from_iterable(soil_nodes))\n",
    "soil_elements = list(itertools.chain.from_iterable(soil_elements))\n",
    "\n",
    "\n",
    "# collect coordinates, vertical displacement and force of the soil\n",
    "vertical_displacements_soil = np.array(\n",
    "    [node.displacements[0::output_interval, 1] for node in soil_nodes])\n",
    "vertical_force_soil = np.array(\n",
    "    [element.force[0::output_interval, 0] for element in soil_elements])\n",
    "coords_soil = np.array([node.coordinates[0] for node in soil_nodes])\n",
    "\n",
    "\n",
    "# collect vertical displacements and forces in train\n",
    "vertical_displacements_train = np.array(\n",
    "    [node.displacements[0::output_interval, 1] for node in coupled_model.train.nodes])\n",
    "vertical_force_train = np.array([node.force[0::output_interval, 1] for node in coupled_model.train.nodes])\n",
    "\n",
    "result_track = {\"name\": output_name,\n",
    "                \"time\": coupled_model.time[0::output_interval].tolist(),\n",
    "                \"velocity\": coupled_model.train.velocities[0::output_interval].tolist(),\n",
    "                \"vert_disp_rail\": vertical_displacements_rail.tolist(),\n",
    "                \"vert_force_rail\": vertical_force_rail.tolist(),\n",
    "                \"coords_rail\": coords_rail.tolist(),\n",
    "                \"vertical_displacements_rail_pad\": vertical_displacements_rail_pad.tolist(),\n",
    "                \"vertical_force_rail_pad\": vertical_force_rail_pad.tolist(),\n",
    "                \"coords_rail_pad\": coords_rail_pad.tolist(),\n",
    "                \"vertical_displacements_sleeper\": vertical_displacements_sleeper.tolist(),\n",
    "                \"vertical_force_sleeper\": vertical_force_sleeper.tolist(),\n",
    "                \"coords_sleeper\": coords_sleeper.tolist(),\n",
    "                \"vertical_displacements_soil\": vertical_displacements_soil.tolist(),\n",
    "                \"vertical_force_soil\": vertical_force_soil.tolist(),\n",
    "                \"coords_soil\": coords_soil.tolist(),\n",
    "                \"vertical_displacements_train\": vertical_displacements_train.tolist(),\n",
    "                \"vertical_force_train\": vertical_force_train.tolist(),\n",
    "                }\n",
    "\n",
    "\n",
    "# filename\n",
    "file_name = f'res_{output_name}.pickle'\n",
    "# dump pickle\n",
    "with open(os.path.join(output_dir, file_name), \"wb\") as f:\n",
    "    pickle.dump(result_track, f)\n",
    "\n",
    "# dump all results in pickle, for later use\n",
    "all_results_fn = f'all_results_{output_name}.pickle'\n",
    "with open(os.path.join(output_dir, all_results_fn), \"wb\") as f:\n",
    "    pickle.dump({\"coupled_model\":coupled_model}, f)"
   ]
  },
  {
   "cell_type": "markdown",
   "id": "13fa60fe",
   "metadata": {},
   "source": [
    "# Load results"
   ]
  },
  {
   "cell_type": "code",
   "execution_count": 25,
   "id": "3c14dd9e",
   "metadata": {},
   "outputs": [],
   "source": [
    "import matplotlib.pyplot as plt\n",
    "\n",
    "with open(os.path.join(output_dir, file_name), 'rb') as f:\n",
    "    res_numerical = pickle.load(f)\n",
    "\n",
    "with open(os.path.join(output_dir, all_results_fn), 'rb') as f:\n",
    "    all_results = pickle.load(f)\n",
    "\n",
    "res_coupled_model = all_results[\"coupled_model\"]"
   ]
  },
  {
   "cell_type": "code",
   "execution_count": 26,
   "id": "ea5f2d99",
   "metadata": {},
   "outputs": [
    {
     "data": {
      "text/plain": [
       "<rose.model.train_track_interaction.CoupledTrainTrack at 0x7fe007e1fd90>"
      ]
     },
     "execution_count": 26,
     "metadata": {},
     "output_type": "execute_result"
    }
   ],
   "source": [
    "res_coupled_model"
   ]
  },
  {
   "cell_type": "markdown",
   "id": "e3116698",
   "metadata": {},
   "source": [
    "## Retrieve results from dictionary"
   ]
  },
  {
   "cell_type": "code",
   "execution_count": 27,
   "id": "9ae10549",
   "metadata": {},
   "outputs": [],
   "source": [
    "# define first output time index of calculation phase (Note that this might not be the same as the time index which is\n",
    "# used during the calculation), this includes the output interval.\n",
    "first_calc_t_idx = 5000"
   ]
  },
  {
   "cell_type": "code",
   "execution_count": 28,
   "id": "3bf03557",
   "metadata": {},
   "outputs": [],
   "source": [
    "# Get displacement of each node of the train in the calculation phase\n",
    "disp_train = np.array(res_numerical['vertical_displacements_train'])[:,first_calc_t_idx:]\n",
    "\n",
    "# Get displacement of each node of the train in the calculation phase\n",
    "vert_force_train = np.array(res_numerical['vertical_force_train'])[:,first_calc_t_idx:]\n",
    "\n",
    "# get calculation time\n",
    "time = np.array(res_numerical['time'])[first_calc_t_idx:]\n",
    "\n",
    "# define delta time\n",
    "dt = np.diff(time)\n",
    "\n",
    "# get velocity in the calculation phase\n",
    "velocity = np.array(res_numerical['velocity'])[first_calc_t_idx:]\n",
    "\n",
    "# determine traveled distance\n",
    "distance = np.insert(np.cumsum(dt*velocity[1:]),0,0)\n",
    "\n",
    "# get vertical displacement in the soil during calculation phase\n",
    "vertical_displacements_soil = np.array(res_numerical['vertical_displacements_soil'])[:,first_calc_t_idx:]\n",
    "\n",
    "# get vertical force in the soil during calculation phase\n",
    "vertical_force_soil = np.array(res_numerical['vertical_force_soil'])[:,first_calc_t_idx:]\n",
    "\n",
    "# get vertical force in the rail during calculation phase\n",
    "vertical_force_rail = np.array(res_numerical['vert_force_rail'])[:,first_calc_t_idx:]\n",
    "\n",
    "# get vertical displacements of the rail during calculation phase\n",
    "vertical_displacements_rail = np.array(res_numerical['vert_disp_rail'])[:,first_calc_t_idx:]"
   ]
  },
  {
   "cell_type": "code",
   "execution_count": 29,
   "id": "0b0fee86",
   "metadata": {},
   "outputs": [
    {
     "data": {
      "image/png": "[encoded data removed]",
      "text/plain": [
       "<Figure size 750x420 with 2 Axes>"
      ]
     },
     "metadata": {},
     "output_type": "display_data"
    }
   ],
   "source": [
    "# plot vertical force and displacement of the rail at one node\n",
    "fig, (ax1, ax2) = plt.subplots(2)\n",
    "\n",
    "rail_node_nbr = 100\n",
    "ax1.plot(time[:], vertical_force_rail[rail_node_nbr, :])\n",
    "ax2.plot(time[:], vertical_displacements_rail[rail_node_nbr, :])\n",
    "\n",
    "ax1.set_xlabel('time [s]')\n",
    "ax1.set_ylabel('Force [N]')\n",
    "\n",
    "ax2.set_xlabel('time [s]')\n",
    "ax2.set_ylabel('Displacement [m]')\n",
    "\n",
    "fig.set_size_inches(7.5, 4.2)\n",
    "\n",
    "plt.show()"
   ]
  },
  {
   "cell_type": "markdown",
   "id": "68924613",
   "metadata": {},
   "source": [
    "## Calculate strain in rail"
   ]
  },
  {
   "cell_type": "markdown",
   "id": "d4173b21",
   "metadata": {},
   "source": [
    "Strain in the rail is calculated per element and per time step. In order to calculate the strain at a certain point, the correct rail element and the correct timestep has to be selected. "
   ]
  },
  {
   "cell_type": "code",
   "execution_count": 30,
   "id": "3e167372",
   "metadata": {},
   "outputs": [],
   "source": [
    "# set distance from sleeper of the strain to be calculated\n",
    "strain_distance=0.2\n",
    "\n",
    "# get rail element, note that the rail elements are sorted from left to right.\n",
    "element_index = 99\n",
    "\n",
    "rail_element = rail_model_part.elements[element_index]\n",
    "\n",
    "# get rail modelpart\n",
    "rail_model_part = coupled_model.track.model_parts[rail_index]\n",
    "\n",
    "# get degree of freedom indices of element\n",
    "dof_indices = []\n",
    "for node in rail_element.nodes:\n",
    "    dof_indices.extend(node.index_dof)\n",
    "\n",
    "# get displacement of rail element at each time step\n",
    "displacements_rail_element = coupled_model.solver.u[:,dof_indices]\n",
    "\n",
    "\n",
    "strains = []\n",
    "for t_index, t in enumerate(coupled_model.time):\n",
    "    strains.append(rail_model_part.calculate_strain(strain_distance, displacements_rail_element[t_index,:]))"
   ]
  },
  {
   "cell_type": "markdown",
   "id": "ff1070d2",
   "metadata": {},
   "source": [
    "## Plot strain\n"
   ]
  },
  {
   "cell_type": "code",
   "execution_count": 31,
   "id": "a6a24ace",
   "metadata": {},
   "outputs": [
    {
     "data": {
      "image/png": "[encoded data removed]",
      "text/plain": [
       "<Figure size 640x480 with 1 Axes>"
      ]
     },
     "metadata": {},
     "output_type": "display_data"
    }
   ],
   "source": [
    "plt.plot(coupled_model.time, strains)\n",
    "\n",
    "plt.xlabel('Time [s]')\n",
    "plt.ylabel('Strain [-]')\n",
    "plt.legend(['Strain top', 'Strain bottom'])\n",
    "plt.show()"
   ]
  }
 ],
 "metadata": {
  "kernelspec": {
   "display_name": "Python 3 (ipykernel)",
   "language": "python",
   "name": "python3"
  },
  "language_info": {
   "codemirror_mode": {
    "name": "ipython",
    "version": 3
   },
   "file_extension": ".py",
   "mimetype": "text/x-python",
   "name": "python",
   "nbconvert_exporter": "python",
   "pygments_lexer": "ipython3",
   "version": "3.11.2"
  }
 },
 "nbformat": 4,
 "nbformat_minor": 5
}
