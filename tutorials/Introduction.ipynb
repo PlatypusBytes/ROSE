{
 "cells": [
  {
   "cell_type": "markdown",
   "id": "5b354b15",
   "metadata": {},
   "source": [
    "# Setting up ROSE\n",
    "\n",
    "\n",
    "* Use ROSE as a user\n",
    "\n",
    "* Use ROSE as a developer\n"
   ]
  },
  {
   "cell_type": "markdown",
   "id": "707ce744",
   "metadata": {},
   "source": [
    "\n",
    "## Set-up environment\n",
    "\n",
    "It is adviced to work with Python virtual environments. \n",
    "\n",
    "The main purpose of Python [virtual environments](https://docs.python.org/3/tutorial/venv.html) is to create an isolated environment for Python projects. This means that each project can have its own dependencies, regardless of what dependencies every other project has. This avoids issues with packages dependencies.\n",
    "\n",
    "The virtual environment should be installed and activated in order to run this tutorial. You can [venv](https://docs.python.org/3/library/venv.html) or [conda](https://anaconda.org/) as package/environment management system. All the commands should be run from the command prompt. \n",
    "\n",
    "### Venv\n",
    "To create a virtual environment using venv:\n",
    "\n",
    "`python -m venv ./venv`\n",
    "\n",
    "To activate the environment:\n",
    "\n",
    "`source ./venv/bin/activate`\n",
    "\n",
    "To run this notebook jupiter notebook should be installed on the virtual enviroment.\n",
    "To install the jupiter run:\n",
    "\n",
    "`pip install notebook`\n",
    "\n",
    "To run the notebook run:\n",
    "\n",
    "`jupyter notebook`\n",
    "\n",
    "### Conda\n",
    "\n",
    "All the commands should be run from a conda command prompt.\n",
    "\n",
    "To create a virtual environment using conda:\n",
    "\n",
    "`conda create -n rose python=3.10`\n",
    "\n",
    "To activate the environment:\n",
    "\n",
    "`conda activate rose`\n",
    "\n",
    "To run this notebook jupiter notebook should be installed on the virtual enviroment.\n",
    "To install the jupiter run:\n",
    "\n",
    "`conda install notebook`\n",
    "\n",
    "To run the notebook run:\n",
    "\n",
    "`jupyter notebook`\n"
   ]
  },
  {
   "cell_type": "markdown",
   "id": "a59c487e",
   "metadata": {},
   "source": [
    "## ROSE as a user"
   ]
  },
  {
   "cell_type": "markdown",
   "id": "bbf0de2c",
   "metadata": {},
   "source": [
    "If you are using ROSE you simply need to install the ROSE package on your environment:\n",
    "\n",
    "`pip install git+https://github.com/PlatypusBytes/ROSE.git`"
   ]
  },
  {
   "cell_type": "code",
   "execution_count": null,
   "id": "78d6f8c5",
   "metadata": {},
   "outputs": [],
   "source": [
    "import rose\n",
    "from run_rose import demo"
   ]
  },
  {
   "cell_type": "code",
   "execution_count": null,
   "id": "547e48a4",
   "metadata": {},
   "outputs": [],
   "source": [
    "demo.main()"
   ]
  },
  {
   "cell_type": "markdown",
   "id": "b1295b94",
   "metadata": {},
   "source": [
    "## ROSE as a developer"
   ]
  },
  {
   "cell_type": "markdown",
   "id": "f5ea7757",
   "metadata": {},
   "source": [
    "To use ROSE as a developer you need to clone the ROSE repository into your local machine:\n",
    "\n",
    "`git clone git+https://github.com/PlatypusBytes/ROSE.git`\n",
    "\n",
    "Everytime you want to work on it it is good practice to to make sure that the code is up-to-date.\n",
    "You can update you code by running the following git command inside the project folder:\n",
    "\n",
    "`git pull`\n",
    "\n",
    "Once you cloned the repository you should have a similar structure in your machine:\n",
    "\n",
    "<img src=\"static/folder_struct.png\" width=\"400\">\n"
   ]
  },
  {
   "attachments": {},
   "cell_type": "markdown",
   "id": "42ffeaa8",
   "metadata": {},
   "source": [
    "To contribute you need install the environmental file that it is available on the repository. Navigate to the location where you repository is installed. \n",
    "\n",
    "If you do not have yet the ROSE virtual environment installed, you need to create the environment, as shown above.\n",
    "\n",
    "Then you need to install the ROSE package into your environment:\n",
    "\n",
    "`pip install -e .[testing]`\n"
   ]
  },
  {
   "cell_type": "markdown",
   "id": "4d5409b6",
   "metadata": {},
   "source": [
    "You can now open the ROSE project into your prefered IDE and edit the code.\n",
    "\n",
    "<img src=\"static/VScode.png\" width=\"800\">"
   ]
  },
  {
   "cell_type": "markdown",
   "id": "2b62b60a",
   "metadata": {},
   "source": [
    "### How to contribute"
   ]
  },
  {
   "cell_type": "markdown",
   "id": "311e5a5b",
   "metadata": {},
   "source": [
    "In order to contribute to the ROSE your modification should be done in a branch. Once you are happy with the changes that you made in your branch, and all the existing tests pass on your branch, you can make a pull request. Deltares will manage the pull requests, to make sure that:\n",
    "* the existing code does not break existing features\n",
    "* the new code quality complies with the desired quality level\n",
    "* the new code is provided with testing and documentation\n",
    "\n",
    "_Example of a good function:_\n",
    "\n",
    "<img src=\"static/good_ex.png\" width=\"800\">\n"
   ]
  }
 ],
 "metadata": {
  "kernelspec": {
   "display_name": "Python 3 (ipykernel)",
   "language": "python",
   "name": "python3"
  },
  "language_info": {
   "codemirror_mode": {
    "name": "ipython",
    "version": 3
   },
   "file_extension": ".py",
   "mimetype": "text/x-python",
   "name": "python",
   "nbconvert_exporter": "python",
   "pygments_lexer": "ipython3",
   "version": "3.11.5"
  }
 },
 "nbformat": 4,
 "nbformat_minor": 5
}
