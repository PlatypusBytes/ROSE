{
 "cells": [
  {
   "cell_type": "markdown",
   "id": "00eb345a",
   "metadata": {},
   "source": [
    "# Subsoil schematisation and parametrisation"
   ]
  },
  {
   "cell_type": "markdown",
   "id": "5495955c",
   "metadata": {},
   "source": [
    "In order to run the ROSE model it is necessary to have information about the subsoil. \n",
    "\n",
    "For the analysis of railway lines the build-up of the subsoil plays a critical role on the behaviour of the infrastructure. Railway tracks cover large lenghts of different subsoil conditions, therefore it is necessary to take into account the subsoil spatial variability.\n",
    "\n",
    "In ROSE the subsoil and the effect of its variability on the response of railway tracks, has been accounted for by means of a stochastic subsoil model. The stochastic subsoil model defines build-up scenario’s that are constructedby combining subsoil information (such as in situ and laboratory geotechnical testing) with geological knowledge. This approach has been derived from the guidelines to assess and design flood defences in the Netherlands.\n",
    "\n",
    "The SOS is available for the entire A2 corridor. The SOS is being extended to cover the entire ProRail network."
   ]
  },
  {
   "cell_type": "markdown",
   "id": "408460e1",
   "metadata": {},
   "source": [
    "## Create the SOS for the A2 corridor\n",
    "The processing of the SOS is available under data_proc"
   ]
  },
  {
   "cell_type": "code",
   "execution_count": null,
   "id": "1b4702da",
   "metadata": {},
   "outputs": [],
   "source": [
    "import numpy as np\n",
    "from data_proc import SoS"
   ]
  },
  {
   "cell_type": "code",
   "execution_count": null,
   "id": "ca3e8d78",
   "metadata": {},
   "outputs": [],
   "source": [
    "sos = SoS.ReadSosScenarios(\"../data/SoS/soilprofiles.csv\",\n",
    "                           \"../data/SoS/20201102_Prorail_parameters_SOS.csv\",\n",
    "                           \"../data/SoS/segments.csv\",\n",
    "                           \"../data/SoS/Segments_TKI_v2.shp\"\n",
    "                          )"
   ]
  },
  {
   "cell_type": "code",
   "execution_count": null,
   "id": "176cdcf4",
   "metadata": {},
   "outputs": [],
   "source": [
    "sos.SOS"
   ]
  },
  {
   "cell_type": "code",
   "execution_count": null,
   "id": "1707912e",
   "metadata": {},
   "outputs": [],
   "source": [
    "sos.create_segments()"
   ]
  },
  {
   "cell_type": "code",
   "execution_count": null,
   "id": "87fceb44",
   "metadata": {},
   "outputs": [],
   "source": [
    "sos.SOS"
   ]
  },
  {
   "cell_type": "code",
   "execution_count": null,
   "id": "3e999fcb",
   "metadata": {},
   "outputs": [],
   "source": [
    "sos.dump(\"./results/sos.json\")"
   ]
  },
  {
   "cell_type": "code",
   "execution_count": null,
   "id": "9a477e9f",
   "metadata": {},
   "outputs": [],
   "source": [
    "sos.plot_sos(output_folder=\"./results/SOS_plots\")"
   ]
  },
  {
   "cell_type": "markdown",
   "id": "e1515bf3",
   "metadata": {},
   "source": [
    "## Determine the subsoil stiffness and damping properties\n",
    "\n",
    "The dynamic soil spring stiffness and dashpot damping, that are required for the dynamic train-track analyses, were computed by means of a semi-analytical cone model based on one-dimensional wave propagation. This model assumes that the load is applied to a disk at the surface, which induces stresses on an area that increases with depth; the displacements are constant at the cross section of the cone. Discontinuities can be modelled by assuming at the interface between two layers that one cone leads to the creation of two new cones: reflected and refracted. This allows the modelling of multi-layered soils. The cone method has been extensively applied, because it has the advantage of providing an accurate numerical solution with limited computational efforts. In ROSE, the dynamic stiffness, Kdyn and damping, D, follow the definition:\n",
    "\n",
    "<img src=\"https://render.githubusercontent.com/render/math?math=K_{dyn}=\\Re \\left(S\\right)\">\n",
    "<img src=\"https://render.githubusercontent.com/render/math?math=D=\\frac{\\Im \\left(S \\right)}{\\omega}\">\n",
    "\n",
    "where S is the dynamic stiffness matrix (complex frequency response function) and ω the angular frequency."
   ]
  },
  {
   "cell_type": "markdown",
   "id": "430b7d15",
   "metadata": {},
   "source": [
    "### Define the ballast properties\n",
    "The SOS only contains the subsoil. The ballast needs to be added"
   ]
  },
  {
   "cell_type": "code",
   "execution_count": null,
   "id": "18b835d9",
   "metadata": {},
   "outputs": [],
   "source": [
    "G0 = 40e6\n",
    "poisson = 0.2\n",
    "density = 2000\n",
    "damping = 0.05\n",
    "thickness = 1\n",
    "ballast = [\"ballast\", G0, poisson, density, damping, thickness]"
   ]
  },
  {
   "cell_type": "code",
   "execution_count": null,
   "id": "8566ada8",
   "metadata": {},
   "outputs": [],
   "source": [
    "from run_rose import run_wolf"
   ]
  },
  {
   "cell_type": "code",
   "execution_count": null,
   "id": "62cf9388",
   "metadata": {},
   "outputs": [],
   "source": [
    "new_soil = run_wolf.read_file(r\"./results/sos.json\", ballast)"
   ]
  },
  {
   "cell_type": "code",
   "execution_count": null,
   "id": "ceef2d5e",
   "metadata": {},
   "outputs": [],
   "source": [
    "\n",
    "for soil in new_soil:\n",
    "    print(soil[0])"
   ]
  },
  {
   "cell_type": "code",
   "execution_count": null,
   "id": "2b59b851",
   "metadata": {},
   "outputs": [],
   "source": [
    "# run wolf for the first two segments : 15 files\n",
    "omega = np.linspace(0, 314, 100)\n",
    "run_wolf.run_wolf(new_soil[:15], omega, output=r\"./results/dyn_stiffness\", plots=True)"
   ]
  },
  {
   "cell_type": "code",
   "execution_count": null,
   "id": "9879d034",
   "metadata": {},
   "outputs": [],
   "source": [
    "import json\n",
    "with open(r'./results/dyn_stiffness/Kdyn_Segment 1001_scenario 1.json', \"r\") as f:\n",
    "    data = json.load(f)\n",
    "print(data.keys())"
   ]
  },
  {
   "cell_type": "code",
   "execution_count": null,
   "id": "f75036af",
   "metadata": {},
   "outputs": [],
   "source": [
    "import matplotlib.pylab as plt\n",
    "from data_proc import sensar\n",
    "sensar_data = sensar.read_geopackage(\"../data/Sensar/data.gpkg\")"
   ]
  },
  {
   "cell_type": "markdown",
   "id": "b0c58c44",
   "metadata": {},
   "source": [
    "## Update SOS with InSar data\n",
    "InSar data is available for the A2 corridor (through Sensar).\n",
    "In data_proc there are tools to read and process the InSar dataset."
   ]
  },
  {
   "cell_type": "code",
   "execution_count": null,
   "id": "c1cb885a",
   "metadata": {},
   "outputs": [],
   "source": [
    "sensar_data[\"1\"].keys()"
   ]
  },
  {
   "cell_type": "code",
   "execution_count": null,
   "id": "79ac54ef",
   "metadata": {},
   "outputs": [],
   "source": [
    "plt.plot(sensar_data[\"1\"][\"dates\"], sensar_data[\"1\"][\"settlements\"])"
   ]
  },
  {
   "cell_type": "code",
   "execution_count": null,
   "id": "1bfb07cb",
   "metadata": {},
   "outputs": [],
   "source": [
    "sensar.save_sensar_data(sensar_data, \"./results/settlements.pickle\")"
   ]
  },
  {
   "cell_type": "code",
   "execution_count": null,
   "id": "a9af809a",
   "metadata": {},
   "outputs": [],
   "source": [
    "name = \"Segment 1030\"\n",
    "sos.SOS[name]\n",
    "\n",
    "# get coordinates of current segments\n",
    "coordinates = np.array(list(sos.SOS[name].values())[0]['coordinates'])\n",
    "\n",
    "# get coordinate limits\n",
    "xlim = [min(coordinates[:,0]), max(coordinates[:,0])]\n",
    "ylim = [min(coordinates[:,1]), max(coordinates[:,1])]     \n",
    "\n",
    "# get date limits from sensar data and fugro data\n",
    "sensar_dates = list(sensar_data.values())[0][\"dates\"]\n",
    "\n",
    "# add plot of Sensar settlement measurements within the current segment\n",
    "sensar_items_within_bounds = sensar.get_all_items_within_bounds(sensar_data, xlim, ylim)\n",
    "if sensar_items_within_bounds:\n",
    "    _, _ = sensar.plot_settlements_from_item_list_over_time(sensar_items_within_bounds,date_lim=[min(sensar_dates), max(sensar_dates)])\n",
    "    plt.grid()"
   ]
  },
  {
   "cell_type": "markdown",
   "id": "d6302263",
   "metadata": {},
   "source": [
    "The data can be filtered using Kalman Filtering.\n"
   ]
  },
  {
   "cell_type": "code",
   "execution_count": null,
   "id": "6ab2a16e",
   "metadata": {},
   "outputs": [],
   "source": [
    "sensar_filtered = sensar.filter_dataset(sensar_data)\n",
    "sensar.save_sensar_data(sensar_filtered, \"./results/settlements_filtered.pickle\")"
   ]
  },
  {
   "cell_type": "code",
   "execution_count": null,
   "id": "33ff387c",
   "metadata": {},
   "outputs": [],
   "source": [
    "name = \"Segment 1030\"\n",
    "sos.SOS[name]\n",
    "\n",
    "# get coordinates of current segments\n",
    "coordinates = np.array(list(sos.SOS[name].values())[0]['coordinates'])\n",
    "\n",
    "# get coordinate limits\n",
    "xlim = [min(coordinates[:,0]), max(coordinates[:,0])]\n",
    "ylim = [min(coordinates[:,1]), max(coordinates[:,1])]     \n",
    "\n",
    "# get date limits from sensar data and fugro data\n",
    "sensar_dates = list(sensar_filtered.values())[0][\"dates\"]\n",
    "\n",
    "# add plot of Sensar settlement measurements within the current segment\n",
    "sensar_items_within_bounds = sensar.get_all_items_within_bounds(sensar_filtered, xlim, ylim)\n",
    "if sensar_items_within_bounds:\n",
    "    _, _ = sensar.plot_settlements_from_item_list_over_time(sensar_items_within_bounds,date_lim=[min(sensar_dates), max(sensar_dates)])\n",
    "    plt.grid()\n"
   ]
  },
  {
   "cell_type": "markdown",
   "id": "4dd8c045",
   "metadata": {},
   "source": [
    "### Clustering of data\n",
    "The InSar data is used to perform clustering of the SOS types along the network.\n",
    "\n",
    "The clustering is done by K-means.\n",
    "\n",
    "<img src=\"static/k_means.png\" width=\"600\">\n",
    "\n",
    "The clustering is performed at each SOS segment, with the InSar data that is within that SOS segment. The number of classes corresponds to the number of scenarios of the segment.\n"
   ]
  },
  {
   "cell_type": "code",
   "execution_count": null,
   "id": "25c2e313",
   "metadata": {},
   "outputs": [],
   "source": [
    "from data_proc import cluster\n",
    "\n",
    "cluster.main(\"./results/settlements.pickle\", \"./results/sos.json\", \"./results/clustering\", coord=True, plot=True)"
   ]
  },
  {
   "cell_type": "code",
   "execution_count": null,
   "id": "79846a5c",
   "metadata": {},
   "outputs": [],
   "source": [
    "cluster.main(\"./results/settlements_filtered.pickle\", \"./results/sos.json\", \"./results/clustering_filtered\", coord=True, plot=True)"
   ]
  }
 ],
 "metadata": {
  "kernelspec": {
   "display_name": "Python 3 (ipykernel)",
   "language": "python",
   "name": "python3"
  },
  "language_info": {
   "codemirror_mode": {
    "name": "ipython",
    "version": 3
   },
   "file_extension": ".py",
   "mimetype": "text/x-python",
   "name": "python",
   "nbconvert_exporter": "python",
   "pygments_lexer": "ipython3",
   "version": "3.11.5"
  }
 },
 "nbformat": 4,
 "nbformat_minor": 5
}
