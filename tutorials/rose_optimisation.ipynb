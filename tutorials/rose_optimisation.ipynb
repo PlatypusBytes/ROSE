{
 "cells": [
  {
   "cell_type": "code",
   "execution_count": 3,
   "id": "1fbd5875",
   "metadata": {},
   "outputs": [
    {
     "ename": "ModuleNotFoundError",
     "evalue": "No module named 'data_proc'",
     "output_type": "error",
     "traceback": [
      "\u001b[31m---------------------------------------------------------------------------\u001b[39m",
      "\u001b[31mModuleNotFoundError\u001b[39m                       Traceback (most recent call last)",
      "\u001b[36mCell\u001b[39m\u001b[36m \u001b[39m\u001b[32mIn[3]\u001b[39m\u001b[32m, line 11\u001b[39m\n\u001b[32m      9\u001b[39m \u001b[38;5;28;01mfrom\u001b[39;00m\u001b[38;5;250m \u001b[39m\u001b[34;01mrose\u001b[39;00m\u001b[34;01m.\u001b[39;00m\u001b[34;01moptimisation\u001b[39;00m\u001b[34;01m.\u001b[39;00m\u001b[34;01moptimisation\u001b[39;00m\u001b[38;5;250m \u001b[39m\u001b[38;5;28;01mimport\u001b[39;00m Optimisation, OptimisationModelPart, ModelResults\n\u001b[32m     10\u001b[39m \u001b[38;5;28;01mfrom\u001b[39;00m\u001b[38;5;250m \u001b[39m\u001b[34;01mSignalProcessingTools\u001b[39;00m\u001b[34;01m.\u001b[39;00m\u001b[34;01mtime_signal\u001b[39;00m\u001b[38;5;250m \u001b[39m\u001b[38;5;28;01mimport\u001b[39;00m TimeSignalProcessing\n\u001b[32m---> \u001b[39m\u001b[32m11\u001b[39m \u001b[38;5;28;01mfrom\u001b[39;00m\u001b[38;5;250m \u001b[39m\u001b[34;01mdata_proc\u001b[39;00m\u001b[38;5;250m \u001b[39m\u001b[38;5;28;01mimport\u001b[39;00m ricardo, SoS\n",
      "\u001b[31mModuleNotFoundError\u001b[39m: No module named 'data_proc'"
     ]
    }
   ],
   "source": [
    "import os\n",
    "import pickle\n",
    "import json\n",
    "\n",
    "import numpy as np\n",
    "import matplotlib.pyplot as plt\n",
    "\n",
    "# import rose packages\n",
    "from rose.optimisation.optimisation import Optimisation, OptimisationModelPart, ModelResults\n",
    "from SignalProcessingTools.time_signal import TimeSignalProcessing\n",
    "from data_proc import ricardo, SoS\n"
   ]
  },
  {
   "cell_type": "markdown",
   "id": "4b9585c7",
   "metadata": {},
   "source": [
    "# Optimisation\n",
    "Note that, to use this notebook, the notebook \"rose_demo\" has to be completed"
   ]
  },
  {
   "cell_type": "markdown",
   "id": "33cd7f6d",
   "metadata": {},
   "source": [
    "# Read SoS"
   ]
  },
  {
   "cell_type": "code",
   "execution_count": null,
   "id": "a53a14e4",
   "metadata": {},
   "outputs": [],
   "source": [
    "sos_dir = \"../data/SoS\"\n",
    "sos = SoS.ReadSosScenarios(os.path.join(sos_dir, \"soilprofiles.csv\"),\n",
    "                               os.path.join(sos_dir, \"20201102_Prorail_parameters_SOS.csv\"),\n",
    "                               os.path.join(sos_dir, \"segments.csv\"),\n",
    "                               os.path.join(sos_dir, \"Segments_TKI_v2.shp\"))\n",
    "sos.create_segments()\n",
    "sos.dump(os.path.join(sos_dir, \"SOS.json\"))"
   ]
  },
  {
   "cell_type": "markdown",
   "id": "a97ed9f6",
   "metadata": {},
   "source": [
    "# Load SoS"
   ]
  },
  {
   "cell_type": "code",
   "execution_count": null,
   "id": "87755090",
   "metadata": {},
   "outputs": [],
   "source": [
    "with open(os.path.join(sos_dir, \"SOS.json\"), 'r') as f:\n",
    "    sos_data = json.load(f)"
   ]
  },
  {
   "cell_type": "markdown",
   "id": "8fb50f47",
   "metadata": {},
   "source": [
    "# Read Ricardo data"
   ]
  },
  {
   "cell_type": "code",
   "execution_count": null,
   "id": "c2e8d409",
   "metadata": {},
   "outputs": [],
   "source": [
    "ricardo_filenames = [r\"../data/Ricardo/Jan.json\",\n",
    "             r\"../data/Ricardo/Jun.json\",\n",
    "             ]\n",
    "ricardo_output_fn = r\"../data/Ricardo/inframon.pickle\"\n",
    "ricardo.read_inframon(ricardo_filenames, ricardo_output_fn)"
   ]
  },
  {
   "cell_type": "markdown",
   "id": "d72ce228",
   "metadata": {},
   "source": [
    "# Load Ricardo data"
   ]
  },
  {
   "cell_type": "code",
   "execution_count": null,
   "id": "da9b0df5",
   "metadata": {},
   "outputs": [],
   "source": [
    "ricardo_data = ricardo.load_inframon_data(ricardo_output_fn)"
   ]
  },
  {
   "cell_type": "markdown",
   "id": "0547876e",
   "metadata": {},
   "source": [
    "# Get SoS Coordinates\n"
   ]
  },
  {
   "cell_type": "code",
   "execution_count": null,
   "id": "27ddfe2a",
   "metadata": {},
   "outputs": [],
   "source": [
    "# get coordinates of a segment\n",
    "segment = sos_data[\"Segment 1030\"]\n",
    "coordinates = np.array(list(segment.values())[0]['coordinates'])\n",
    "\n",
    "# get coordinate limits\n",
    "xlim = [min(coordinates[:,0]), max(coordinates[:,0])]\n",
    "ylim = [min(coordinates[:,1]), max(coordinates[:,1])]"
   ]
  },
  {
   "cell_type": "markdown",
   "id": "8625ccd6",
   "metadata": {},
   "source": [
    "# Get Ricardo data within SoS limits"
   ]
  },
  {
   "cell_type": "code",
   "execution_count": null,
   "id": "bfca1a72",
   "metadata": {},
   "outputs": [],
   "source": [
    "ricardo_data_within_bounds = ricardo.get_data_within_bounds(ricardo_data[\"Jan\"], xlim, ylim)"
   ]
  },
  {
   "cell_type": "markdown",
   "id": "c6392d6b",
   "metadata": {},
   "source": [
    "# Check if data is valid\n",
    "The train velocity should be relatively constant over the bounded track, such that the acceleration signal is representative for a certain train speed at that point of the track"
   ]
  },
  {
   "cell_type": "markdown",
   "id": "4d694756",
   "metadata": {},
   "source": [
    "## check train velocity"
   ]
  },
  {
   "cell_type": "code",
   "execution_count": null,
   "id": "9b01bd68",
   "metadata": {},
   "outputs": [],
   "source": [
    "ricardo.plot_train_velocity(ricardo_data_within_bounds)\n",
    "plt.grid()"
   ]
  },
  {
   "cell_type": "markdown",
   "id": "d171b96a",
   "metadata": {},
   "source": [
    "## check acceleration signal"
   ]
  },
  {
   "cell_type": "code",
   "execution_count": null,
   "id": "85caca0f",
   "metadata": {},
   "outputs": [],
   "source": [
    "ricardo.plot_acceleration_signal(ricardo_data_within_bounds[\"time\"], ricardo_data_within_bounds[\"acc_side_1\"])\n",
    "plt.grid()"
   ]
  },
  {
   "cell_type": "markdown",
   "id": "7cb9b5b7",
   "metadata": {},
   "source": [
    "# Filter inframon signal"
   ]
  },
  {
   "cell_type": "code",
   "execution_count": null,
   "id": "b3333435",
   "metadata": {},
   "outputs": [],
   "source": [
    "# filter Ricardo measurements\n",
    "\n",
    "# set filter settings\n",
    "settings_filter = {\"FS\": 250,                   # acquisition frequency\n",
    "                   \"cut-off_high\": 120,         # high cutoff frequency\n",
    "                   \"cut-off_low\": 40,           # low cutoff frequency\n",
    "                   \"cut-off_low\": 40,           # low cutoff frequency\n",
    "                   \"n\": 10,                     # order of the filter\n",
    "                   \"smoothing_distance\": 10,    # distance of smoothed wavelength\n",
    "                   }\n",
    "                   }\n",
    "\n",
    "acceleration_data = ricardo_data_within_bounds[\"acc_side_1\"]\n",
    "\n",
    "# set ricardo signal\n",
    "ricardo_signal = TimeSignalProcessing(ricardo_data_within_bounds[\"time\"],acceleration_data, settings_filter[\"FS\"])\n",
    "\n",
    "\n",
    "# filter high frequencies\n",
    "ricardo_signal.filter(settings_filter[\"cut-off_high\"], settings_filter[\"n\"], type_filter=\"lowpass\")\n",
    "\n",
    "# filter low frequencies\n",
    "ricardo_signal.filter(settings_filter[\"cut-off_low\"], settings_filter[\"n\"], type_filter=\"highpass\")\n",
    "\n",
    "# copy filtered signal\n",
    "acc = np.copy(ricardo_signal.signal)\n"
   ]
  },
  {
   "cell_type": "code",
   "execution_count": null,
   "id": "981bbcb4",
   "metadata": {},
   "outputs": [],
   "source": [
    "# plot filtered signal\n",
    "ricardo.plot_acceleration_signal(ricardo_data_within_bounds[\"time\"], acc)\n",
    "plt.grid()"
   ]
  },
  {
   "cell_type": "markdown",
   "id": "cff87428",
   "metadata": {},
   "source": [
    "# Integrate acceleration signal to velocity signal\n",
    "\n"
   ]
  },
  {
   "cell_type": "code",
   "execution_count": null,
   "id": "22934975",
   "metadata": {},
   "outputs": [],
   "source": [
    "ricardo_signal.integrate(hp=True, moving=True, baseline=False, ini_cond=0)"
   ]
  },
  {
   "cell_type": "code",
   "execution_count": null,
   "id": "c99bc0d5",
   "metadata": {},
   "outputs": [],
   "source": [
    "ricardo.plot_velocity_signal(ricardo_data_within_bounds[\"time\"], ricardo_signal.signal)\n",
    "plt.grid()"
   ]
  },
  {
   "cell_type": "markdown",
   "id": "1218ce73",
   "metadata": {},
   "source": [
    "# Fast fourier transformation velocity signal"
   ]
  },
  {
   "cell_type": "code",
   "execution_count": null,
   "id": "d230d7e1",
   "metadata": {},
   "outputs": [],
   "source": [
    "# fast fourier transformation of velocity signal\n",
    "\n",
    "ricardo_signal.fft(half_representation=True)\n",
    "freq_velocity = ricardo_signal.frequency\n",
    "ampl_velocity = ricardo_signal.amplitude\n",
    "\n",
    "# smooth signal\n",
    "ampl_velocity = ricardo.smooth_signal_within_bounds_over_wave_length(ricardo_data_within_bounds, settings_filter[\"smoothing_distance\"], ampl_velocity)"
   ]
  },
  {
   "cell_type": "code",
   "execution_count": null,
   "id": "a8105f5f",
   "metadata": {},
   "outputs": [],
   "source": [
    "ricardo.plot_fft_velocity_signal(ricardo_data_within_bounds,acc, settings_filter[\"smoothing_distance\"])\n",
    "plt.grid()"
   ]
  },
  {
   "cell_type": "code",
   "execution_count": null,
   "id": "486f63cd",
   "metadata": {},
   "outputs": [],
   "source": [
    "# Get maximum velocity amplitude and corresponding frequency\n",
    "\n",
    "m_to_mm = 1000\n",
    "\n",
    "# maximum amplitude\n",
    "max_vel_ampl = ampl_velocity[np.argmax(ampl_velocity)] * m_to_mm\n",
    "# corresponding frequency\n",
    "freq_at_max_vel = freq_velocity[np.argmax(ampl_velocity)]"
   ]
  },
  {
   "cell_type": "code",
   "execution_count": null,
   "id": "2197b3ba",
   "metadata": {},
   "outputs": [],
   "source": [
    "max_vel_ampl, freq_at_max_vel"
    "max_vel_ampl, freq_at_max_vel"
   ]
  },
  {
   "cell_type": "markdown",
   "id": "77066458",
   "metadata": {},
   "source": [
    "# Check if frequency corresponds to the train speed\n",
    "In this example, sleepers have a distance from eachother of 0.6 m. From the ricardo data, we can see that the average train speed over the segment is approximately 128 km/h. The frequency at the highest signal velocity should correspond to this train speed."
   ]
  },
  {
   "cell_type": "code",
   "execution_count": null,
   "id": "179e947f",
   "metadata": {},
   "outputs": [],
   "source": [
    "train_speed_mps = 128/3.6         # train speed in m/s\n",
    "sleeper_dist = 0.6                # sleeper distance\n",
    "\n",
    "load_frequency = train_speed_mps/sleeper_dist"
   ]
  },
  {
   "cell_type": "code",
   "execution_count": null,
   "id": "13e7ebcf",
   "metadata": {},
   "outputs": [],
   "source": [
    "load_frequency"
   ]
  },
  {
   "cell_type": "markdown",
   "id": "6ce3d77b",
   "metadata": {},
   "source": [
    "# Update Rose model"
   ]
  },
  {
   "cell_type": "code",
   "execution_count": null,
   "id": "50b86ed9",
   "metadata": {},
   "outputs": [],
   "source": [
    "# load results from rose demo\n",
    "\n",
    "output_dir = \"res\"\n",
    "\n",
    "with open(os.path.join(output_dir, \"all_results.pickle\"), 'rb') as f:\n",
    "    coupled_model = pickle.load(f)[\"coupled_model\"]"
   ]
  },
  {
   "cell_type": "code",
   "execution_count": null,
   "id": "299e3835",
   "metadata": {},
   "outputs": [],
   "source": [
    "coupled_model.train.velocities"
   ]
  },
  {
   "cell_type": "markdown",
   "id": "d1df91a8",
   "metadata": {},
   "source": [
    "## reset velocities\n"
   ]
  },
  {
   "cell_type": "code",
   "execution_count": null,
   "id": "dac9f3b7",
   "metadata": {},
   "outputs": [],
   "source": [
    "# set velocity of train\n",
    "velocities = np.ones(len(coupled_model.time)) * train_speed_mps\n",
    "\n",
    "# prevent train from moving in initialisation phase\n",
    "velocities[0:len(coupled_model.initialisation_time)] = 0\n",
    "coupled_model.train.velocities = velocities"
   ]
  },
  {
   "cell_type": "code",
   "execution_count": null,
   "id": "8ea70e55",
   "metadata": {},
   "outputs": [],
   "source": [
    "# set more robust solver\n",
    "from solvers.newmark_solver import NewmarkImplicitForce\n",
    "solver = NewmarkImplicitForce()\n",
    "coupled_model.solver = solver"
   ]
  },
  {
   "cell_type": "markdown",
   "id": "5b522fcc",
   "metadata": {},
   "source": [
    "# Set optimisation parameters"
   ]
  },
  {
   "cell_type": "code",
   "execution_count": null,
   "id": "5bb3a874",
   "metadata": {},
   "outputs": [],
   "source": [
    "optimisation = Optimisation()\n",
    "optimisation.model=coupled_model\n",
    "optimisation.observations =[freq_at_max_vel, max_vel_ampl]\n",
    "\n",
    "\n",
    "optimisation_model_part = OptimisationModelPart()\n",
    "optimisation_model_part.model_part = coupled_model.track.model_parts[4] # soil\n",
    "\n",
    "# set the parameter in the corresponding model part which should be optimised\n",
    "optimisation_model_part.optimisation_parameter_names = [\"stiffness\"]"
   ]
  },
  {
   "cell_type": "markdown",
   "id": "91721a0e",
   "metadata": {},
   "source": [
    "# Set model result settings"
   ]
  },
  {
   "cell_type": "markdown",
   "id": "38d9bae8",
   "metadata": {},
   "source": [
    "## create a function to perform a fast fourier transformation on rose output"
   ]
  },
  {
   "cell_type": "code",
   "execution_count": null,
   "id": "97835d9f",
   "metadata": {},
   "outputs": [],
   "source": [
    "def results_function(signal, aq_freq):\n",
    "    \"\"\"\n",
    "    Results function to be performed after a coupled calculation\n",
    "\n",
    "    This functoin takes a signal, performs a fast fourier transformation and returns\n",
    "    the maximum amplitude in the frequency domain and the corresponding frequency\n",
    "\n",
    "    This functoin takes a signal, performs a fast fourier transformation and returns\n",
    "    the maximum amplitude in the frequency domain and the corresponding frequency\n",
    "\n",
    "    :param signal: signal to be processed\n",
    "    :param aq_freq: aquisition frequency\n",
    "    :return:\n",
    "    \"\"\"\n",
    "    from SignalProcessingTools.signal_tools import Signal\n",
    "    import matplotlib.pyplot as plt\n",
    "\n",
    "\n",
    "    # set signal\n",
    "    sig = Signal(0,signal[:,0], aq_freq[0])\n",
    "\n",
    "    # filter signal\n",
    "    sig.filter(40, 6, type_filter=\"highpass\")\n",
    "\n",
    "    # fast fourier transformation\n",
    "    sig.fft(half_representation=True)\n",
    "    freq = sig.frequency\n",
    "    ampl = sig.amplitude\n",
    "\n",
    "    # get maximum amplitude and corresponding frequency\n",
    "    max_ampl_idx = np.argmax(ampl)\n",
    "    max_freq = freq[max_ampl_idx]\n",
    "    max_ampl = ampl[max_ampl_idx]\n",
    "    return max_freq, max_ampl"
   ]
  },
  {
   "cell_type": "markdown",
   "id": "59c9244c",
   "metadata": {},
   "source": [
    "## the results to be transformed are the velocities in the front wheel of the train"
   ]
  },
  {
   "cell_type": "code",
   "execution_count": null,
   "id": "404b3450",
   "metadata": {},
   "outputs": [],
   "source": [
    "coupled_model.velocities_out"
   ]
  },
  {
   "cell_type": "markdown",
   "id": "5b52f407",
   "metadata": {},
   "source": [
    "## get the vertical displacement degree of freedom index of the front wheel of the train"
   ]
  },
  {
   "cell_type": "code",
   "execution_count": null,
   "id": "d39206c9",
   "metadata": {},
   "outputs": [],
   "source": [
    "result_index = coupled_model.train.wheels[-1].nodes[0].index_dof[1]"
   ]
  },
  {
   "cell_type": "code",
   "execution_count": null,
   "id": "c340270a",
   "metadata": {},
   "outputs": [],
   "source": [
    "coupled_model.velocities_out[result_index,:]"
   ]
  },
  {
   "cell_type": "code",
   "execution_count": null,
   "id": "9c9ca625",
   "metadata": {},
   "outputs": [],
   "source": [
    "model_results = ModelResults()\n",
    "\n",
    "# set name of result attribute as present in the coupled model\n",
    "model_results.result_names = [\"velocities_out\"]\n",
    "# set the index of the result to be used\n",
    "model_results.result_indices = [result_index]\n",
    "# set the timesteps to be used for the optimisation\n",
    "model_results.time_step_indices = np.arange(int(len(coupled_model.initialisation_time)),int(len(coupled_model.time)))\n",
    "# set result function\n",
    "model_results.result_function = results_function"
   ]
  },
  {
   "cell_type": "code",
   "execution_count": null,
   "id": "08872506",
   "metadata": {},
   "outputs": [],
   "source": [
    "# calculate aquisition frequency\n",
    "dt = np.diff(coupled_model.time)[-1]\n",
    "\n",
    "aq_freq = 1/dt\n",
    "\n",
    "# set model results arguments\n",
    "model_results.args =[aq_freq]"
   ]
  },
  {
   "cell_type": "markdown",
   "id": "901a0244",
   "metadata": {},
   "source": [
    "## Initialise optimisation algorithm\n",
    "The optimisation algorithm which is used is the levenberg marquart algorithm. Which is a gradient based algorithm which works efficiently when only a few parameters are to be optimised and the problem is not highly non-linear."
   ]
  },
  {
   "cell_type": "code",
   "execution_count": null,
   "id": "13de0428",
   "metadata": {},
   "outputs": [],
   "source": [
    "optimisation.model_results = [model_results]\n",
    "optimisation.optimisation_model_parts = [optimisation_model_part]\n",
    "optimisation.initialise()"
   ]
  },
  {
   "cell_type": "markdown",
   "id": "bef84dbe",
   "metadata": {},
   "source": [
    "## perform optimisation"
   ]
  },
  {
   "cell_type": "code",
   "execution_count": null,
   "id": "b8d5fa10",
   "metadata": {},
   "outputs": [],
   "source": [
    "initial_guess_stiffness = 5e7"
   ]
  },
  {
   "cell_type": "code",
   "execution_count": null,
   "id": "33e79679",
   "metadata": {},
   "outputs": [],
   "source": [
    "optimisation.least_square(np.array([initial_guess_stiffness]), ftol=1e-8)"
   ]
  }
 ],
 "metadata": {
  "kernelspec": {
   "display_name": "venv",
   "language": "python",
   "name": "python3"
  },
  "language_info": {
   "codemirror_mode": {
    "name": "ipython",
    "version": 3
   },
   "file_extension": ".py",
   "mimetype": "text/x-python",
   "name": "python",
   "nbconvert_exporter": "python",
   "pygments_lexer": "ipython3",
   "version": "3.11.11"
  }
 },
 "nbformat": 4,
 "nbformat_minor": 5
}
