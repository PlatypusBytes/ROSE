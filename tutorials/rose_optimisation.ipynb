{
 "cells": [
  {
   "cell_type": "code",
   "execution_count": 45,
   "id": "1fbd5875",
   "metadata": {},
   "outputs": [],
   "source": [
    "import os\n",
    "import pickle\n",
    "import json\n",
    "\n",
    "import numpy as np\n",
    "import matplotlib.pyplot as plt\n",
    "\n",
    "# import rose packages\n",
    "from rose.optimisation.optimisation import Optimisation, OptimisationModelPart, ModelResults\n",
    "from SignalProcessing.signal_tools import Signal\n",
    "from data_proc import ricardo, SoS\n"
   ]
  },
  {
   "cell_type": "markdown",
   "id": "4b9585c7",
   "metadata": {},
   "source": [
    "# Optimisation\n",
    "Note that, to use this notebook, the notebook \"rose_demo\" has to be completed"
   ]
  },
  {
   "cell_type": "markdown",
   "id": "33cd7f6d",
   "metadata": {},
   "source": [
    "# Read SoS"
   ]
  },
  {
   "cell_type": "code",
   "execution_count": 5,
   "id": "a53a14e4",
   "metadata": {},
   "outputs": [],
   "source": [
    "sos_dir = \"../data/SoS\"\n",
    "sos = SoS.ReadSosScenarios(os.path.join(sos_dir, \"soilprofiles.csv\"),\n",
    "                               os.path.join(sos_dir, \"20201102_Prorail_parameters_SOS.csv\"),\n",
    "                               os.path.join(sos_dir, \"segments.csv\"),\n",
    "                               os.path.join(sos_dir, \"Segments_TKI_v2.shp\"))\n",
    "sos.create_segments()\n",
    "sos.dump(os.path.join(sos_dir, \"SOS.json\"))"
   ]
  },
  {
   "cell_type": "markdown",
   "id": "a97ed9f6",
   "metadata": {},
   "source": [
    "# Load SoS"
   ]
  },
  {
   "cell_type": "code",
   "execution_count": 6,
   "id": "87755090",
   "metadata": {},
   "outputs": [],
   "source": [
    "with open(os.path.join(sos_dir, \"SOS.json\"), 'r') as f:\n",
    "    sos_data = json.load(f)"
   ]
  },
  {
   "cell_type": "markdown",
   "id": "8fb50f47",
   "metadata": {},
   "source": [
    "# Read Ricardo data"
   ]
  },
  {
   "cell_type": "code",
   "execution_count": 7,
   "id": "c2e8d409",
   "metadata": {},
   "outputs": [
    {
     "data": {
      "text/plain": [
       "{'Jan': {'time': array([0.000000e+00, 4.000000e-03, 8.000000e-03, ..., 3.929992e+03,\n",
       "         3.929996e+03, 3.930000e+03]),\n",
       "  'coordinates': array([[161519.2720761 , 383816.20233933],\n",
       "         [161519.26484456, 383816.20322003],\n",
       "         [161519.25761303, 383816.20410071],\n",
       "         ...,\n",
       "         [123020.82541223, 484367.9768349 ],\n",
       "         [123020.82391575, 484367.98426241],\n",
       "         [123020.82241927, 484367.99168992]]),\n",
       "  'speed': array([1.931636  , 1.93704384, 1.94245168, ..., 1.74179859, 1.7283753 ,\n",
       "         1.714952  ]),\n",
       "  'acc_side_1': array([0.16322143, 0.10544159, 0.03208939, ..., 0.06827947, 0.06612804,\n",
       "         0.07611204]),\n",
       "  'acc_side_2': array([-0.31587233, -0.03515124,  0.01806325, ...,  0.02656312,\n",
       "          0.02042447,  0.02461162]),\n",
       "  'segment': array(['', '', '', ..., '', '', ''], dtype='<U12')},\n",
       " 'Jun': {'time': array([0.000000e+00, 4.000000e-03, 8.000000e-03, ..., 3.938992e+03,\n",
       "         3.938996e+03, 3.939000e+03]),\n",
       "  'coordinates': array([[161514.0732546 , 383849.23726018],\n",
       "         [161514.060826  , 383849.24288091],\n",
       "         [161514.04839739, 383849.24850164],\n",
       "         ...,\n",
       "         [120005.84071657, 483572.54296934],\n",
       "         [120005.8408983 , 483572.54296806],\n",
       "         [120005.84108004, 483572.54296677]]),\n",
       "  'speed': array([ 8.904416  ,  8.9073792 ,  8.9103424 , ..., -0.0200905 ,\n",
       "         -0.02115725, -0.022224  ]),\n",
       "  'acc_side_1': array([ 0.16183183, -0.00043978, -0.03178235, ...,  0.02617508,\n",
       "          0.02515092,  0.02971779]),\n",
       "  'acc_side_2': array([ 0.12431852,  0.01145154, -0.14395735, ...,  0.01516589,\n",
       "          0.01937246,  0.02829765]),\n",
       "  'segment': array(['', '', '', ..., '', '', ''], dtype='<U12')}}"
      ]
     },
     "execution_count": 7,
     "metadata": {},
     "output_type": "execute_result"
    }
   ],
   "source": [
    "ricardo_filenames = [r\"../data/Ricardo/Jan.json\",\n",
    "             r\"../data/Ricardo/Jun.json\",\n",
    "             ]\n",
    "ricardo_output_fn = r\"../data/Ricardo/inframon.pickle\"\n",
    "ricardo.read_inframon(ricardo_filenames, ricardo_output_fn)"
   ]
  },
  {
   "cell_type": "markdown",
   "id": "d72ce228",
   "metadata": {},
   "source": [
    "# Load Ricardo data"
   ]
  },
  {
   "cell_type": "code",
   "execution_count": 8,
   "id": "da9b0df5",
   "metadata": {},
   "outputs": [],
   "source": [
    "ricardo_data = ricardo.load_inframon_data(ricardo_output_fn)"
   ]
  },
  {
   "cell_type": "markdown",
   "id": "0547876e",
   "metadata": {},
   "source": [
    "# Get SoS Coordinates\n"
   ]
  },
  {
   "cell_type": "code",
   "execution_count": 46,
   "id": "27ddfe2a",
   "metadata": {},
   "outputs": [],
   "source": [
    "# get coordinates of a segment\n",
    "segment = sos_data[\"Segment 1030\"]\n",
    "coordinates = np.array(list(segment.values())[0]['coordinates'])\n",
    "\n",
    "# get coordinate limits\n",
    "xlim = [min(coordinates[:,0]), max(coordinates[:,0])]\n",
    "ylim = [min(coordinates[:,1]), max(coordinates[:,1])]"
   ]
  },
  {
   "cell_type": "markdown",
   "id": "8625ccd6",
   "metadata": {},
   "source": [
    "# Get Ricardo data within SoS limits"
   ]
  },
  {
   "cell_type": "code",
   "execution_count": 47,
   "id": "bfca1a72",
   "metadata": {},
   "outputs": [],
   "source": [
    "ricardo_data_within_bounds = ricardo.get_data_within_bounds(ricardo_data[\"Jan\"], xlim, ylim)"
   ]
  },
  {
   "cell_type": "markdown",
   "id": "c6392d6b",
   "metadata": {},
   "source": [
    "# Check if data is valid\n",
    "The train velocity should be relatively constant over the bounded track, such that the acceleration signal is representative for a certain train speed at that point of the track"
   ]
  },
  {
   "cell_type": "markdown",
   "id": "4d694756",
   "metadata": {},
   "source": [
    "## check train velocity"
   ]
  },
  {
   "cell_type": "code",
   "execution_count": 48,
   "id": "9b01bd68",
   "metadata": {},
   "outputs": [
    {
     "data": {
      "image/png": "[encoded data removed]",
      "text/plain": [
       "<Figure size 432x288 with 1 Axes>"
      ]
     },
     "metadata": {
      "needs_background": "light"
     },
     "output_type": "display_data"
    }
   ],
   "source": [
    "ricardo.plot_train_velocity(ricardo_data_within_bounds)\n",
    "plt.grid()"
   ]
  },
  {
   "cell_type": "markdown",
   "id": "d171b96a",
   "metadata": {},
   "source": [
    "## check acceleration signal"
   ]
  },
  {
   "cell_type": "code",
   "execution_count": 49,
   "id": "85caca0f",
   "metadata": {},
   "outputs": [
    {
     "data": {
      "image/png": "[encoded data removed]",
      "text/plain": [
       "<Figure size 432x288 with 1 Axes>"
      ]
     },
     "metadata": {
      "needs_background": "light"
     },
     "output_type": "display_data"
    }
   ],
   "source": [
    "ricardo.plot_acceleration_signal(ricardo_data_within_bounds[\"time\"], ricardo_data_within_bounds[\"acc_side_1\"])\n",
    "plt.grid()"
   ]
  },
  {
   "cell_type": "markdown",
   "id": "7cb9b5b7",
   "metadata": {},
   "source": [
    "# Filter inframon signal"
   ]
  },
  {
   "cell_type": "code",
   "execution_count": 73,
   "id": "b3333435",
   "metadata": {},
   "outputs": [],
   "source": [
    "# filter Ricardo measurements\n",
    "\n",
    "# set filter settings\n",
    "settings_filter = {\"FS\": 250,                   # acquisition frequency\n",
    "                   \"cut-off_high\": 120,         # high cutoff frequency\n",
    "                   \"cut-off_low\": 40,           # low cutoff frequency \n",
    "                   \"n\": 10,                     # order of the filter\n",
    "                   \"smoothing_distance\": 10,    # distance of smoothed wavelength\n",
    "                   }    \n",
    "\n",
    "acceleration_data = ricardo_data_within_bounds[\"acc_side_1\"]\n",
    "\n",
    "# set ricardo signal\n",
    "ricardo_signal = Signal(ricardo_data_within_bounds[\"time\"],acceleration_data, settings_filter[\"FS\"])\n",
    "\n",
    "\n",
    "# filter high frequencies\n",
    "ricardo_signal.filter(settings_filter[\"cut-off_high\"], settings_filter[\"n\"], type_filter=\"lowpass\")\n",
    "\n",
    "# filter low frequencies\n",
    "ricardo_signal.filter(settings_filter[\"cut-off_low\"], settings_filter[\"n\"], type_filter=\"highpass\")\n",
    "\n",
    "# copy filtered signal\n",
    "acc = np.copy(ricardo_signal.signal)\n"
   ]
  },
  {
   "cell_type": "code",
   "execution_count": 74,
   "id": "981bbcb4",
   "metadata": {},
   "outputs": [
    {
     "data": {
      "image/png": "[encoded data removed]",
      "text/plain": [
       "<Figure size 432x288 with 1 Axes>"
      ]
     },
     "metadata": {
      "needs_background": "light"
     },
     "output_type": "display_data"
    }
   ],
   "source": [
    "# plot filtered signal\n",
    "ricardo.plot_acceleration_signal(ricardo_data_within_bounds[\"time\"], acc)\n",
    "plt.grid()"
   ]
  },
  {
   "cell_type": "markdown",
   "id": "cff87428",
   "metadata": {},
   "source": [
    "# Integrate acceleration signal to velocity signal\n",
    "\n"
   ]
  },
  {
   "cell_type": "code",
   "execution_count": 75,
   "id": "22934975",
   "metadata": {},
   "outputs": [],
   "source": [
    "ricardo_signal.integrate(hp=True, moving=True, baseline=False, ini_cond=0)"
   ]
  },
  {
   "cell_type": "code",
   "execution_count": 76,
   "id": "c99bc0d5",
   "metadata": {},
   "outputs": [
    {
     "data": {
      "image/png": "[encoded data removed]",
      "text/plain": [
       "<Figure size 432x288 with 1 Axes>"
      ]
     },
     "metadata": {
      "needs_background": "light"
     },
     "output_type": "display_data"
    }
   ],
   "source": [
    "ricardo.plot_velocity_signal(ricardo_data_within_bounds[\"time\"], ricardo_signal.signal)\n",
    "plt.grid()"
   ]
  },
  {
   "cell_type": "markdown",
   "id": "1218ce73",
   "metadata": {},
   "source": [
    "# Fast fourier transformation velocity signal"
   ]
  },
  {
   "cell_type": "code",
   "execution_count": 77,
   "id": "d230d7e1",
   "metadata": {},
   "outputs": [],
   "source": [
    "# fast fourier transformation of velocity signal\n",
    "\n",
    "ricardo_signal.fft(half_representation=True)\n",
    "freq_velocity = ricardo_signal.frequency\n",
    "ampl_velocity = ricardo_signal.amplitude\n",
    "\n",
    "# smooth signal\n",
    "ampl_velocity = ricardo.smooth_signal_within_bounds_over_wave_length(ricardo_data_within_bounds, settings_filter[\"smoothing_distance\"], ampl_velocity)"
   ]
  },
  {
   "cell_type": "code",
   "execution_count": 81,
   "id": "a8105f5f",
   "metadata": {},
   "outputs": [
    {
     "data": {
      "image/png": "[encoded data removed]",
      "text/plain": [
       "<Figure size 432x288 with 1 Axes>"
      ]
     },
     "metadata": {
      "needs_background": "light"
     },
     "output_type": "display_data"
    }
   ],
   "source": [
    "ricardo.plot_fft_velocity_signal(ricardo_data_within_bounds,acc, settings_filter[\"smoothing_distance\"])\n",
    "plt.grid()"
   ]
  },
  {
   "cell_type": "code",
   "execution_count": 82,
   "id": "486f63cd",
   "metadata": {},
   "outputs": [],
   "source": [
    "# Get maximum velocity amplitude and corresponding frequency\n",
    "\n",
    "m_to_mm = 1000\n",
    "\n",
    "# maximum amplitude\n",
    "max_vel_ampl = ampl_velocity[np.argmax(ampl_velocity)] * m_to_mm\n",
    "# corresponding frequency\n",
    "freq_at_max_vel = freq_velocity[np.argmax(ampl_velocity)]"
   ]
  },
  {
   "cell_type": "code",
   "execution_count": 83,
   "id": "2197b3ba",
   "metadata": {},
   "outputs": [
    {
     "data": {
      "text/plain": [
       "(0.12437276722081402, 59.27647166028795)"
      ]
     },
     "execution_count": 83,
     "metadata": {},
     "output_type": "execute_result"
    }
   ],
   "source": [
    "max_vel_ampl, freq_at_max_vel "
   ]
  },
  {
   "cell_type": "markdown",
   "id": "77066458",
   "metadata": {},
   "source": [
    "# Check if frequency corresponds to the train speed\n",
    "In this example, sleepers have a distance from eachother of 0.6 m. From the ricardo data, we can see that the average train speed over the segment is approximately 128 km/h. The frequency at the highest signal velocity should correspond to this train speed."
   ]
  },
  {
   "cell_type": "code",
   "execution_count": 84,
   "id": "179e947f",
   "metadata": {},
   "outputs": [],
   "source": [
    "train_speed_mps = 128/3.6         # train speed in m/s\n",
    "sleeper_dist = 0.6                # sleeper distance\n",
    "\n",
    "load_frequency = train_speed_mps/sleeper_dist"
   ]
  },
  {
   "cell_type": "code",
   "execution_count": 85,
   "id": "13e7ebcf",
   "metadata": {},
   "outputs": [
    {
     "data": {
      "text/plain": [
       "59.25925925925927"
      ]
     },
     "execution_count": 85,
     "metadata": {},
     "output_type": "execute_result"
    }
   ],
   "source": [
    "load_frequency"
   ]
  },
  {
   "cell_type": "markdown",
   "id": "6ce3d77b",
   "metadata": {},
   "source": [
    "# Update Rose model"
   ]
  },
  {
   "cell_type": "code",
   "execution_count": 86,
   "id": "50b86ed9",
   "metadata": {},
   "outputs": [],
   "source": [
    "# load results from rose demo\n",
    "\n",
    "output_dir = \"res\"\n",
    "\n",
    "with open(os.path.join(output_dir, \"all_results.pickle\"), 'rb') as f:\n",
    "    coupled_model = pickle.load(f)[\"coupled_model\"]"
   ]
  },
  {
   "cell_type": "code",
   "execution_count": 87,
   "id": "299e3835",
   "metadata": {},
   "outputs": [
    {
     "data": {
      "text/plain": [
       "array([ 0.        ,  0.        ,  0.        , ..., 27.77777778,\n",
       "       27.77777778, 27.77777778])"
      ]
     },
     "execution_count": 87,
     "metadata": {},
     "output_type": "execute_result"
    }
   ],
   "source": [
    "coupled_model.train.velocities"
   ]
  },
  {
   "cell_type": "markdown",
   "id": "d1df91a8",
   "metadata": {},
   "source": [
    "## reset velocities\n"
   ]
  },
  {
   "cell_type": "code",
   "execution_count": 34,
   "id": "dac9f3b7",
   "metadata": {},
   "outputs": [],
   "source": [
    "# set velocity of train\n",
    "velocities = np.ones(len(coupled_model.time)) * train_speed_mps\n",
    "\n",
    "# prevent train from moving in initialisation phase\n",
    "velocities[0:len(coupled_model.initialisation_time)] = 0\n",
    "coupled_model.train.velocities = velocities"
   ]
  },
  {
   "cell_type": "code",
   "execution_count": null,
   "id": "8ea70e55",
   "metadata": {},
   "outputs": [],
   "source": [
    "# set more robust solver\n",
    "from solvers.newmark_solver import NewmarkImplicitForce\n",
    "solver = NewmarkImplicitForce()\n",
    "coupled_model.solver = solver"
   ]
  },
  {
   "cell_type": "markdown",
   "id": "5b522fcc",
   "metadata": {},
   "source": [
    "# Set optimisation parameters"
   ]
  },
  {
   "cell_type": "code",
   "execution_count": 35,
   "id": "5bb3a874",
   "metadata": {},
   "outputs": [],
   "source": [
    "optimisation = Optimisation()\n",
    "optimisation.model=coupled_model\n",
    "optimisation.observations =[freq_at_max_vel, max_vel_ampl]\n",
    "\n",
    "\n",
    "optimisation_model_part = OptimisationModelPart()\n",
    "optimisation_model_part.model_part = coupled_model.track.model_parts[4] # soil\n",
    "\n",
    "# set the parameter in the corresponding model part which should be optimised\n",
    "optimisation_model_part.optimisation_parameter_names = [\"stiffness\"]"
   ]
  },
  {
   "cell_type": "markdown",
   "id": "91721a0e",
   "metadata": {},
   "source": [
    "# Set model result settings"
   ]
  },
  {
   "cell_type": "markdown",
   "id": "38d9bae8",
   "metadata": {},
   "source": [
    "## create a function to perform a fast fourier transformation on rose output"
   ]
  },
  {
   "cell_type": "code",
   "execution_count": 36,
   "id": "97835d9f",
   "metadata": {},
   "outputs": [],
   "source": [
    "def results_function(signal, aq_freq):\n",
    "    \"\"\"\n",
    "    Results function to be performed after a coupled calculation\n",
    "    \n",
    "    This functoin takes a signal, performs a fast fourier transformation and returns \n",
    "    the maximum amplitude in the frequency domain and the corresponding frequency \n",
    "\n",
    "    :param signal: signal to be processed\n",
    "    :param aq_freq: aquisition frequency\n",
    "    :return:\n",
    "    \"\"\"\n",
    "    from SignalProcessing.signal_tools import Signal\n",
    "    import matplotlib.pyplot as plt\n",
    "    \n",
    "    # set signal\n",
    "    sig = Signal(0,signal[:,0], aq_freq[0])\n",
    "    \n",
    "    # filter signal\n",
    "    sig.filter(40, 6, type_filter=\"highpass\")\n",
    "\n",
    "    # fast fourier transformation\n",
    "    sig.fft(half_representation=True)\n",
    "    freq = sig.frequency\n",
    "    ampl = sig.amplitude\n",
    "\n",
    "    # get maximum amplitude and corresponding frequency\n",
    "    max_ampl_idx = np.argmax(ampl)\n",
    "    max_freq = freq[max_ampl_idx]\n",
    "    max_ampl = ampl[max_ampl_idx]\n",
    "    return max_freq, max_ampl"
   ]
  },
  {
   "cell_type": "markdown",
   "id": "59c9244c",
   "metadata": {},
   "source": [
    "## the results to be transformed are the velocities in the front wheel of the train"
   ]
  },
  {
   "cell_type": "code",
   "execution_count": 37,
   "id": "404b3450",
   "metadata": {},
   "outputs": [
    {
     "data": {
      "text/plain": [
       "array([[ 0.00000000e+00,  0.00000000e+00,  0.00000000e+00, ...,\n",
       "         0.00000000e+00,  0.00000000e+00,  0.00000000e+00],\n",
       "       [ 0.00000000e+00,  0.00000000e+00,  0.00000000e+00, ...,\n",
       "         0.00000000e+00,  0.00000000e+00,  0.00000000e+00],\n",
       "       [ 0.00000000e+00,  0.00000000e+00,  0.00000000e+00, ...,\n",
       "         0.00000000e+00,  0.00000000e+00,  0.00000000e+00],\n",
       "       ...,\n",
       "       [ 2.82190060e-08,  9.59385028e-08,  2.17766093e-24, ...,\n",
       "        -5.10341799e-03,  7.47570375e-03, -2.20667549e-03],\n",
       "       [ 3.08278273e-08,  9.40805561e-08, -2.51799724e-23, ...,\n",
       "        -5.12822682e-03,  7.43508257e-03, -2.38757260e-03],\n",
       "       [ 3.33915750e-08,  9.20762633e-08, -5.25861559e-23, ...,\n",
       "        -5.14299315e-03,  7.37862993e-03, -2.56122269e-03]])"
      ]
     },
     "execution_count": 37,
     "metadata": {},
     "output_type": "execute_result"
    }
   ],
   "source": [
    "coupled_model.velocities_out"
   ]
  },
  {
   "cell_type": "markdown",
   "id": "5b52f407",
   "metadata": {},
   "source": [
    "## get the vertical displacement degree of freedom index of the front wheel of the train"
   ]
  },
  {
   "cell_type": "code",
   "execution_count": 38,
   "id": "d39206c9",
   "metadata": {},
   "outputs": [],
   "source": [
    "result_index = coupled_model.train.wheels[-1].nodes[0].index_dof[1]"
   ]
  },
  {
   "cell_type": "code",
   "execution_count": 39,
   "id": "c340270a",
   "metadata": {},
   "outputs": [
    {
     "data": {
      "text/plain": [
       "array([0., 0., 0., 0., 0., 0., 0., 0., 0., 0., 0., 0., 0., 0., 0., 0., 0.,\n",
       "       0., 0., 0., 0., 0., 0., 0., 0., 0., 0., 0., 0., 0., 0., 0., 0., 0.,\n",
       "       0., 0., 0., 0., 0., 0., 0., 0., 0., 0., 0., 0., 0., 0., 0., 0., 0.,\n",
       "       0., 0., 0., 0., 0., 0., 0., 0., 0., 0., 0., 0., 0., 0., 0., 0., 0.,\n",
       "       0., 0., 0., 0., 0., 0., 0., 0., 0., 0., 0., 0., 0., 0., 0., 0., 0.,\n",
       "       0., 0., 0., 0., 0., 0., 0., 0., 0., 0., 0., 0., 0., 0., 0., 0., 0.,\n",
       "       0., 0., 0., 0., 0., 0., 0., 0., 0., 0., 0., 0., 0., 0., 0., 0., 0.,\n",
       "       0., 0., 0., 0., 0., 0., 0., 0., 0., 0., 0., 0., 0., 0., 0., 0., 0.,\n",
       "       0., 0., 0., 0., 0., 0., 0., 0., 0., 0., 0., 0., 0., 0., 0., 0., 0.,\n",
       "       0., 0., 0., 0., 0., 0., 0., 0., 0., 0., 0., 0., 0., 0., 0., 0., 0.,\n",
       "       0., 0., 0., 0., 0., 0., 0., 0., 0., 0., 0., 0., 0., 0., 0., 0., 0.,\n",
       "       0., 0., 0., 0., 0., 0., 0., 0., 0., 0., 0., 0., 0., 0., 0., 0., 0.,\n",
       "       0., 0., 0., 0., 0., 0., 0., 0., 0., 0., 0., 0., 0., 0., 0., 0., 0.,\n",
       "       0., 0., 0., 0., 0., 0., 0., 0., 0., 0., 0., 0., 0., 0., 0., 0., 0.,\n",
       "       0., 0., 0., 0., 0., 0., 0., 0., 0., 0., 0., 0., 0., 0., 0., 0., 0.,\n",
       "       0., 0., 0., 0., 0., 0., 0., 0., 0., 0., 0., 0., 0., 0., 0., 0., 0.,\n",
       "       0., 0., 0., 0., 0., 0., 0., 0., 0., 0., 0., 0., 0., 0., 0., 0., 0.,\n",
       "       0., 0., 0., 0., 0., 0., 0., 0., 0., 0., 0., 0., 0., 0., 0., 0., 0.,\n",
       "       0., 0., 0., 0., 0., 0., 0., 0., 0., 0., 0., 0., 0., 0., 0., 0., 0.,\n",
       "       0., 0., 0., 0., 0., 0., 0., 0., 0., 0., 0., 0., 0., 0., 0., 0., 0.,\n",
       "       0., 0., 0., 0., 0., 0., 0., 0., 0., 0., 0., 0., 0., 0., 0., 0., 0.,\n",
       "       0., 0., 0., 0., 0., 0., 0., 0., 0., 0., 0., 0., 0., 0., 0., 0., 0.,\n",
       "       0., 0., 0., 0., 0., 0., 0., 0., 0., 0., 0., 0., 0., 0., 0., 0., 0.,\n",
       "       0., 0., 0., 0., 0., 0., 0., 0., 0., 0., 0., 0., 0., 0., 0., 0., 0.,\n",
       "       0., 0., 0., 0., 0., 0., 0., 0., 0., 0., 0., 0., 0., 0., 0., 0., 0.,\n",
       "       0., 0., 0., 0., 0., 0., 0., 0., 0., 0., 0., 0., 0., 0., 0., 0., 0.,\n",
       "       0., 0., 0., 0., 0., 0., 0., 0., 0., 0., 0., 0., 0., 0., 0., 0., 0.,\n",
       "       0., 0., 0., 0., 0., 0., 0., 0., 0., 0., 0., 0., 0., 0., 0., 0., 0.,\n",
       "       0., 0., 0., 0., 0., 0., 0., 0., 0., 0., 0., 0., 0., 0., 0., 0., 0.,\n",
       "       0., 0., 0., 0., 0., 0., 0., 0., 0., 0., 0., 0., 0., 0., 0., 0., 0.,\n",
       "       0., 0., 0., 0., 0., 0., 0., 0., 0., 0., 0., 0., 0., 0., 0., 0., 0.,\n",
       "       0., 0., 0., 0., 0., 0., 0., 0., 0., 0., 0., 0., 0., 0., 0., 0., 0.,\n",
       "       0., 0., 0., 0., 0., 0., 0., 0., 0., 0., 0., 0., 0., 0., 0., 0., 0.,\n",
       "       0., 0., 0., 0., 0., 0., 0., 0., 0., 0., 0., 0., 0., 0., 0., 0., 0.,\n",
       "       0., 0., 0., 0., 0., 0., 0., 0., 0., 0., 0., 0., 0., 0., 0., 0., 0.,\n",
       "       0., 0., 0., 0., 0., 0., 0., 0., 0., 0., 0., 0., 0., 0., 0., 0., 0.,\n",
       "       0., 0., 0., 0., 0., 0., 0., 0., 0., 0., 0., 0., 0., 0., 0., 0., 0.,\n",
       "       0., 0., 0., 0., 0., 0., 0., 0., 0., 0., 0., 0., 0., 0., 0., 0., 0.,\n",
       "       0., 0., 0., 0., 0., 0., 0., 0., 0., 0., 0., 0., 0., 0., 0., 0., 0.,\n",
       "       0., 0., 0., 0., 0., 0., 0., 0., 0., 0., 0., 0., 0., 0., 0., 0., 0.,\n",
       "       0., 0., 0., 0., 0., 0., 0., 0., 0., 0., 0., 0., 0., 0., 0., 0., 0.,\n",
       "       0., 0., 0., 0., 0., 0., 0., 0., 0., 0., 0., 0., 0., 0., 0., 0., 0.,\n",
       "       0., 0., 0., 0., 0., 0., 0., 0., 0., 0., 0., 0., 0., 0., 0., 0., 0.,\n",
       "       0., 0., 0., 0., 0., 0., 0., 0., 0., 0., 0., 0., 0., 0., 0., 0., 0.,\n",
       "       0., 0., 0., 0., 0., 0., 0., 0., 0., 0., 0., 0., 0., 0., 0., 0., 0.,\n",
       "       0., 0., 0., 0., 0., 0., 0., 0., 0., 0., 0., 0., 0., 0., 0., 0., 0.,\n",
       "       0., 0., 0., 0., 0., 0., 0., 0., 0., 0., 0., 0., 0., 0., 0., 0., 0.,\n",
       "       0., 0., 0., 0., 0., 0., 0., 0., 0.])"
      ]
     },
     "execution_count": 39,
     "metadata": {},
     "output_type": "execute_result"
    }
   ],
   "source": [
    "coupled_model.velocities_out[result_index,:]"
   ]
  },
  {
   "cell_type": "code",
   "execution_count": 40,
   "id": "9c9ca625",
   "metadata": {},
   "outputs": [],
   "source": [
    "model_results = ModelResults()\n",
    "\n",
    "# set name of result attribute as present in the coupled model\n",
    "model_results.result_names = [\"velocities_out\"]\n",
    "# set the index of the result to be used\n",
    "model_results.result_indices = [result_index]\n",
    "# set the timesteps to be used for the optimisation\n",
    "model_results.time_step_indices = np.arange(int(len(coupled_model.initialisation_time)),int(len(coupled_model.time)))\n",
    "# set result function\n",
    "model_results.result_function = results_function"
   ]
  },
  {
   "cell_type": "code",
   "execution_count": 41,
   "id": "08872506",
   "metadata": {},
   "outputs": [],
   "source": [
    "# calculate aquisition frequency\n",
    "dt = np.diff(coupled_model.time)[-1]\n",
    "\n",
    "aq_freq = 1/dt\n",
    "\n",
    "# set model results arguments\n",
    "model_results.args =[aq_freq]"
   ]
  },
  {
   "cell_type": "markdown",
   "id": "901a0244",
   "metadata": {},
   "source": [
    "## Initialise optimisation algorithm\n",
    "The optimisation algorithm which is used is the levenberg marquart algorithm. Which is a gradient based algorithm which works efficiently when only a few parameters are to be optimised and the problem is not highly non-linear."
   ]
  },
  {
   "cell_type": "code",
   "execution_count": 42,
   "id": "13de0428",
   "metadata": {},
   "outputs": [],
   "source": [
    "optimisation.model_results = [model_results]\n",
    "optimisation.optimisation_model_parts = [optimisation_model_part]\n",
    "optimisation.initialise()"
   ]
  },
  {
   "cell_type": "markdown",
   "id": "bef84dbe",
   "metadata": {},
   "source": [
    "## perform optimisation"
   ]
  },
  {
   "cell_type": "code",
   "execution_count": 43,
   "id": "b8d5fa10",
   "metadata": {},
   "outputs": [],
   "source": [
    "initial_guess_stiffness = 5e7"
   ]
  },
  {
   "cell_type": "code",
   "execution_count": 44,
   "id": "33e79679",
   "metadata": {},
   "outputs": [
    {
     "name": "stdout",
     "output_type": "stream",
     "text": [
      ".______        ______        _______. _______\n",
      "|   _  \\      /  __  \\      /       ||   ____|                                                                                                       __\n",
      "|  |_)  |    |  |  |  |    |   (----`|  |__                                                                                                   ___  _// \\\n",
      "|      /     |  |  |  |     \\   \\    |   __|                                                                                                _/   \\/__|_ \\\n",
      "|  |\\  \\----.|  `--'  | .----)   |   |  |____                                                                                              /  __//_/==\\_| ___\n",
      "| _| `._____| \\______/  |_______/    |_______|                                                                                           / | / /|// == \\ \\   /\n",
      "  ___        _                                                                                                                           |  | |\\|| //_\\ | |_/\n",
      " | _ ) _  _ (_)                                                                                                                           \\  \\ \\\\ / \\_/| || \\\n",
      " | _ \\| || | _                                                                                                                             \\___/\\\\| _  ///___\\\n",
      " |___/ \\_, |(_)                                                                                                                              \\__|\\_\\=//_// _\\_|\n",
      "       |__/                                                                                                                                     \\___\\_____/\n",
      "     ___      .______        ______   .__   __.               .______   .______       __    __  .__   __.   ______                             !! \\____/\n",
      "    /   \\     |   _  \\      /  __  \\  |  \\ |  |      ___      |   _  \\  |   _  \\     |  |  |  | |  \\ |  |  /  __  \\                           !!\n",
      "   /  ^  \\    |  |_)  |    |  |  |  | |   \\|  |     ( _ )     |  |_)  | |  |_)  |    |  |  |  | |   \\|  | |  |  |  |                           !!\n",
      "  /  /_\\  \\   |      /     |  |  |  | |  . `  |     / _ \\/\\   |   _  <  |      /     |  |  |  | |  . `  | |  |  |  |                ___      -(!!      __ ___ _\n",
      " /  _____  \\  |  |\\  \\----.|  `--'  | |  |\\   |    | (_>  <   |  |_)  | |  |\\  \\----.|  `--'  | |  |\\   | |  `--'  |               |\\|  \\       !!_.-~~ /|\\-  \\~-._\n",
      "/__/     \\__\\ | _| `._____| \\______/  |__| \\__|     \\___/\\/   |______/  | _| `._____| \\______/  |__| \\__|  \\______/                | -\\| |      !!/   /  | |\\- | |\\ \\\n",
      "                                                                                                                                    \\__-\\|______ !!  |    \\___\\|  \\_\\|\n",
      "                                                                                                                              _____ _.-~/|\\     \\\\!!  \\  |  /       ~-.\n",
      "                                                                                                                            /     /|  / /|  \\    \\!!    \\ /          |\\~-\n",
      "                                                                                                                          /  ---/| | |   |\\  |     !!                 \\__|\n",
      "                                                                                                                         | ---/| | |  \\ /|  /    -(!!\n",
      "                                                                                                                         | -/| |  /     \\|/        !!\n",
      "                                                                                                                         |/____ /                  !!)-\n",
      "                                                                                                                                                   !!\n",
      "Initialising train\n",
      "Initialising track and subsoil\n"
     ]
    },
    {
     "name": "stderr",
     "output_type": "stream",
     "text": [
      "WARNING:root:height not defined, strain cannot be determined\n",
      "WARNING:root:height neutral axis not defined, strain cannot be determined\n"
     ]
    },
    {
     "name": "stdout",
     "output_type": "stream",
     "text": [
      "Initialising model parts\n",
      "Initialising global matrices\n",
      "Initialising global matrices\n",
      "Initialising track wheel interaction\n"
     ]
    },
    {
     "name": "stderr",
     "output_type": "stream",
     "text": [
      "100%|███████████████████████████████████████████████████████████████████████████████████████████████████████████████████████████████████████████████████████████████████████████████████████████| 2.00/2.00 [00:00<00:00, 2.00ksteps/s]\n",
      "100%|███████████████████████████████████████████████████████████████████████████████████████████████████████████████████████████████████████████████████████████████████████████████████████████| 1.00/1.00 [00:00<00:00, 1.00ksteps/s]\n",
      "  0%|                                                                                                                                                                                                  | 0.00/5.00k [00:00<?, ?steps/s]"
     ]
    },
    {
     "name": "stdout",
     "output_type": "stream",
     "text": [
      "Initial static displacement of the train and the track\n",
      "Calculating calculation phase\n"
     ]
    },
    {
     "name": "stderr",
     "output_type": "stream",
     "text": [
      "100%|█████████████████████████████████████████████████████████████████████████████████████████████████████████████████████████████████████████████████████████████████████████████████████████| 5.00k/5.00k [00:02<00:00, 1.70ksteps/s]\n",
      "  5%|████████▊                                                                                                                                                                                  | 376/8.00k [00:00<00:04, 1.88ksteps/s]"
     ]
    },
    {
     "name": "stdout",
     "output_type": "stream",
     "text": [
      "Calculating calculation phase\n"
     ]
    },
    {
     "name": "stderr",
     "output_type": "stream",
     "text": [
      "100%|█████████████████████████████████████████████████████████████████████████████████████████████████████████████████████████████████████████████████████████████████████████████████████████| 8.00k/8.00k [00:04<00:00, 1.74ksteps/s]\n"
     ]
    },
    {
     "name": "stdout",
     "output_type": "stream",
     "text": [
      "Finalising calculation\n",
      "\n",
      "\n",
      "\n",
      "\u001b[3m  Your focus determines your reality. \u001b[0m\n",
      "\u001b[3m--- Qui - Gon Jinn\u001b[0m\n",
      ".______        ______        _______. _______\n",
      "|   _  \\      /  __  \\      /       ||   ____|                                                                                                       __\n",
      "|  |_)  |    |  |  |  |    |   (----`|  |__                                                                                                   ___  _// \\\n",
      "|      /     |  |  |  |     \\   \\    |   __|                                                                                                _/   \\/__|_ \\\n",
      "|  |\\  \\----.|  `--'  | .----)   |   |  |____                                                                                              /  __//_/==\\_| ___\n",
      "| _| `._____| \\______/  |_______/    |_______|                                                                                           / | / /|// == \\ \\   /\n",
      "  ___        _                                                                                                                           |  | |\\|| //_\\ | |_/\n",
      " | _ ) _  _ (_)                                                                                                                           \\  \\ \\\\ / \\_/| || \\\n",
      " | _ \\| || | _                                                                                                                             \\___/\\\\| _  ///___\\\n",
      " |___/ \\_, |(_)                                                                                                                              \\__|\\_\\=//_// _\\_|\n",
      "       |__/                                                                                                                                     \\___\\_____/\n",
      "     ___      .______        ______   .__   __.               .______   .______       __    __  .__   __.   ______                             !! \\____/\n",
      "    /   \\     |   _  \\      /  __  \\  |  \\ |  |      ___      |   _  \\  |   _  \\     |  |  |  | |  \\ |  |  /  __  \\                           !!\n",
      "   /  ^  \\    |  |_)  |    |  |  |  | |   \\|  |     ( _ )     |  |_)  | |  |_)  |    |  |  |  | |   \\|  | |  |  |  |                           !!\n",
      "  /  /_\\  \\   |      /     |  |  |  | |  . `  |     / _ \\/\\   |   _  <  |      /     |  |  |  | |  . `  | |  |  |  |                ___      -(!!      __ ___ _\n",
      " /  _____  \\  |  |\\  \\----.|  `--'  | |  |\\   |    | (_>  <   |  |_)  | |  |\\  \\----.|  `--'  | |  |\\   | |  `--'  |               |\\|  \\       !!_.-~~ /|\\-  \\~-._\n",
      "/__/     \\__\\ | _| `._____| \\______/  |__| \\__|     \\___/\\/   |______/  | _| `._____| \\______/  |__| \\__|  \\______/                | -\\| |      !!/   /  | |\\- | |\\ \\\n",
      "                                                                                                                                    \\__-\\|______ !!  |    \\___\\|  \\_\\|\n",
      "                                                                                                                              _____ _.-~/|\\     \\\\!!  \\  |  /       ~-.\n",
      "                                                                                                                            /     /|  / /|  \\    \\!!    \\ /          |\\~-\n",
      "                                                                                                                          /  ---/| | |   |\\  |     !!                 \\__|\n",
      "                                                                                                                         | ---/| | |  \\ /|  /    -(!!\n",
      "                                                                                                                         | -/| |  /     \\|/        !!\n",
      "                                                                                                                         |/____ /                  !!)-\n",
      "                                                                                                                                                   !!\n",
      "Initialising train\n",
      "Initialising track and subsoil\n"
     ]
    },
    {
     "name": "stderr",
     "output_type": "stream",
     "text": [
      "WARNING:root:height not defined, strain cannot be determined\n",
      "WARNING:root:height neutral axis not defined, strain cannot be determined\n"
     ]
    },
    {
     "name": "stdout",
     "output_type": "stream",
     "text": [
      "Initialising model parts\n",
      "Initialising global matrices\n",
      "Initialising global matrices\n",
      "Initialising track wheel interaction\n"
     ]
    },
    {
     "name": "stderr",
     "output_type": "stream",
     "text": [
      "100%|█████████████████████████████████████████████████████████████████████████████████████████████████████████████████████████████████████████████████████████████████████████████████████████████| 2.00/2.00 [00:00<00:00, 667steps/s]\n",
      "100%|███████████████████████████████████████████████████████████████████████████████████████████████████████████████████████████████████████████████████████████████████████████████████████████████████| 1.00/1.00 [00:00<?, ?steps/s]"
     ]
    },
    {
     "name": "stdout",
     "output_type": "stream",
     "text": [
      "Initial static displacement of the train and the track\n",
      "Calculating calculation phase\n"
     ]
    },
    {
     "name": "stderr",
     "output_type": "stream",
     "text": [
      "\n",
      "100%|█████████████████████████████████████████████████████████████████████████████████████████████████████████████████████████████████████████████████████████████████████████████████████████| 5.00k/5.00k [00:03<00:00, 1.64ksteps/s]\n",
      "  2%|████                                                                                                                                                                                       | 176/8.00k [00:00<00:04, 1.76ksteps/s]"
     ]
    },
    {
     "name": "stdout",
     "output_type": "stream",
     "text": [
      "Calculating calculation phase\n"
     ]
    },
    {
     "name": "stderr",
     "output_type": "stream",
     "text": [
      "100%|█████████████████████████████████████████████████████████████████████████████████████████████████████████████████████████████████████████████████████████████████████████████████████████| 8.00k/8.00k [00:04<00:00, 1.74ksteps/s]\n"
     ]
    },
    {
     "name": "stdout",
     "output_type": "stream",
     "text": [
      "Finalising calculation\n",
      "\n",
      "\n",
      "\n",
      "\u001b[3m  Your focus determines your reality. \u001b[0m\n",
      "\u001b[3m--- Qui - Gon Jinn\u001b[0m\n",
      ".______        ______        _______. _______\n",
      "|   _  \\      /  __  \\      /       ||   ____|                                                                                                       __\n",
      "|  |_)  |    |  |  |  |    |   (----`|  |__                                                                                                   ___  _// \\\n",
      "|      /     |  |  |  |     \\   \\    |   __|                                                                                                _/   \\/__|_ \\\n",
      "|  |\\  \\----.|  `--'  | .----)   |   |  |____                                                                                              /  __//_/==\\_| ___\n",
      "| _| `._____| \\______/  |_______/    |_______|                                                                                           / | / /|// == \\ \\   /\n",
      "  ___        _                                                                                                                           |  | |\\|| //_\\ | |_/\n",
      " | _ ) _  _ (_)                                                                                                                           \\  \\ \\\\ / \\_/| || \\\n",
      " | _ \\| || | _                                                                                                                             \\___/\\\\| _  ///___\\\n",
      " |___/ \\_, |(_)                                                                                                                              \\__|\\_\\=//_// _\\_|\n",
      "       |__/                                                                                                                                     \\___\\_____/\n",
      "     ___      .______        ______   .__   __.               .______   .______       __    __  .__   __.   ______                             !! \\____/\n",
      "    /   \\     |   _  \\      /  __  \\  |  \\ |  |      ___      |   _  \\  |   _  \\     |  |  |  | |  \\ |  |  /  __  \\                           !!\n",
      "   /  ^  \\    |  |_)  |    |  |  |  | |   \\|  |     ( _ )     |  |_)  | |  |_)  |    |  |  |  | |   \\|  | |  |  |  |                           !!\n",
      "  /  /_\\  \\   |      /     |  |  |  | |  . `  |     / _ \\/\\   |   _  <  |      /     |  |  |  | |  . `  | |  |  |  |                ___      -(!!      __ ___ _\n",
      " /  _____  \\  |  |\\  \\----.|  `--'  | |  |\\   |    | (_>  <   |  |_)  | |  |\\  \\----.|  `--'  | |  |\\   | |  `--'  |               |\\|  \\       !!_.-~~ /|\\-  \\~-._\n",
      "/__/     \\__\\ | _| `._____| \\______/  |__| \\__|     \\___/\\/   |______/  | _| `._____| \\______/  |__| \\__|  \\______/                | -\\| |      !!/   /  | |\\- | |\\ \\\n",
      "                                                                                                                                    \\__-\\|______ !!  |    \\___\\|  \\_\\|\n",
      "                                                                                                                              _____ _.-~/|\\     \\\\!!  \\  |  /       ~-.\n",
      "                                                                                                                            /     /|  / /|  \\    \\!!    \\ /          |\\~-\n",
      "                                                                                                                          /  ---/| | |   |\\  |     !!                 \\__|\n",
      "                                                                                                                         | ---/| | |  \\ /|  /    -(!!\n",
      "                                                                                                                         | -/| |  /     \\|/        !!\n",
      "                                                                                                                         |/____ /                  !!)-\n",
      "                                                                                                                                                   !!\n",
      "Initialising train\n",
      "Initialising track and subsoil\n"
     ]
    },
    {
     "name": "stderr",
     "output_type": "stream",
     "text": [
      "WARNING:root:height not defined, strain cannot be determined\n",
      "WARNING:root:height neutral axis not defined, strain cannot be determined\n"
     ]
    },
    {
     "name": "stdout",
     "output_type": "stream",
     "text": [
      "Initialising model parts\n",
      "Initialising global matrices\n",
      "Initialising global matrices\n",
      "Initialising track wheel interaction\n"
     ]
    },
    {
     "name": "stderr",
     "output_type": "stream",
     "text": [
      "100%|█████████████████████████████████████████████████████████████████████████████████████████████████████████████████████████████████████████████████████████████████████████████████████████████| 2.00/2.00 [00:00<00:00, 666steps/s]\n",
      "100%|███████████████████████████████████████████████████████████████████████████████████████████████████████████████████████████████████████████████████████████████████████████████████████████████████| 1.00/1.00 [00:00<?, ?steps/s]\n",
      "  0%|                                                                                                                                                                                                  | 0.00/5.00k [00:00<?, ?steps/s]"
     ]
    },
    {
     "name": "stdout",
     "output_type": "stream",
     "text": [
      "Initial static displacement of the train and the track\n",
      "Calculating calculation phase\n"
     ]
    },
    {
     "name": "stderr",
     "output_type": "stream",
     "text": [
      "100%|█████████████████████████████████████████████████████████████████████████████████████████████████████████████████████████████████████████████████████████████████████████████████████████| 5.00k/5.00k [00:02<00:00, 1.68ksteps/s]\n",
      "  5%|████████▌                                                                                                                                                                                  | 366/8.00k [00:00<00:04, 1.82ksteps/s]"
     ]
    },
    {
     "name": "stdout",
     "output_type": "stream",
     "text": [
      "Calculating calculation phase\n"
     ]
    },
    {
     "name": "stderr",
     "output_type": "stream",
     "text": [
      "100%|█████████████████████████████████████████████████████████████████████████████████████████████████████████████████████████████████████████████████████████████████████████████████████████| 8.00k/8.00k [00:04<00:00, 1.76ksteps/s]\n"
     ]
    },
    {
     "name": "stdout",
     "output_type": "stream",
     "text": [
      "Finalising calculation\n",
      "\n",
      "\n",
      "\n",
      "\u001b[3m  Your focus determines your reality. \u001b[0m\n",
      "\u001b[3m--- Qui - Gon Jinn\u001b[0m\n",
      ".______        ______        _______. _______\n",
      "|   _  \\      /  __  \\      /       ||   ____|                                                                                                       __\n",
      "|  |_)  |    |  |  |  |    |   (----`|  |__                                                                                                   ___  _// \\\n",
      "|      /     |  |  |  |     \\   \\    |   __|                                                                                                _/   \\/__|_ \\\n",
      "|  |\\  \\----.|  `--'  | .----)   |   |  |____                                                                                              /  __//_/==\\_| ___\n",
      "| _| `._____| \\______/  |_______/    |_______|                                                                                           / | / /|// == \\ \\   /\n",
      "  ___        _                                                                                                                           |  | |\\|| //_\\ | |_/\n",
      " | _ ) _  _ (_)                                                                                                                           \\  \\ \\\\ / \\_/| || \\\n",
      " | _ \\| || | _                                                                                                                             \\___/\\\\| _  ///___\\\n",
      " |___/ \\_, |(_)                                                                                                                              \\__|\\_\\=//_// _\\_|\n",
      "       |__/                                                                                                                                     \\___\\_____/\n",
      "     ___      .______        ______   .__   __.               .______   .______       __    __  .__   __.   ______                             !! \\____/\n",
      "    /   \\     |   _  \\      /  __  \\  |  \\ |  |      ___      |   _  \\  |   _  \\     |  |  |  | |  \\ |  |  /  __  \\                           !!\n",
      "   /  ^  \\    |  |_)  |    |  |  |  | |   \\|  |     ( _ )     |  |_)  | |  |_)  |    |  |  |  | |   \\|  | |  |  |  |                           !!\n",
      "  /  /_\\  \\   |      /     |  |  |  | |  . `  |     / _ \\/\\   |   _  <  |      /     |  |  |  | |  . `  | |  |  |  |                ___      -(!!      __ ___ _\n",
      " /  _____  \\  |  |\\  \\----.|  `--'  | |  |\\   |    | (_>  <   |  |_)  | |  |\\  \\----.|  `--'  | |  |\\   | |  `--'  |               |\\|  \\       !!_.-~~ /|\\-  \\~-._\n",
      "/__/     \\__\\ | _| `._____| \\______/  |__| \\__|     \\___/\\/   |______/  | _| `._____| \\______/  |__| \\__|  \\______/                | -\\| |      !!/   /  | |\\- | |\\ \\\n",
      "                                                                                                                                    \\__-\\|______ !!  |    \\___\\|  \\_\\|\n",
      "                                                                                                                              _____ _.-~/|\\     \\\\!!  \\  |  /       ~-.\n",
      "                                                                                                                            /     /|  / /|  \\    \\!!    \\ /          |\\~-\n",
      "                                                                                                                          /  ---/| | |   |\\  |     !!                 \\__|\n",
      "                                                                                                                         | ---/| | |  \\ /|  /    -(!!\n",
      "                                                                                                                         | -/| |  /     \\|/        !!\n",
      "                                                                                                                         |/____ /                  !!)-\n",
      "                                                                                                                                                   !!\n",
      "Initialising train\n",
      "Initialising track and subsoil\n"
     ]
    },
    {
     "name": "stderr",
     "output_type": "stream",
     "text": [
      "WARNING:root:height not defined, strain cannot be determined\n",
      "WARNING:root:height neutral axis not defined, strain cannot be determined\n"
     ]
    },
    {
     "name": "stdout",
     "output_type": "stream",
     "text": [
      "Initialising model parts\n",
      "Initialising global matrices\n",
      "Initialising global matrices\n",
      "Initialising track wheel interaction\n"
     ]
    },
    {
     "name": "stderr",
     "output_type": "stream",
     "text": [
      "100%|███████████████████████████████████████████████████████████████████████████████████████████████████████████████████████████████████████████████████████████████████████████████████████████| 2.00/2.00 [00:00<00:00, 1.00ksteps/s]\n",
      "100%|███████████████████████████████████████████████████████████████████████████████████████████████████████████████████████████████████████████████████████████████████████████████████████████████████| 1.00/1.00 [00:00<?, ?steps/s]\n",
      "  0%|                                                                                                                                                                                                  | 0.00/5.00k [00:00<?, ?steps/s]"
     ]
    },
    {
     "name": "stdout",
     "output_type": "stream",
     "text": [
      "Initial static displacement of the train and the track\n",
      "Calculating calculation phase\n"
     ]
    },
    {
     "name": "stderr",
     "output_type": "stream",
     "text": [
      "100%|█████████████████████████████████████████████████████████████████████████████████████████████████████████████████████████████████████████████████████████████████████████████████████████| 5.00k/5.00k [00:02<00:00, 1.74ksteps/s]\n",
      "  5%|████████▋                                                                                                                                                                                  | 374/8.00k [00:00<00:04, 1.85ksteps/s]"
     ]
    },
    {
     "name": "stdout",
     "output_type": "stream",
     "text": [
      "Calculating calculation phase\n"
     ]
    },
    {
     "name": "stderr",
     "output_type": "stream",
     "text": [
      "100%|█████████████████████████████████████████████████████████████████████████████████████████████████████████████████████████████████████████████████████████████████████████████████████████| 8.00k/8.00k [00:04<00:00, 1.79ksteps/s]\n"
     ]
    },
    {
     "name": "stdout",
     "output_type": "stream",
     "text": [
      "Finalising calculation\n",
      "\n",
      "\n",
      "\n",
      "\u001b[3m  Your focus determines your reality. \u001b[0m\n",
      "\u001b[3m--- Qui - Gon Jinn\u001b[0m\n",
      ".______        ______        _______. _______\n",
      "|   _  \\      /  __  \\      /       ||   ____|                                                                                                       __\n",
      "|  |_)  |    |  |  |  |    |   (----`|  |__                                                                                                   ___  _// \\\n",
      "|      /     |  |  |  |     \\   \\    |   __|                                                                                                _/   \\/__|_ \\\n",
      "|  |\\  \\----.|  `--'  | .----)   |   |  |____                                                                                              /  __//_/==\\_| ___\n",
      "| _| `._____| \\______/  |_______/    |_______|                                                                                           / | / /|// == \\ \\   /\n",
      "  ___        _                                                                                                                           |  | |\\|| //_\\ | |_/\n",
      " | _ ) _  _ (_)                                                                                                                           \\  \\ \\\\ / \\_/| || \\\n",
      " | _ \\| || | _                                                                                                                             \\___/\\\\| _  ///___\\\n",
      " |___/ \\_, |(_)                                                                                                                              \\__|\\_\\=//_// _\\_|\n",
      "       |__/                                                                                                                                     \\___\\_____/\n",
      "     ___      .______        ______   .__   __.               .______   .______       __    __  .__   __.   ______                             !! \\____/\n",
      "    /   \\     |   _  \\      /  __  \\  |  \\ |  |      ___      |   _  \\  |   _  \\     |  |  |  | |  \\ |  |  /  __  \\                           !!\n",
      "   /  ^  \\    |  |_)  |    |  |  |  | |   \\|  |     ( _ )     |  |_)  | |  |_)  |    |  |  |  | |   \\|  | |  |  |  |                           !!\n",
      "  /  /_\\  \\   |      /     |  |  |  | |  . `  |     / _ \\/\\   |   _  <  |      /     |  |  |  | |  . `  | |  |  |  |                ___      -(!!      __ ___ _\n",
      " /  _____  \\  |  |\\  \\----.|  `--'  | |  |\\   |    | (_>  <   |  |_)  | |  |\\  \\----.|  `--'  | |  |\\   | |  `--'  |               |\\|  \\       !!_.-~~ /|\\-  \\~-._\n",
      "/__/     \\__\\ | _| `._____| \\______/  |__| \\__|     \\___/\\/   |______/  | _| `._____| \\______/  |__| \\__|  \\______/                | -\\| |      !!/   /  | |\\- | |\\ \\\n",
      "                                                                                                                                    \\__-\\|______ !!  |    \\___\\|  \\_\\|\n",
      "                                                                                                                              _____ _.-~/|\\     \\\\!!  \\  |  /       ~-.\n",
      "                                                                                                                            /     /|  / /|  \\    \\!!    \\ /          |\\~-\n",
      "                                                                                                                          /  ---/| | |   |\\  |     !!                 \\__|\n",
      "                                                                                                                         | ---/| | |  \\ /|  /    -(!!\n",
      "                                                                                                                         | -/| |  /     \\|/        !!\n",
      "                                                                                                                         |/____ /                  !!)-\n",
      "                                                                                                                                                   !!\n",
      "Initialising train\n",
      "Initialising track and subsoil\n"
     ]
    },
    {
     "name": "stderr",
     "output_type": "stream",
     "text": [
      "WARNING:root:height not defined, strain cannot be determined\n",
      "WARNING:root:height neutral axis not defined, strain cannot be determined\n"
     ]
    },
    {
     "name": "stdout",
     "output_type": "stream",
     "text": [
      "Initialising model parts\n",
      "Initialising global matrices\n",
      "Initialising global matrices\n",
      "Initialising track wheel interaction\n"
     ]
    },
    {
     "name": "stderr",
     "output_type": "stream",
     "text": [
      "100%|█████████████████████████████████████████████████████████████████████████████████████████████████████████████████████████████████████████████████████████████████████████████████████████████| 2.00/2.00 [00:00<00:00, 977steps/s]\n",
      "100%|███████████████████████████████████████████████████████████████████████████████████████████████████████████████████████████████████████████████████████████████████████████████████████████| 1.00/1.00 [00:00<00:00, 1.04ksteps/s]\n",
      "  0%|                                                                                                                                                                                                  | 0.00/5.00k [00:00<?, ?steps/s]"
     ]
    },
    {
     "name": "stdout",
     "output_type": "stream",
     "text": [
      "Initial static displacement of the train and the track\n",
      "Calculating calculation phase\n"
     ]
    },
    {
     "name": "stderr",
     "output_type": "stream",
     "text": [
      "100%|█████████████████████████████████████████████████████████████████████████████████████████████████████████████████████████████████████████████████████████████████████████████████████████| 5.00k/5.00k [00:02<00:00, 1.70ksteps/s]\n",
      "  0%|                                                                                                                                                                                                  | 0.00/8.00k [00:00<?, ?steps/s]..\\rose\\model\\train_track_interaction.py:189: RuntimeWarning: invalid value encountered in power\n",
      "  np.nan_to_num(np.power(1 / self.hertzian_contact_coef * (elastic_wheel_deformation - du_wheels)\n",
      "  1%|██                                                                                                                                                                                          | 86.0/8.00k [00:00<00:14, 564steps/s]"
     ]
    },
    {
     "name": "stdout",
     "output_type": "stream",
     "text": [
      "Calculating calculation phase\n"
     ]
    },
    {
     "name": "stderr",
     "output_type": "stream",
     "text": [
      "100%|█████████████████████████████████████████████████████████████████████████████████████████████████████████████████████████████████████████████████████████████████████████████████████████| 8.00k/8.00k [00:04<00:00, 1.74ksteps/s]\n"
     ]
    },
    {
     "name": "stdout",
     "output_type": "stream",
     "text": [
      "Finalising calculation\n",
      "\n",
      "\n",
      "\n",
      "\u001b[3m  Your focus determines your reality. \u001b[0m\n",
      "\u001b[3m--- Qui - Gon Jinn\u001b[0m\n",
      ".______        ______        _______. _______\n",
      "|   _  \\      /  __  \\      /       ||   ____|                                                                                                       __\n",
      "|  |_)  |    |  |  |  |    |   (----`|  |__                                                                                                   ___  _// \\\n",
      "|      /     |  |  |  |     \\   \\    |   __|                                                                                                _/   \\/__|_ \\\n",
      "|  |\\  \\----.|  `--'  | .----)   |   |  |____                                                                                              /  __//_/==\\_| ___\n",
      "| _| `._____| \\______/  |_______/    |_______|                                                                                           / | / /|// == \\ \\   /\n",
      "  ___        _                                                                                                                           |  | |\\|| //_\\ | |_/\n",
      " | _ ) _  _ (_)                                                                                                                           \\  \\ \\\\ / \\_/| || \\\n",
      " | _ \\| || | _                                                                                                                             \\___/\\\\| _  ///___\\\n",
      " |___/ \\_, |(_)                                                                                                                              \\__|\\_\\=//_// _\\_|\n",
      "       |__/                                                                                                                                     \\___\\_____/\n",
      "     ___      .______        ______   .__   __.               .______   .______       __    __  .__   __.   ______                             !! \\____/\n",
      "    /   \\     |   _  \\      /  __  \\  |  \\ |  |      ___      |   _  \\  |   _  \\     |  |  |  | |  \\ |  |  /  __  \\                           !!\n",
      "   /  ^  \\    |  |_)  |    |  |  |  | |   \\|  |     ( _ )     |  |_)  | |  |_)  |    |  |  |  | |   \\|  | |  |  |  |                           !!\n",
      "  /  /_\\  \\   |      /     |  |  |  | |  . `  |     / _ \\/\\   |   _  <  |      /     |  |  |  | |  . `  | |  |  |  |                ___      -(!!      __ ___ _\n",
      " /  _____  \\  |  |\\  \\----.|  `--'  | |  |\\   |    | (_>  <   |  |_)  | |  |\\  \\----.|  `--'  | |  |\\   | |  `--'  |               |\\|  \\       !!_.-~~ /|\\-  \\~-._\n",
      "/__/     \\__\\ | _| `._____| \\______/  |__| \\__|     \\___/\\/   |______/  | _| `._____| \\______/  |__| \\__|  \\______/                | -\\| |      !!/   /  | |\\- | |\\ \\\n",
      "                                                                                                                                    \\__-\\|______ !!  |    \\___\\|  \\_\\|\n",
      "                                                                                                                              _____ _.-~/|\\     \\\\!!  \\  |  /       ~-.\n",
      "                                                                                                                            /     /|  / /|  \\    \\!!    \\ /          |\\~-\n",
      "                                                                                                                          /  ---/| | |   |\\  |     !!                 \\__|\n",
      "                                                                                                                         | ---/| | |  \\ /|  /    -(!!\n",
      "                                                                                                                         | -/| |  /     \\|/        !!\n",
      "                                                                                                                         |/____ /                  !!)-\n",
      "                                                                                                                                                   !!\n",
      "Initialising train\n",
      "Initialising track and subsoil\n"
     ]
    },
    {
     "name": "stderr",
     "output_type": "stream",
     "text": [
      "WARNING:root:height not defined, strain cannot be determined\n",
      "WARNING:root:height neutral axis not defined, strain cannot be determined\n"
     ]
    },
    {
     "name": "stdout",
     "output_type": "stream",
     "text": [
      "Initialising model parts\n",
      "Initialising global matrices\n",
      "Initialising global matrices\n",
      "Initialising track wheel interaction\n"
     ]
    },
    {
     "name": "stderr",
     "output_type": "stream",
     "text": [
      "100%|█████████████████████████████████████████████████████████████████████████████████████████████████████████████████████████████████████████████████████████████████████████████████████████████| 2.00/2.00 [00:00<00:00, 666steps/s]\n",
      "100%|█████████████████████████████████████████████████████████████████████████████████████████████████████████████████████████████████████████████████████████████████████████████████████████████| 1.00/1.00 [00:00<00:00, 994steps/s]\n",
      "  0%|                                                                                                                                                                                                  | 0.00/5.00k [00:00<?, ?steps/s]"
     ]
    },
    {
     "name": "stdout",
     "output_type": "stream",
     "text": [
      "Initial static displacement of the train and the track\n",
      "Calculating calculation phase\n"
     ]
    },
    {
     "name": "stderr",
     "output_type": "stream",
     "text": [
      "100%|█████████████████████████████████████████████████████████████████████████████████████████████████████████████████████████████████████████████████████████████████████████████████████████| 5.00k/5.00k [00:02<00:00, 1.71ksteps/s]\n",
      "  5%|████████▊                                                                                                                                                                                  | 377/8.00k [00:00<00:04, 1.87ksteps/s]"
     ]
    },
    {
     "name": "stdout",
     "output_type": "stream",
     "text": [
      "Calculating calculation phase\n"
     ]
    },
    {
     "name": "stderr",
     "output_type": "stream",
     "text": [
      "100%|█████████████████████████████████████████████████████████████████████████████████████████████████████████████████████████████████████████████████████████████████████████████████████████| 8.00k/8.00k [00:04<00:00, 1.77ksteps/s]\n"
     ]
    },
    {
     "name": "stdout",
     "output_type": "stream",
     "text": [
      "Finalising calculation\n",
      "\n",
      "\n",
      "\n",
      "\u001b[3m  Your focus determines your reality. \u001b[0m\n",
      "\u001b[3m--- Qui - Gon Jinn\u001b[0m\n",
      ".______        ______        _______. _______\n",
      "|   _  \\      /  __  \\      /       ||   ____|                                                                                                       __\n",
      "|  |_)  |    |  |  |  |    |   (----`|  |__                                                                                                   ___  _// \\\n",
      "|      /     |  |  |  |     \\   \\    |   __|                                                                                                _/   \\/__|_ \\\n",
      "|  |\\  \\----.|  `--'  | .----)   |   |  |____                                                                                              /  __//_/==\\_| ___\n",
      "| _| `._____| \\______/  |_______/    |_______|                                                                                           / | / /|// == \\ \\   /\n",
      "  ___        _                                                                                                                           |  | |\\|| //_\\ | |_/\n",
      " | _ ) _  _ (_)                                                                                                                           \\  \\ \\\\ / \\_/| || \\\n",
      " | _ \\| || | _                                                                                                                             \\___/\\\\| _  ///___\\\n",
      " |___/ \\_, |(_)                                                                                                                              \\__|\\_\\=//_// _\\_|\n",
      "       |__/                                                                                                                                     \\___\\_____/\n",
      "     ___      .______        ______   .__   __.               .______   .______       __    __  .__   __.   ______                             !! \\____/\n",
      "    /   \\     |   _  \\      /  __  \\  |  \\ |  |      ___      |   _  \\  |   _  \\     |  |  |  | |  \\ |  |  /  __  \\                           !!\n",
      "   /  ^  \\    |  |_)  |    |  |  |  | |   \\|  |     ( _ )     |  |_)  | |  |_)  |    |  |  |  | |   \\|  | |  |  |  |                           !!\n",
      "  /  /_\\  \\   |      /     |  |  |  | |  . `  |     / _ \\/\\   |   _  <  |      /     |  |  |  | |  . `  | |  |  |  |                ___      -(!!      __ ___ _\n",
      " /  _____  \\  |  |\\  \\----.|  `--'  | |  |\\   |    | (_>  <   |  |_)  | |  |\\  \\----.|  `--'  | |  |\\   | |  `--'  |               |\\|  \\       !!_.-~~ /|\\-  \\~-._\n",
      "/__/     \\__\\ | _| `._____| \\______/  |__| \\__|     \\___/\\/   |______/  | _| `._____| \\______/  |__| \\__|  \\______/                | -\\| |      !!/   /  | |\\- | |\\ \\\n",
      "                                                                                                                                    \\__-\\|______ !!  |    \\___\\|  \\_\\|\n",
      "                                                                                                                              _____ _.-~/|\\     \\\\!!  \\  |  /       ~-.\n",
      "                                                                                                                            /     /|  / /|  \\    \\!!    \\ /          |\\~-\n",
      "                                                                                                                          /  ---/| | |   |\\  |     !!                 \\__|\n",
      "                                                                                                                         | ---/| | |  \\ /|  /    -(!!\n",
      "                                                                                                                         | -/| |  /     \\|/        !!\n",
      "                                                                                                                         |/____ /                  !!)-\n",
      "                                                                                                                                                   !!\n",
      "Initialising train\n",
      "Initialising track and subsoil\n"
     ]
    },
    {
     "name": "stderr",
     "output_type": "stream",
     "text": [
      "WARNING:root:height not defined, strain cannot be determined\n",
      "WARNING:root:height neutral axis not defined, strain cannot be determined\n"
     ]
    },
    {
     "name": "stdout",
     "output_type": "stream",
     "text": [
      "Initialising model parts\n",
      "Initialising global matrices\n",
      "Initialising global matrices\n",
      "Initialising track wheel interaction\n"
     ]
    },
    {
     "name": "stderr",
     "output_type": "stream",
     "text": [
      "100%|█████████████████████████████████████████████████████████████████████████████████████████████████████████████████████████████████████████████████████████████████████████████████████████████| 2.00/2.00 [00:00<00:00, 673steps/s]\n",
      "100%|███████████████████████████████████████████████████████████████████████████████████████████████████████████████████████████████████████████████████████████████████████████████████████████| 1.00/1.00 [00:00<00:00, 1.00ksteps/s]\n",
      "  0%|                                                                                                                                                                                                  | 0.00/5.00k [00:00<?, ?steps/s]"
     ]
    },
    {
     "name": "stdout",
     "output_type": "stream",
     "text": [
      "Initial static displacement of the train and the track\n",
      "Calculating calculation phase\n"
     ]
    },
    {
     "name": "stderr",
     "output_type": "stream",
     "text": [
      "100%|█████████████████████████████████████████████████████████████████████████████████████████████████████████████████████████████████████████████████████████████████████████████████████████| 5.00k/5.00k [00:02<00:00, 1.73ksteps/s]\n",
      "  5%|████████▋                                                                                                                                                                                  | 370/8.00k [00:00<00:04, 1.84ksteps/s]"
     ]
    },
    {
     "name": "stdout",
     "output_type": "stream",
     "text": [
      "Calculating calculation phase\n"
     ]
    },
    {
     "name": "stderr",
     "output_type": "stream",
     "text": [
      "100%|█████████████████████████████████████████████████████████████████████████████████████████████████████████████████████████████████████████████████████████████████████████████████████████| 8.00k/8.00k [00:04<00:00, 1.73ksteps/s]\n"
     ]
    },
    {
     "name": "stdout",
     "output_type": "stream",
     "text": [
      "Finalising calculation\n",
      "\n",
      "\n",
      "\n",
      "\u001b[3m  Your focus determines your reality. \u001b[0m\n",
      "\u001b[3m--- Qui - Gon Jinn\u001b[0m\n",
      ".______        ______        _______. _______\n",
      "|   _  \\      /  __  \\      /       ||   ____|                                                                                                       __\n",
      "|  |_)  |    |  |  |  |    |   (----`|  |__                                                                                                   ___  _// \\\n",
      "|      /     |  |  |  |     \\   \\    |   __|                                                                                                _/   \\/__|_ \\\n",
      "|  |\\  \\----.|  `--'  | .----)   |   |  |____                                                                                              /  __//_/==\\_| ___\n",
      "| _| `._____| \\______/  |_______/    |_______|                                                                                           / | / /|// == \\ \\   /\n",
      "  ___        _                                                                                                                           |  | |\\|| //_\\ | |_/\n",
      " | _ ) _  _ (_)                                                                                                                           \\  \\ \\\\ / \\_/| || \\\n",
      " | _ \\| || | _                                                                                                                             \\___/\\\\| _  ///___\\\n",
      " |___/ \\_, |(_)                                                                                                                              \\__|\\_\\=//_// _\\_|\n",
      "       |__/                                                                                                                                     \\___\\_____/\n",
      "     ___      .______        ______   .__   __.               .______   .______       __    __  .__   __.   ______                             !! \\____/\n",
      "    /   \\     |   _  \\      /  __  \\  |  \\ |  |      ___      |   _  \\  |   _  \\     |  |  |  | |  \\ |  |  /  __  \\                           !!\n",
      "   /  ^  \\    |  |_)  |    |  |  |  | |   \\|  |     ( _ )     |  |_)  | |  |_)  |    |  |  |  | |   \\|  | |  |  |  |                           !!\n",
      "  /  /_\\  \\   |      /     |  |  |  | |  . `  |     / _ \\/\\   |   _  <  |      /     |  |  |  | |  . `  | |  |  |  |                ___      -(!!      __ ___ _\n",
      " /  _____  \\  |  |\\  \\----.|  `--'  | |  |\\   |    | (_>  <   |  |_)  | |  |\\  \\----.|  `--'  | |  |\\   | |  `--'  |               |\\|  \\       !!_.-~~ /|\\-  \\~-._\n",
      "/__/     \\__\\ | _| `._____| \\______/  |__| \\__|     \\___/\\/   |______/  | _| `._____| \\______/  |__| \\__|  \\______/                | -\\| |      !!/   /  | |\\- | |\\ \\\n",
      "                                                                                                                                    \\__-\\|______ !!  |    \\___\\|  \\_\\|\n",
      "                                                                                                                              _____ _.-~/|\\     \\\\!!  \\  |  /       ~-.\n",
      "                                                                                                                            /     /|  / /|  \\    \\!!    \\ /          |\\~-\n",
      "                                                                                                                          /  ---/| | |   |\\  |     !!                 \\__|\n",
      "                                                                                                                         | ---/| | |  \\ /|  /    -(!!\n",
      "                                                                                                                         | -/| |  /     \\|/        !!\n",
      "                                                                                                                         |/____ /                  !!)-\n",
      "                                                                                                                                                   !!\n",
      "Initialising train\n",
      "Initialising track and subsoil\n"
     ]
    },
    {
     "name": "stderr",
     "output_type": "stream",
     "text": [
      "WARNING:root:height not defined, strain cannot be determined\n",
      "WARNING:root:height neutral axis not defined, strain cannot be determined\n"
     ]
    },
    {
     "name": "stdout",
     "output_type": "stream",
     "text": [
      "Initialising model parts\n",
      "Initialising global matrices\n",
      "Initialising global matrices\n",
      "Initialising track wheel interaction\n"
     ]
    },
    {
     "name": "stderr",
     "output_type": "stream",
     "text": [
      "100%|█████████████████████████████████████████████████████████████████████████████████████████████████████████████████████████████████████████████████████████████████████████████████████████████| 2.00/2.00 [00:00<00:00, 665steps/s]\n",
      "100%|█████████████████████████████████████████████████████████████████████████████████████████████████████████████████████████████████████████████████████████████████████████████████████████████| 1.00/1.00 [00:00<00:00, 998steps/s]\n",
      "  0%|                                                                                                                                                                                                  | 0.00/5.00k [00:00<?, ?steps/s]"
     ]
    },
    {
     "name": "stdout",
     "output_type": "stream",
     "text": [
      "Initial static displacement of the train and the track\n",
      "Calculating calculation phase\n"
     ]
    },
    {
     "name": "stderr",
     "output_type": "stream",
     "text": [
      "100%|█████████████████████████████████████████████████████████████████████████████████████████████████████████████████████████████████████████████████████████████████████████████████████████| 5.00k/5.00k [00:02<00:00, 1.68ksteps/s]\n",
      "  5%|████████▌                                                                                                                                                                                  | 367/8.00k [00:00<00:04, 1.83ksteps/s]"
     ]
    },
    {
     "name": "stdout",
     "output_type": "stream",
     "text": [
      "Calculating calculation phase\n"
     ]
    },
    {
     "name": "stderr",
     "output_type": "stream",
     "text": [
      "100%|█████████████████████████████████████████████████████████████████████████████████████████████████████████████████████████████████████████████████████████████████████████████████████████| 8.00k/8.00k [00:04<00:00, 1.75ksteps/s]\n"
     ]
    },
    {
     "name": "stdout",
     "output_type": "stream",
     "text": [
      "Finalising calculation\n",
      "\n",
      "\n",
      "\n",
      "\u001b[3m  Your focus determines your reality. \u001b[0m\n",
      "\u001b[3m--- Qui - Gon Jinn\u001b[0m\n",
      ".______        ______        _______. _______\n",
      "|   _  \\      /  __  \\      /       ||   ____|                                                                                                       __\n",
      "|  |_)  |    |  |  |  |    |   (----`|  |__                                                                                                   ___  _// \\\n",
      "|      /     |  |  |  |     \\   \\    |   __|                                                                                                _/   \\/__|_ \\\n",
      "|  |\\  \\----.|  `--'  | .----)   |   |  |____                                                                                              /  __//_/==\\_| ___\n",
      "| _| `._____| \\______/  |_______/    |_______|                                                                                           / | / /|// == \\ \\   /\n",
      "  ___        _                                                                                                                           |  | |\\|| //_\\ | |_/\n",
      " | _ ) _  _ (_)                                                                                                                           \\  \\ \\\\ / \\_/| || \\\n",
      " | _ \\| || | _                                                                                                                             \\___/\\\\| _  ///___\\\n",
      " |___/ \\_, |(_)                                                                                                                              \\__|\\_\\=//_// _\\_|\n",
      "       |__/                                                                                                                                     \\___\\_____/\n",
      "     ___      .______        ______   .__   __.               .______   .______       __    __  .__   __.   ______                             !! \\____/\n",
      "    /   \\     |   _  \\      /  __  \\  |  \\ |  |      ___      |   _  \\  |   _  \\     |  |  |  | |  \\ |  |  /  __  \\                           !!\n",
      "   /  ^  \\    |  |_)  |    |  |  |  | |   \\|  |     ( _ )     |  |_)  | |  |_)  |    |  |  |  | |   \\|  | |  |  |  |                           !!\n",
      "  /  /_\\  \\   |      /     |  |  |  | |  . `  |     / _ \\/\\   |   _  <  |      /     |  |  |  | |  . `  | |  |  |  |                ___      -(!!      __ ___ _\n",
      " /  _____  \\  |  |\\  \\----.|  `--'  | |  |\\   |    | (_>  <   |  |_)  | |  |\\  \\----.|  `--'  | |  |\\   | |  `--'  |               |\\|  \\       !!_.-~~ /|\\-  \\~-._\n",
      "/__/     \\__\\ | _| `._____| \\______/  |__| \\__|     \\___/\\/   |______/  | _| `._____| \\______/  |__| \\__|  \\______/                | -\\| |      !!/   /  | |\\- | |\\ \\\n",
      "                                                                                                                                    \\__-\\|______ !!  |    \\___\\|  \\_\\|\n",
      "                                                                                                                              _____ _.-~/|\\     \\\\!!  \\  |  /       ~-.\n",
      "                                                                                                                            /     /|  / /|  \\    \\!!    \\ /          |\\~-\n",
      "                                                                                                                          /  ---/| | |   |\\  |     !!                 \\__|\n",
      "                                                                                                                         | ---/| | |  \\ /|  /    -(!!\n",
      "                                                                                                                         | -/| |  /     \\|/        !!\n",
      "                                                                                                                         |/____ /                  !!)-\n",
      "                                                                                                                                                   !!\n",
      "Initialising train\n",
      "Initialising track and subsoil\n"
     ]
    },
    {
     "name": "stderr",
     "output_type": "stream",
     "text": [
      "WARNING:root:height not defined, strain cannot be determined\n",
      "WARNING:root:height neutral axis not defined, strain cannot be determined\n"
     ]
    },
    {
     "name": "stdout",
     "output_type": "stream",
     "text": [
      "Initialising model parts\n",
      "Initialising global matrices\n",
      "Initialising global matrices\n",
      "Initialising track wheel interaction\n"
     ]
    },
    {
     "name": "stderr",
     "output_type": "stream",
     "text": [
      "100%|█████████████████████████████████████████████████████████████████████████████████████████████████████████████████████████████████████████████████████████████████████████████████████████████| 2.00/2.00 [00:00<00:00, 499steps/s]\n",
      "100%|███████████████████████████████████████████████████████████████████████████████████████████████████████████████████████████████████████████████████████████████████████████████████████████| 1.00/1.00 [00:00<00:00, 1.00ksteps/s]\n",
      "  0%|                                                                                                                                                                                                  | 0.00/5.00k [00:00<?, ?steps/s]"
     ]
    },
    {
     "name": "stdout",
     "output_type": "stream",
     "text": [
      "Initial static displacement of the train and the track\n",
      "Calculating calculation phase\n"
     ]
    },
    {
     "name": "stderr",
     "output_type": "stream",
     "text": [
      "100%|█████████████████████████████████████████████████████████████████████████████████████████████████████████████████████████████████████████████████████████████████████████████████████████| 5.00k/5.00k [00:02<00:00, 1.67ksteps/s]\n",
      "  2%|████▎                                                                                                                                                                                      | 184/8.00k [00:00<00:04, 1.84ksteps/s]"
     ]
    },
    {
     "name": "stdout",
     "output_type": "stream",
     "text": [
      "Calculating calculation phase\n"
     ]
    },
    {
     "name": "stderr",
     "output_type": "stream",
     "text": [
      "100%|█████████████████████████████████████████████████████████████████████████████████████████████████████████████████████████████████████████████████████████████████████████████████████████| 8.00k/8.00k [00:04<00:00, 1.73ksteps/s]\n"
     ]
    },
    {
     "name": "stdout",
     "output_type": "stream",
     "text": [
      "Finalising calculation\n",
      "\n",
      "\n",
      "\n",
      "\u001b[3m  Your focus determines your reality. \u001b[0m\n",
      "\u001b[3m--- Qui - Gon Jinn\u001b[0m\n",
      ".______        ______        _______. _______\n",
      "|   _  \\      /  __  \\      /       ||   ____|                                                                                                       __\n",
      "|  |_)  |    |  |  |  |    |   (----`|  |__                                                                                                   ___  _// \\\n",
      "|      /     |  |  |  |     \\   \\    |   __|                                                                                                _/   \\/__|_ \\\n",
      "|  |\\  \\----.|  `--'  | .----)   |   |  |____                                                                                              /  __//_/==\\_| ___\n",
      "| _| `._____| \\______/  |_______/    |_______|                                                                                           / | / /|// == \\ \\   /\n",
      "  ___        _                                                                                                                           |  | |\\|| //_\\ | |_/\n",
      " | _ ) _  _ (_)                                                                                                                           \\  \\ \\\\ / \\_/| || \\\n",
      " | _ \\| || | _                                                                                                                             \\___/\\\\| _  ///___\\\n",
      " |___/ \\_, |(_)                                                                                                                              \\__|\\_\\=//_// _\\_|\n",
      "       |__/                                                                                                                                     \\___\\_____/\n",
      "     ___      .______        ______   .__   __.               .______   .______       __    __  .__   __.   ______                             !! \\____/\n",
      "    /   \\     |   _  \\      /  __  \\  |  \\ |  |      ___      |   _  \\  |   _  \\     |  |  |  | |  \\ |  |  /  __  \\                           !!\n",
      "   /  ^  \\    |  |_)  |    |  |  |  | |   \\|  |     ( _ )     |  |_)  | |  |_)  |    |  |  |  | |   \\|  | |  |  |  |                           !!\n",
      "  /  /_\\  \\   |      /     |  |  |  | |  . `  |     / _ \\/\\   |   _  <  |      /     |  |  |  | |  . `  | |  |  |  |                ___      -(!!      __ ___ _\n",
      " /  _____  \\  |  |\\  \\----.|  `--'  | |  |\\   |    | (_>  <   |  |_)  | |  |\\  \\----.|  `--'  | |  |\\   | |  `--'  |               |\\|  \\       !!_.-~~ /|\\-  \\~-._\n",
      "/__/     \\__\\ | _| `._____| \\______/  |__| \\__|     \\___/\\/   |______/  | _| `._____| \\______/  |__| \\__|  \\______/                | -\\| |      !!/   /  | |\\- | |\\ \\\n",
      "                                                                                                                                    \\__-\\|______ !!  |    \\___\\|  \\_\\|\n",
      "                                                                                                                              _____ _.-~/|\\     \\\\!!  \\  |  /       ~-.\n",
      "                                                                                                                            /     /|  / /|  \\    \\!!    \\ /          |\\~-\n",
      "                                                                                                                          /  ---/| | |   |\\  |     !!                 \\__|\n",
      "                                                                                                                         | ---/| | |  \\ /|  /    -(!!\n",
      "                                                                                                                         | -/| |  /     \\|/        !!\n",
      "                                                                                                                         |/____ /                  !!)-\n",
      "                                                                                                                                                   !!\n",
      "Initialising train\n",
      "Initialising track and subsoil\n"
     ]
    },
    {
     "name": "stderr",
     "output_type": "stream",
     "text": [
      "WARNING:root:height not defined, strain cannot be determined\n",
      "WARNING:root:height neutral axis not defined, strain cannot be determined\n"
     ]
    },
    {
     "name": "stdout",
     "output_type": "stream",
     "text": [
      "Initialising model parts\n",
      "Initialising global matrices\n",
      "Initialising global matrices\n",
      "Initialising track wheel interaction\n"
     ]
    },
    {
     "name": "stderr",
     "output_type": "stream",
     "text": [
      "100%|█████████████████████████████████████████████████████████████████████████████████████████████████████████████████████████████████████████████████████████████████████████████████████████████| 2.00/2.00 [00:00<00:00, 674steps/s]\n",
      "100%|███████████████████████████████████████████████████████████████████████████████████████████████████████████████████████████████████████████████████████████████████████████████████████████| 1.00/1.00 [00:00<00:00, 1.00ksteps/s]\n",
      "  0%|                                                                                                                                                                                                  | 0.00/5.00k [00:00<?, ?steps/s]"
     ]
    },
    {
     "name": "stdout",
     "output_type": "stream",
     "text": [
      "Initial static displacement of the train and the track\n",
      "Calculating calculation phase\n"
     ]
    },
    {
     "name": "stderr",
     "output_type": "stream",
     "text": [
      "100%|█████████████████████████████████████████████████████████████████████████████████████████████████████████████████████████████████████████████████████████████████████████████████████████| 5.00k/5.00k [00:02<00:00, 1.75ksteps/s]\n",
      "  2%|████▍                                                                                                                                                                                      | 190/8.00k [00:00<00:04, 1.88ksteps/s]"
     ]
    },
    {
     "name": "stdout",
     "output_type": "stream",
     "text": [
      "Calculating calculation phase\n"
     ]
    },
    {
     "name": "stderr",
     "output_type": "stream",
     "text": [
      "100%|█████████████████████████████████████████████████████████████████████████████████████████████████████████████████████████████████████████████████████████████████████████████████████████| 8.00k/8.00k [00:04<00:00, 1.78ksteps/s]\n"
     ]
    },
    {
     "name": "stdout",
     "output_type": "stream",
     "text": [
      "Finalising calculation\n",
      "\n",
      "\n",
      "\n",
      "\u001b[3m  Your focus determines your reality. \u001b[0m\n",
      "\u001b[3m--- Qui - Gon Jinn\u001b[0m\n",
      ".______        ______        _______. _______\n",
      "|   _  \\      /  __  \\      /       ||   ____|                                                                                                       __\n",
      "|  |_)  |    |  |  |  |    |   (----`|  |__                                                                                                   ___  _// \\\n",
      "|      /     |  |  |  |     \\   \\    |   __|                                                                                                _/   \\/__|_ \\\n",
      "|  |\\  \\----.|  `--'  | .----)   |   |  |____                                                                                              /  __//_/==\\_| ___\n",
      "| _| `._____| \\______/  |_______/    |_______|                                                                                           / | / /|// == \\ \\   /\n",
      "  ___        _                                                                                                                           |  | |\\|| //_\\ | |_/\n",
      " | _ ) _  _ (_)                                                                                                                           \\  \\ \\\\ / \\_/| || \\\n",
      " | _ \\| || | _                                                                                                                             \\___/\\\\| _  ///___\\\n",
      " |___/ \\_, |(_)                                                                                                                              \\__|\\_\\=//_// _\\_|\n",
      "       |__/                                                                                                                                     \\___\\_____/\n",
      "     ___      .______        ______   .__   __.               .______   .______       __    __  .__   __.   ______                             !! \\____/\n",
      "    /   \\     |   _  \\      /  __  \\  |  \\ |  |      ___      |   _  \\  |   _  \\     |  |  |  | |  \\ |  |  /  __  \\                           !!\n",
      "   /  ^  \\    |  |_)  |    |  |  |  | |   \\|  |     ( _ )     |  |_)  | |  |_)  |    |  |  |  | |   \\|  | |  |  |  |                           !!\n",
      "  /  /_\\  \\   |      /     |  |  |  | |  . `  |     / _ \\/\\   |   _  <  |      /     |  |  |  | |  . `  | |  |  |  |                ___      -(!!      __ ___ _\n",
      " /  _____  \\  |  |\\  \\----.|  `--'  | |  |\\   |    | (_>  <   |  |_)  | |  |\\  \\----.|  `--'  | |  |\\   | |  `--'  |               |\\|  \\       !!_.-~~ /|\\-  \\~-._\n",
      "/__/     \\__\\ | _| `._____| \\______/  |__| \\__|     \\___/\\/   |______/  | _| `._____| \\______/  |__| \\__|  \\______/                | -\\| |      !!/   /  | |\\- | |\\ \\\n",
      "                                                                                                                                    \\__-\\|______ !!  |    \\___\\|  \\_\\|\n",
      "                                                                                                                              _____ _.-~/|\\     \\\\!!  \\  |  /       ~-.\n",
      "                                                                                                                            /     /|  / /|  \\    \\!!    \\ /          |\\~-\n",
      "                                                                                                                          /  ---/| | |   |\\  |     !!                 \\__|\n",
      "                                                                                                                         | ---/| | |  \\ /|  /    -(!!\n",
      "                                                                                                                         | -/| |  /     \\|/        !!\n",
      "                                                                                                                         |/____ /                  !!)-\n",
      "                                                                                                                                                   !!\n",
      "Initialising train\n",
      "Initialising track and subsoil\n"
     ]
    },
    {
     "name": "stderr",
     "output_type": "stream",
     "text": [
      "WARNING:root:height not defined, strain cannot be determined\n",
      "WARNING:root:height neutral axis not defined, strain cannot be determined\n"
     ]
    },
    {
     "name": "stdout",
     "output_type": "stream",
     "text": [
      "Initialising model parts\n",
      "Initialising global matrices\n",
      "Initialising global matrices\n",
      "Initialising track wheel interaction\n"
     ]
    },
    {
     "name": "stderr",
     "output_type": "stream",
     "text": [
      "100%|█████████████████████████████████████████████████████████████████████████████████████████████████████████████████████████████████████████████████████████████████████████████████████████████| 2.00/2.00 [00:00<00:00, 666steps/s]\n",
      "100%|███████████████████████████████████████████████████████████████████████████████████████████████████████████████████████████████████████████████████████████████████████████████████████████| 1.00/1.00 [00:00<00:00, 1.03ksteps/s]\n",
      "  0%|                                                                                                                                                                                                  | 0.00/5.00k [00:00<?, ?steps/s]"
     ]
    },
    {
     "name": "stdout",
     "output_type": "stream",
     "text": [
      "Initial static displacement of the train and the track\n",
      "Calculating calculation phase\n"
     ]
    },
    {
     "name": "stderr",
     "output_type": "stream",
     "text": [
      "100%|█████████████████████████████████████████████████████████████████████████████████████████████████████████████████████████████████████████████████████████████████████████████████████████| 5.00k/5.00k [00:02<00:00, 1.73ksteps/s]\n",
      "  2%|████▎                                                                                                                                                                                      | 185/8.00k [00:00<00:04, 1.85ksteps/s]"
     ]
    },
    {
     "name": "stdout",
     "output_type": "stream",
     "text": [
      "Calculating calculation phase\n"
     ]
    },
    {
     "name": "stderr",
     "output_type": "stream",
     "text": [
      "100%|█████████████████████████████████████████████████████████████████████████████████████████████████████████████████████████████████████████████████████████████████████████████████████████| 8.00k/8.00k [00:04<00:00, 1.75ksteps/s]\n"
     ]
    },
    {
     "name": "stdout",
     "output_type": "stream",
     "text": [
      "Finalising calculation\n",
      "\n",
      "\n",
      "\n",
      "\u001b[3m  Your focus determines your reality. \u001b[0m\n",
      "\u001b[3m--- Qui - Gon Jinn\u001b[0m\n",
      ".______        ______        _______. _______\n",
      "|   _  \\      /  __  \\      /       ||   ____|                                                                                                       __\n",
      "|  |_)  |    |  |  |  |    |   (----`|  |__                                                                                                   ___  _// \\\n",
      "|      /     |  |  |  |     \\   \\    |   __|                                                                                                _/   \\/__|_ \\\n",
      "|  |\\  \\----.|  `--'  | .----)   |   |  |____                                                                                              /  __//_/==\\_| ___\n",
      "| _| `._____| \\______/  |_______/    |_______|                                                                                           / | / /|// == \\ \\   /\n",
      "  ___        _                                                                                                                           |  | |\\|| //_\\ | |_/\n",
      " | _ ) _  _ (_)                                                                                                                           \\  \\ \\\\ / \\_/| || \\\n",
      " | _ \\| || | _                                                                                                                             \\___/\\\\| _  ///___\\\n",
      " |___/ \\_, |(_)                                                                                                                              \\__|\\_\\=//_// _\\_|\n",
      "       |__/                                                                                                                                     \\___\\_____/\n",
      "     ___      .______        ______   .__   __.               .______   .______       __    __  .__   __.   ______                             !! \\____/\n",
      "    /   \\     |   _  \\      /  __  \\  |  \\ |  |      ___      |   _  \\  |   _  \\     |  |  |  | |  \\ |  |  /  __  \\                           !!\n",
      "   /  ^  \\    |  |_)  |    |  |  |  | |   \\|  |     ( _ )     |  |_)  | |  |_)  |    |  |  |  | |   \\|  | |  |  |  |                           !!\n",
      "  /  /_\\  \\   |      /     |  |  |  | |  . `  |     / _ \\/\\   |   _  <  |      /     |  |  |  | |  . `  | |  |  |  |                ___      -(!!      __ ___ _\n",
      " /  _____  \\  |  |\\  \\----.|  `--'  | |  |\\   |    | (_>  <   |  |_)  | |  |\\  \\----.|  `--'  | |  |\\   | |  `--'  |               |\\|  \\       !!_.-~~ /|\\-  \\~-._\n",
      "/__/     \\__\\ | _| `._____| \\______/  |__| \\__|     \\___/\\/   |______/  | _| `._____| \\______/  |__| \\__|  \\______/                | -\\| |      !!/   /  | |\\- | |\\ \\\n",
      "                                                                                                                                    \\__-\\|______ !!  |    \\___\\|  \\_\\|\n",
      "                                                                                                                              _____ _.-~/|\\     \\\\!!  \\  |  /       ~-.\n",
      "                                                                                                                            /     /|  / /|  \\    \\!!    \\ /          |\\~-\n",
      "                                                                                                                          /  ---/| | |   |\\  |     !!                 \\__|\n",
      "                                                                                                                         | ---/| | |  \\ /|  /    -(!!\n",
      "                                                                                                                         | -/| |  /     \\|/        !!\n",
      "                                                                                                                         |/____ /                  !!)-\n",
      "                                                                                                                                                   !!\n",
      "Initialising train\n",
      "Initialising track and subsoil\n"
     ]
    },
    {
     "name": "stderr",
     "output_type": "stream",
     "text": [
      "WARNING:root:height not defined, strain cannot be determined\n",
      "WARNING:root:height neutral axis not defined, strain cannot be determined\n"
     ]
    },
    {
     "name": "stdout",
     "output_type": "stream",
     "text": [
      "Initialising model parts\n",
      "Initialising global matrices\n",
      "Initialising global matrices\n",
      "Initialising track wheel interaction\n"
     ]
    },
    {
     "name": "stderr",
     "output_type": "stream",
     "text": [
      "100%|█████████████████████████████████████████████████████████████████████████████████████████████████████████████████████████████████████████████████████████████████████████████████████████████| 2.00/2.00 [00:00<00:00, 666steps/s]\n",
      "100%|███████████████████████████████████████████████████████████████████████████████████████████████████████████████████████████████████████████████████████████████████████████████████████████| 1.00/1.00 [00:00<00:00, 1.00ksteps/s]"
     ]
    },
    {
     "name": "stdout",
     "output_type": "stream",
     "text": [
      "Initial static displacement of the train and the track\n",
      "Calculating calculation phase\n"
     ]
    },
    {
     "name": "stderr",
     "output_type": "stream",
     "text": [
      "\n",
      "100%|█████████████████████████████████████████████████████████████████████████████████████████████████████████████████████████████████████████████████████████████████████████████████████████| 5.00k/5.00k [00:02<00:00, 1.74ksteps/s]\n",
      "  5%|████████▋                                                                                                                                                                                  | 372/8.00k [00:00<00:04, 1.85ksteps/s]"
     ]
    },
    {
     "name": "stdout",
     "output_type": "stream",
     "text": [
      "Calculating calculation phase\n"
     ]
    },
    {
     "name": "stderr",
     "output_type": "stream",
     "text": [
      "100%|█████████████████████████████████████████████████████████████████████████████████████████████████████████████████████████████████████████████████████████████████████████████████████████| 8.00k/8.00k [00:04<00:00, 1.74ksteps/s]\n"
     ]
    },
    {
     "name": "stdout",
     "output_type": "stream",
     "text": [
      "Finalising calculation\n",
      "\n",
      "\n",
      "\n",
      "\u001b[3m  Your focus determines your reality. \u001b[0m\n",
      "\u001b[3m--- Qui - Gon Jinn\u001b[0m\n",
      ".______        ______        _______. _______\n",
      "|   _  \\      /  __  \\      /       ||   ____|                                                                                                       __\n",
      "|  |_)  |    |  |  |  |    |   (----`|  |__                                                                                                   ___  _// \\\n",
      "|      /     |  |  |  |     \\   \\    |   __|                                                                                                _/   \\/__|_ \\\n",
      "|  |\\  \\----.|  `--'  | .----)   |   |  |____                                                                                              /  __//_/==\\_| ___\n",
      "| _| `._____| \\______/  |_______/    |_______|                                                                                           / | / /|// == \\ \\   /\n",
      "  ___        _                                                                                                                           |  | |\\|| //_\\ | |_/\n",
      " | _ ) _  _ (_)                                                                                                                           \\  \\ \\\\ / \\_/| || \\\n",
      " | _ \\| || | _                                                                                                                             \\___/\\\\| _  ///___\\\n",
      " |___/ \\_, |(_)                                                                                                                              \\__|\\_\\=//_// _\\_|\n",
      "       |__/                                                                                                                                     \\___\\_____/\n",
      "     ___      .______        ______   .__   __.               .______   .______       __    __  .__   __.   ______                             !! \\____/\n",
      "    /   \\     |   _  \\      /  __  \\  |  \\ |  |      ___      |   _  \\  |   _  \\     |  |  |  | |  \\ |  |  /  __  \\                           !!\n",
      "   /  ^  \\    |  |_)  |    |  |  |  | |   \\|  |     ( _ )     |  |_)  | |  |_)  |    |  |  |  | |   \\|  | |  |  |  |                           !!\n",
      "  /  /_\\  \\   |      /     |  |  |  | |  . `  |     / _ \\/\\   |   _  <  |      /     |  |  |  | |  . `  | |  |  |  |                ___      -(!!      __ ___ _\n",
      " /  _____  \\  |  |\\  \\----.|  `--'  | |  |\\   |    | (_>  <   |  |_)  | |  |\\  \\----.|  `--'  | |  |\\   | |  `--'  |               |\\|  \\       !!_.-~~ /|\\-  \\~-._\n",
      "/__/     \\__\\ | _| `._____| \\______/  |__| \\__|     \\___/\\/   |______/  | _| `._____| \\______/  |__| \\__|  \\______/                | -\\| |      !!/   /  | |\\- | |\\ \\\n",
      "                                                                                                                                    \\__-\\|______ !!  |    \\___\\|  \\_\\|\n",
      "                                                                                                                              _____ _.-~/|\\     \\\\!!  \\  |  /       ~-.\n",
      "                                                                                                                            /     /|  / /|  \\    \\!!    \\ /          |\\~-\n",
      "                                                                                                                          /  ---/| | |   |\\  |     !!                 \\__|\n",
      "                                                                                                                         | ---/| | |  \\ /|  /    -(!!\n",
      "                                                                                                                         | -/| |  /     \\|/        !!\n",
      "                                                                                                                         |/____ /                  !!)-\n",
      "                                                                                                                                                   !!\n",
      "Initialising train\n",
      "Initialising track and subsoil\n"
     ]
    },
    {
     "name": "stderr",
     "output_type": "stream",
     "text": [
      "WARNING:root:height not defined, strain cannot be determined\n",
      "WARNING:root:height neutral axis not defined, strain cannot be determined\n"
     ]
    },
    {
     "name": "stdout",
     "output_type": "stream",
     "text": [
      "Initialising model parts\n",
      "Initialising global matrices\n",
      "Initialising global matrices\n",
      "Initialising track wheel interaction\n"
     ]
    },
    {
     "name": "stderr",
     "output_type": "stream",
     "text": [
      "100%|█████████████████████████████████████████████████████████████████████████████████████████████████████████████████████████████████████████████████████████████████████████████████████████████| 2.00/2.00 [00:00<00:00, 999steps/s]\n",
      "100%|███████████████████████████████████████████████████████████████████████████████████████████████████████████████████████████████████████████████████████████████████████████████████████████████████| 1.00/1.00 [00:00<?, ?steps/s]\n",
      "  0%|                                                                                                                                                                                                  | 0.00/5.00k [00:00<?, ?steps/s]"
     ]
    },
    {
     "name": "stdout",
     "output_type": "stream",
     "text": [
      "Initial static displacement of the train and the track\n",
      "Calculating calculation phase\n"
     ]
    },
    {
     "name": "stderr",
     "output_type": "stream",
     "text": [
      "100%|█████████████████████████████████████████████████████████████████████████████████████████████████████████████████████████████████████████████████████████████████████████████████████████| 5.00k/5.00k [00:03<00:00, 1.64ksteps/s]\n",
      "  4%|███████▉                                                                                                                                                                                   | 337/8.00k [00:00<00:04, 1.68ksteps/s]"
     ]
    },
    {
     "name": "stdout",
     "output_type": "stream",
     "text": [
      "Calculating calculation phase\n"
     ]
    },
    {
     "name": "stderr",
     "output_type": "stream",
     "text": [
      "100%|█████████████████████████████████████████████████████████████████████████████████████████████████████████████████████████████████████████████████████████████████████████████████████████| 8.00k/8.00k [00:04<00:00, 1.71ksteps/s]\n"
     ]
    },
    {
     "name": "stdout",
     "output_type": "stream",
     "text": [
      "Finalising calculation\n",
      "\n",
      "\n",
      "\n",
      "\u001b[3m  Your focus determines your reality. \u001b[0m\n",
      "\u001b[3m--- Qui - Gon Jinn\u001b[0m\n",
      ".______        ______        _______. _______\n",
      "|   _  \\      /  __  \\      /       ||   ____|                                                                                                       __\n",
      "|  |_)  |    |  |  |  |    |   (----`|  |__                                                                                                   ___  _// \\\n",
      "|      /     |  |  |  |     \\   \\    |   __|                                                                                                _/   \\/__|_ \\\n",
      "|  |\\  \\----.|  `--'  | .----)   |   |  |____                                                                                              /  __//_/==\\_| ___\n",
      "| _| `._____| \\______/  |_______/    |_______|                                                                                           / | / /|// == \\ \\   /\n",
      "  ___        _                                                                                                                           |  | |\\|| //_\\ | |_/\n",
      " | _ ) _  _ (_)                                                                                                                           \\  \\ \\\\ / \\_/| || \\\n",
      " | _ \\| || | _                                                                                                                             \\___/\\\\| _  ///___\\\n",
      " |___/ \\_, |(_)                                                                                                                              \\__|\\_\\=//_// _\\_|\n",
      "       |__/                                                                                                                                     \\___\\_____/\n",
      "     ___      .______        ______   .__   __.               .______   .______       __    __  .__   __.   ______                             !! \\____/\n",
      "    /   \\     |   _  \\      /  __  \\  |  \\ |  |      ___      |   _  \\  |   _  \\     |  |  |  | |  \\ |  |  /  __  \\                           !!\n",
      "   /  ^  \\    |  |_)  |    |  |  |  | |   \\|  |     ( _ )     |  |_)  | |  |_)  |    |  |  |  | |   \\|  | |  |  |  |                           !!\n",
      "  /  /_\\  \\   |      /     |  |  |  | |  . `  |     / _ \\/\\   |   _  <  |      /     |  |  |  | |  . `  | |  |  |  |                ___      -(!!      __ ___ _\n",
      " /  _____  \\  |  |\\  \\----.|  `--'  | |  |\\   |    | (_>  <   |  |_)  | |  |\\  \\----.|  `--'  | |  |\\   | |  `--'  |               |\\|  \\       !!_.-~~ /|\\-  \\~-._\n",
      "/__/     \\__\\ | _| `._____| \\______/  |__| \\__|     \\___/\\/   |______/  | _| `._____| \\______/  |__| \\__|  \\______/                | -\\| |      !!/   /  | |\\- | |\\ \\\n",
      "                                                                                                                                    \\__-\\|______ !!  |    \\___\\|  \\_\\|\n",
      "                                                                                                                              _____ _.-~/|\\     \\\\!!  \\  |  /       ~-.\n",
      "                                                                                                                            /     /|  / /|  \\    \\!!    \\ /          |\\~-\n",
      "                                                                                                                          /  ---/| | |   |\\  |     !!                 \\__|\n",
      "                                                                                                                         | ---/| | |  \\ /|  /    -(!!\n",
      "                                                                                                                         | -/| |  /     \\|/        !!\n",
      "                                                                                                                         |/____ /                  !!)-\n",
      "                                                                                                                                                   !!\n",
      "Initialising train\n",
      "Initialising track and subsoil\n"
     ]
    },
    {
     "name": "stderr",
     "output_type": "stream",
     "text": [
      "WARNING:root:height not defined, strain cannot be determined\n",
      "WARNING:root:height neutral axis not defined, strain cannot be determined\n"
     ]
    },
    {
     "name": "stdout",
     "output_type": "stream",
     "text": [
      "Initialising model parts\n",
      "Initialising global matrices\n",
      "Initialising global matrices\n",
      "Initialising track wheel interaction\n"
     ]
    },
    {
     "name": "stderr",
     "output_type": "stream",
     "text": [
      "100%|█████████████████████████████████████████████████████████████████████████████████████████████████████████████████████████████████████████████████████████████████████████████████████████████| 2.00/2.00 [00:00<00:00, 495steps/s]\n",
      "100%|█████████████████████████████████████████████████████████████████████████████████████████████████████████████████████████████████████████████████████████████████████████████████████████████| 1.00/1.00 [00:00<00:00, 969steps/s]"
     ]
    },
    {
     "name": "stdout",
     "output_type": "stream",
     "text": [
      "Initial static displacement of the train and the track\n",
      "Calculating calculation phase\n"
     ]
    },
    {
     "name": "stderr",
     "output_type": "stream",
     "text": [
      "\n",
      "100%|█████████████████████████████████████████████████████████████████████████████████████████████████████████████████████████████████████████████████████████████████████████████████████████| 5.00k/5.00k [00:02<00:00, 1.74ksteps/s]\n",
      "  2%|████▎                                                                                                                                                                                      | 185/8.00k [00:00<00:04, 1.85ksteps/s]"
     ]
    },
    {
     "name": "stdout",
     "output_type": "stream",
     "text": [
      "Calculating calculation phase\n"
     ]
    },
    {
     "name": "stderr",
     "output_type": "stream",
     "text": [
      "100%|█████████████████████████████████████████████████████████████████████████████████████████████████████████████████████████████████████████████████████████████████████████████████████████| 8.00k/8.00k [00:04<00:00, 1.77ksteps/s]\n"
     ]
    },
    {
     "name": "stdout",
     "output_type": "stream",
     "text": [
      "Finalising calculation\n",
      "\n",
      "\n",
      "\n",
      "\u001b[3m  Your focus determines your reality. \u001b[0m\n",
      "\u001b[3m--- Qui - Gon Jinn\u001b[0m\n",
      ".______        ______        _______. _______\n",
      "|   _  \\      /  __  \\      /       ||   ____|                                                                                                       __\n",
      "|  |_)  |    |  |  |  |    |   (----`|  |__                                                                                                   ___  _// \\\n",
      "|      /     |  |  |  |     \\   \\    |   __|                                                                                                _/   \\/__|_ \\\n",
      "|  |\\  \\----.|  `--'  | .----)   |   |  |____                                                                                              /  __//_/==\\_| ___\n",
      "| _| `._____| \\______/  |_______/    |_______|                                                                                           / | / /|// == \\ \\   /\n",
      "  ___        _                                                                                                                           |  | |\\|| //_\\ | |_/\n",
      " | _ ) _  _ (_)                                                                                                                           \\  \\ \\\\ / \\_/| || \\\n",
      " | _ \\| || | _                                                                                                                             \\___/\\\\| _  ///___\\\n",
      " |___/ \\_, |(_)                                                                                                                              \\__|\\_\\=//_// _\\_|\n",
      "       |__/                                                                                                                                     \\___\\_____/\n",
      "     ___      .______        ______   .__   __.               .______   .______       __    __  .__   __.   ______                             !! \\____/\n",
      "    /   \\     |   _  \\      /  __  \\  |  \\ |  |      ___      |   _  \\  |   _  \\     |  |  |  | |  \\ |  |  /  __  \\                           !!\n",
      "   /  ^  \\    |  |_)  |    |  |  |  | |   \\|  |     ( _ )     |  |_)  | |  |_)  |    |  |  |  | |   \\|  | |  |  |  |                           !!\n",
      "  /  /_\\  \\   |      /     |  |  |  | |  . `  |     / _ \\/\\   |   _  <  |      /     |  |  |  | |  . `  | |  |  |  |                ___      -(!!      __ ___ _\n",
      " /  _____  \\  |  |\\  \\----.|  `--'  | |  |\\   |    | (_>  <   |  |_)  | |  |\\  \\----.|  `--'  | |  |\\   | |  `--'  |               |\\|  \\       !!_.-~~ /|\\-  \\~-._\n",
      "/__/     \\__\\ | _| `._____| \\______/  |__| \\__|     \\___/\\/   |______/  | _| `._____| \\______/  |__| \\__|  \\______/                | -\\| |      !!/   /  | |\\- | |\\ \\\n",
      "                                                                                                                                    \\__-\\|______ !!  |    \\___\\|  \\_\\|\n",
      "                                                                                                                              _____ _.-~/|\\     \\\\!!  \\  |  /       ~-.\n",
      "                                                                                                                            /     /|  / /|  \\    \\!!    \\ /          |\\~-\n",
      "                                                                                                                          /  ---/| | |   |\\  |     !!                 \\__|\n",
      "                                                                                                                         | ---/| | |  \\ /|  /    -(!!\n",
      "                                                                                                                         | -/| |  /     \\|/        !!\n",
      "                                                                                                                         |/____ /                  !!)-\n",
      "                                                                                                                                                   !!\n",
      "Initialising train\n",
      "Initialising track and subsoil\n"
     ]
    },
    {
     "name": "stderr",
     "output_type": "stream",
     "text": [
      "WARNING:root:height not defined, strain cannot be determined\n",
      "WARNING:root:height neutral axis not defined, strain cannot be determined\n"
     ]
    },
    {
     "name": "stdout",
     "output_type": "stream",
     "text": [
      "Initialising model parts\n",
      "Initialising global matrices\n",
      "Initialising global matrices\n",
      "Initialising track wheel interaction\n"
     ]
    },
    {
     "name": "stderr",
     "output_type": "stream",
     "text": [
      "100%|█████████████████████████████████████████████████████████████████████████████████████████████████████████████████████████████████████████████████████████████████████████████████████████████| 2.00/2.00 [00:00<00:00, 505steps/s]\n",
      "100%|███████████████████████████████████████████████████████████████████████████████████████████████████████████████████████████████████████████████████████████████████████████████████████████████████| 1.00/1.00 [00:00<?, ?steps/s]\n",
      "  0%|                                                                                                                                                                                                  | 0.00/5.00k [00:00<?, ?steps/s]"
     ]
    },
    {
     "name": "stdout",
     "output_type": "stream",
     "text": [
      "Initial static displacement of the train and the track\n",
      "Calculating calculation phase\n"
     ]
    },
    {
     "name": "stderr",
     "output_type": "stream",
     "text": [
      "100%|█████████████████████████████████████████████████████████████████████████████████████████████████████████████████████████████████████████████████████████████████████████████████████████| 5.00k/5.00k [00:02<00:00, 1.71ksteps/s]\n",
      "  2%|████▎                                                                                                                                                                                      | 185/8.00k [00:00<00:04, 1.83ksteps/s]"
     ]
    },
    {
     "name": "stdout",
     "output_type": "stream",
     "text": [
      "Calculating calculation phase\n"
     ]
    },
    {
     "name": "stderr",
     "output_type": "stream",
     "text": [
      "100%|█████████████████████████████████████████████████████████████████████████████████████████████████████████████████████████████████████████████████████████████████████████████████████████| 8.00k/8.00k [00:04<00:00, 1.75ksteps/s]\n"
     ]
    },
    {
     "name": "stdout",
     "output_type": "stream",
     "text": [
      "Finalising calculation\n",
      "\n",
      "\n",
      "\n",
      "\u001b[3m  Your focus determines your reality. \u001b[0m\n",
      "\u001b[3m--- Qui - Gon Jinn\u001b[0m\n",
      ".______        ______        _______. _______\n",
      "|   _  \\      /  __  \\      /       ||   ____|                                                                                                       __\n",
      "|  |_)  |    |  |  |  |    |   (----`|  |__                                                                                                   ___  _// \\\n",
      "|      /     |  |  |  |     \\   \\    |   __|                                                                                                _/   \\/__|_ \\\n",
      "|  |\\  \\----.|  `--'  | .----)   |   |  |____                                                                                              /  __//_/==\\_| ___\n",
      "| _| `._____| \\______/  |_______/    |_______|                                                                                           / | / /|// == \\ \\   /\n",
      "  ___        _                                                                                                                           |  | |\\|| //_\\ | |_/\n",
      " | _ ) _  _ (_)                                                                                                                           \\  \\ \\\\ / \\_/| || \\\n",
      " | _ \\| || | _                                                                                                                             \\___/\\\\| _  ///___\\\n",
      " |___/ \\_, |(_)                                                                                                                              \\__|\\_\\=//_// _\\_|\n",
      "       |__/                                                                                                                                     \\___\\_____/\n",
      "     ___      .______        ______   .__   __.               .______   .______       __    __  .__   __.   ______                             !! \\____/\n",
      "    /   \\     |   _  \\      /  __  \\  |  \\ |  |      ___      |   _  \\  |   _  \\     |  |  |  | |  \\ |  |  /  __  \\                           !!\n",
      "   /  ^  \\    |  |_)  |    |  |  |  | |   \\|  |     ( _ )     |  |_)  | |  |_)  |    |  |  |  | |   \\|  | |  |  |  |                           !!\n",
      "  /  /_\\  \\   |      /     |  |  |  | |  . `  |     / _ \\/\\   |   _  <  |      /     |  |  |  | |  . `  | |  |  |  |                ___      -(!!      __ ___ _\n",
      " /  _____  \\  |  |\\  \\----.|  `--'  | |  |\\   |    | (_>  <   |  |_)  | |  |\\  \\----.|  `--'  | |  |\\   | |  `--'  |               |\\|  \\       !!_.-~~ /|\\-  \\~-._\n",
      "/__/     \\__\\ | _| `._____| \\______/  |__| \\__|     \\___/\\/   |______/  | _| `._____| \\______/  |__| \\__|  \\______/                | -\\| |      !!/   /  | |\\- | |\\ \\\n",
      "                                                                                                                                    \\__-\\|______ !!  |    \\___\\|  \\_\\|\n",
      "                                                                                                                              _____ _.-~/|\\     \\\\!!  \\  |  /       ~-.\n",
      "                                                                                                                            /     /|  / /|  \\    \\!!    \\ /          |\\~-\n",
      "                                                                                                                          /  ---/| | |   |\\  |     !!                 \\__|\n",
      "                                                                                                                         | ---/| | |  \\ /|  /    -(!!\n",
      "                                                                                                                         | -/| |  /     \\|/        !!\n",
      "                                                                                                                         |/____ /                  !!)-\n",
      "                                                                                                                                                   !!\n",
      "Initialising train\n",
      "Initialising track and subsoil\n"
     ]
    },
    {
     "name": "stderr",
     "output_type": "stream",
     "text": [
      "WARNING:root:height not defined, strain cannot be determined\n",
      "WARNING:root:height neutral axis not defined, strain cannot be determined\n"
     ]
    },
    {
     "name": "stdout",
     "output_type": "stream",
     "text": [
      "Initialising model parts\n",
      "Initialising global matrices\n",
      "Initialising global matrices\n",
      "Initialising track wheel interaction\n"
     ]
    },
    {
     "name": "stderr",
     "output_type": "stream",
     "text": [
      "100%|█████████████████████████████████████████████████████████████████████████████████████████████████████████████████████████████████████████████████████████████████████████████████████████████| 2.00/2.00 [00:00<00:00, 999steps/s]\n",
      "100%|███████████████████████████████████████████████████████████████████████████████████████████████████████████████████████████████████████████████████████████████████████████████████████████████████| 1.00/1.00 [00:00<?, ?steps/s]\n",
      "  0%|                                                                                                                                                                                                  | 0.00/5.00k [00:00<?, ?steps/s]"
     ]
    },
    {
     "name": "stdout",
     "output_type": "stream",
     "text": [
      "Initial static displacement of the train and the track\n",
      "Calculating calculation phase\n"
     ]
    },
    {
     "name": "stderr",
     "output_type": "stream",
     "text": [
      "100%|█████████████████████████████████████████████████████████████████████████████████████████████████████████████████████████████████████████████████████████████████████████████████████████| 5.00k/5.00k [00:02<00:00, 1.72ksteps/s]\n",
      "  5%|████████▌                                                                                                                                                                                  | 366/8.00k [00:00<00:04, 1.84ksteps/s]"
     ]
    },
    {
     "name": "stdout",
     "output_type": "stream",
     "text": [
      "Calculating calculation phase\n"
     ]
    },
    {
     "name": "stderr",
     "output_type": "stream",
     "text": [
      "100%|█████████████████████████████████████████████████████████████████████████████████████████████████████████████████████████████████████████████████████████████████████████████████████████| 8.00k/8.00k [00:04<00:00, 1.70ksteps/s]\n"
     ]
    },
    {
     "name": "stdout",
     "output_type": "stream",
     "text": [
      "Finalising calculation\n",
      "\n",
      "\n",
      "\n",
      "\u001b[3m  Your focus determines your reality. \u001b[0m\n",
      "\u001b[3m--- Qui - Gon Jinn\u001b[0m\n",
      ".______        ______        _______. _______\n",
      "|   _  \\      /  __  \\      /       ||   ____|                                                                                                       __\n",
      "|  |_)  |    |  |  |  |    |   (----`|  |__                                                                                                   ___  _// \\\n",
      "|      /     |  |  |  |     \\   \\    |   __|                                                                                                _/   \\/__|_ \\\n",
      "|  |\\  \\----.|  `--'  | .----)   |   |  |____                                                                                              /  __//_/==\\_| ___\n",
      "| _| `._____| \\______/  |_______/    |_______|                                                                                           / | / /|// == \\ \\   /\n",
      "  ___        _                                                                                                                           |  | |\\|| //_\\ | |_/\n",
      " | _ ) _  _ (_)                                                                                                                           \\  \\ \\\\ / \\_/| || \\\n",
      " | _ \\| || | _                                                                                                                             \\___/\\\\| _  ///___\\\n",
      " |___/ \\_, |(_)                                                                                                                              \\__|\\_\\=//_// _\\_|\n",
      "       |__/                                                                                                                                     \\___\\_____/\n",
      "     ___      .______        ______   .__   __.               .______   .______       __    __  .__   __.   ______                             !! \\____/\n",
      "    /   \\     |   _  \\      /  __  \\  |  \\ |  |      ___      |   _  \\  |   _  \\     |  |  |  | |  \\ |  |  /  __  \\                           !!\n",
      "   /  ^  \\    |  |_)  |    |  |  |  | |   \\|  |     ( _ )     |  |_)  | |  |_)  |    |  |  |  | |   \\|  | |  |  |  |                           !!\n",
      "  /  /_\\  \\   |      /     |  |  |  | |  . `  |     / _ \\/\\   |   _  <  |      /     |  |  |  | |  . `  | |  |  |  |                ___      -(!!      __ ___ _\n",
      " /  _____  \\  |  |\\  \\----.|  `--'  | |  |\\   |    | (_>  <   |  |_)  | |  |\\  \\----.|  `--'  | |  |\\   | |  `--'  |               |\\|  \\       !!_.-~~ /|\\-  \\~-._\n",
      "/__/     \\__\\ | _| `._____| \\______/  |__| \\__|     \\___/\\/   |______/  | _| `._____| \\______/  |__| \\__|  \\______/                | -\\| |      !!/   /  | |\\- | |\\ \\\n",
      "                                                                                                                                    \\__-\\|______ !!  |    \\___\\|  \\_\\|\n",
      "                                                                                                                              _____ _.-~/|\\     \\\\!!  \\  |  /       ~-.\n",
      "                                                                                                                            /     /|  / /|  \\    \\!!    \\ /          |\\~-\n",
      "                                                                                                                          /  ---/| | |   |\\  |     !!                 \\__|\n",
      "                                                                                                                         | ---/| | |  \\ /|  /    -(!!\n",
      "                                                                                                                         | -/| |  /     \\|/        !!\n",
      "                                                                                                                         |/____ /                  !!)-\n",
      "                                                                                                                                                   !!\n",
      "Initialising train\n",
      "Initialising track and subsoil\n"
     ]
    },
    {
     "name": "stderr",
     "output_type": "stream",
     "text": [
      "WARNING:root:height not defined, strain cannot be determined\n",
      "WARNING:root:height neutral axis not defined, strain cannot be determined\n"
     ]
    },
    {
     "name": "stdout",
     "output_type": "stream",
     "text": [
      "Initialising model parts\n",
      "Initialising global matrices\n",
      "Initialising global matrices\n",
      "Initialising track wheel interaction\n"
     ]
    },
    {
     "name": "stderr",
     "output_type": "stream",
     "text": [
      "100%|█████████████████████████████████████████████████████████████████████████████████████████████████████████████████████████████████████████████████████████████████████████████████████████████| 2.00/2.00 [00:00<00:00, 399steps/s]\n",
      "100%|███████████████████████████████████████████████████████████████████████████████████████████████████████████████████████████████████████████████████████████████████████████████████████████| 1.00/1.00 [00:00<00:00, 1.03ksteps/s]"
     ]
    },
    {
     "name": "stdout",
     "output_type": "stream",
     "text": [
      "Initial static displacement of the train and the track\n",
      "Calculating calculation phase\n"
     ]
    },
    {
     "name": "stderr",
     "output_type": "stream",
     "text": [
      "\n",
      "100%|█████████████████████████████████████████████████████████████████████████████████████████████████████████████████████████████████████████████████████████████████████████████████████████| 5.00k/5.00k [00:02<00:00, 1.74ksteps/s]\n",
      "  2%|████▎                                                                                                                                                                                      | 182/8.00k [00:00<00:04, 1.80ksteps/s]"
     ]
    },
    {
     "name": "stdout",
     "output_type": "stream",
     "text": [
      "Calculating calculation phase\n"
     ]
    },
    {
     "name": "stderr",
     "output_type": "stream",
     "text": [
      "100%|█████████████████████████████████████████████████████████████████████████████████████████████████████████████████████████████████████████████████████████████████████████████████████████| 8.00k/8.00k [00:04<00:00, 1.74ksteps/s]\n"
     ]
    },
    {
     "name": "stdout",
     "output_type": "stream",
     "text": [
      "Finalising calculation\n",
      "\n",
      "\n",
      "\n",
      "\u001b[3m  Your focus determines your reality. \u001b[0m\n",
      "\u001b[3m--- Qui - Gon Jinn\u001b[0m\n",
      ".______        ______        _______. _______\n",
      "|   _  \\      /  __  \\      /       ||   ____|                                                                                                       __\n",
      "|  |_)  |    |  |  |  |    |   (----`|  |__                                                                                                   ___  _// \\\n",
      "|      /     |  |  |  |     \\   \\    |   __|                                                                                                _/   \\/__|_ \\\n",
      "|  |\\  \\----.|  `--'  | .----)   |   |  |____                                                                                              /  __//_/==\\_| ___\n",
      "| _| `._____| \\______/  |_______/    |_______|                                                                                           / | / /|// == \\ \\   /\n",
      "  ___        _                                                                                                                           |  | |\\|| //_\\ | |_/\n",
      " | _ ) _  _ (_)                                                                                                                           \\  \\ \\\\ / \\_/| || \\\n",
      " | _ \\| || | _                                                                                                                             \\___/\\\\| _  ///___\\\n",
      " |___/ \\_, |(_)                                                                                                                              \\__|\\_\\=//_// _\\_|\n",
      "       |__/                                                                                                                                     \\___\\_____/\n",
      "     ___      .______        ______   .__   __.               .______   .______       __    __  .__   __.   ______                             !! \\____/\n",
      "    /   \\     |   _  \\      /  __  \\  |  \\ |  |      ___      |   _  \\  |   _  \\     |  |  |  | |  \\ |  |  /  __  \\                           !!\n",
      "   /  ^  \\    |  |_)  |    |  |  |  | |   \\|  |     ( _ )     |  |_)  | |  |_)  |    |  |  |  | |   \\|  | |  |  |  |                           !!\n",
      "  /  /_\\  \\   |      /     |  |  |  | |  . `  |     / _ \\/\\   |   _  <  |      /     |  |  |  | |  . `  | |  |  |  |                ___      -(!!      __ ___ _\n",
      " /  _____  \\  |  |\\  \\----.|  `--'  | |  |\\   |    | (_>  <   |  |_)  | |  |\\  \\----.|  `--'  | |  |\\   | |  `--'  |               |\\|  \\       !!_.-~~ /|\\-  \\~-._\n",
      "/__/     \\__\\ | _| `._____| \\______/  |__| \\__|     \\___/\\/   |______/  | _| `._____| \\______/  |__| \\__|  \\______/                | -\\| |      !!/   /  | |\\- | |\\ \\\n",
      "                                                                                                                                    \\__-\\|______ !!  |    \\___\\|  \\_\\|\n",
      "                                                                                                                              _____ _.-~/|\\     \\\\!!  \\  |  /       ~-.\n",
      "                                                                                                                            /     /|  / /|  \\    \\!!    \\ /          |\\~-\n",
      "                                                                                                                          /  ---/| | |   |\\  |     !!                 \\__|\n",
      "                                                                                                                         | ---/| | |  \\ /|  /    -(!!\n",
      "                                                                                                                         | -/| |  /     \\|/        !!\n",
      "                                                                                                                         |/____ /                  !!)-\n",
      "                                                                                                                                                   !!\n",
      "Initialising train\n",
      "Initialising track and subsoil\n"
     ]
    },
    {
     "name": "stderr",
     "output_type": "stream",
     "text": [
      "WARNING:root:height not defined, strain cannot be determined\n",
      "WARNING:root:height neutral axis not defined, strain cannot be determined\n"
     ]
    },
    {
     "name": "stdout",
     "output_type": "stream",
     "text": [
      "Initialising model parts\n",
      "Initialising global matrices\n",
      "Initialising global matrices\n",
      "Initialising track wheel interaction\n"
     ]
    },
    {
     "name": "stderr",
     "output_type": "stream",
     "text": [
      "100%|█████████████████████████████████████████████████████████████████████████████████████████████████████████████████████████████████████████████████████████████████████████████████████████████| 2.00/2.00 [00:00<00:00, 669steps/s]\n",
      "100%|█████████████████████████████████████████████████████████████████████████████████████████████████████████████████████████████████████████████████████████████████████████████████████████████| 1.00/1.00 [00:00<00:00, 999steps/s]\n",
      "  0%|                                                                                                                                                                                                  | 0.00/5.00k [00:00<?, ?steps/s]"
     ]
    },
    {
     "name": "stdout",
     "output_type": "stream",
     "text": [
      "Initial static displacement of the train and the track\n",
      "Calculating calculation phase\n"
     ]
    },
    {
     "name": "stderr",
     "output_type": "stream",
     "text": [
      "100%|█████████████████████████████████████████████████████████████████████████████████████████████████████████████████████████████████████████████████████████████████████████████████████████| 5.00k/5.00k [00:02<00:00, 1.67ksteps/s]\n",
      "  2%|████▍                                                                                                                                                                                      | 190/8.00k [00:00<00:04, 1.90ksteps/s]"
     ]
    },
    {
     "name": "stdout",
     "output_type": "stream",
     "text": [
      "Calculating calculation phase\n"
     ]
    },
    {
     "name": "stderr",
     "output_type": "stream",
     "text": [
      "100%|█████████████████████████████████████████████████████████████████████████████████████████████████████████████████████████████████████████████████████████████████████████████████████████| 8.00k/8.00k [00:04<00:00, 1.77ksteps/s]\n"
     ]
    },
    {
     "name": "stdout",
     "output_type": "stream",
     "text": [
      "Finalising calculation\n",
      "\n",
      "\n",
      "\n",
      "\u001b[3m  Your focus determines your reality. \u001b[0m\n",
      "\u001b[3m--- Qui - Gon Jinn\u001b[0m\n",
      ".______        ______        _______. _______\n",
      "|   _  \\      /  __  \\      /       ||   ____|                                                                                                       __\n",
      "|  |_)  |    |  |  |  |    |   (----`|  |__                                                                                                   ___  _// \\\n",
      "|      /     |  |  |  |     \\   \\    |   __|                                                                                                _/   \\/__|_ \\\n",
      "|  |\\  \\----.|  `--'  | .----)   |   |  |____                                                                                              /  __//_/==\\_| ___\n",
      "| _| `._____| \\______/  |_______/    |_______|                                                                                           / | / /|// == \\ \\   /\n",
      "  ___        _                                                                                                                           |  | |\\|| //_\\ | |_/\n",
      " | _ ) _  _ (_)                                                                                                                           \\  \\ \\\\ / \\_/| || \\\n",
      " | _ \\| || | _                                                                                                                             \\___/\\\\| _  ///___\\\n",
      " |___/ \\_, |(_)                                                                                                                              \\__|\\_\\=//_// _\\_|\n",
      "       |__/                                                                                                                                     \\___\\_____/\n",
      "     ___      .______        ______   .__   __.               .______   .______       __    __  .__   __.   ______                             !! \\____/\n",
      "    /   \\     |   _  \\      /  __  \\  |  \\ |  |      ___      |   _  \\  |   _  \\     |  |  |  | |  \\ |  |  /  __  \\                           !!\n",
      "   /  ^  \\    |  |_)  |    |  |  |  | |   \\|  |     ( _ )     |  |_)  | |  |_)  |    |  |  |  | |   \\|  | |  |  |  |                           !!\n",
      "  /  /_\\  \\   |      /     |  |  |  | |  . `  |     / _ \\/\\   |   _  <  |      /     |  |  |  | |  . `  | |  |  |  |                ___      -(!!      __ ___ _\n",
      " /  _____  \\  |  |\\  \\----.|  `--'  | |  |\\   |    | (_>  <   |  |_)  | |  |\\  \\----.|  `--'  | |  |\\   | |  `--'  |               |\\|  \\       !!_.-~~ /|\\-  \\~-._\n",
      "/__/     \\__\\ | _| `._____| \\______/  |__| \\__|     \\___/\\/   |______/  | _| `._____| \\______/  |__| \\__|  \\______/                | -\\| |      !!/   /  | |\\- | |\\ \\\n",
      "                                                                                                                                    \\__-\\|______ !!  |    \\___\\|  \\_\\|\n",
      "                                                                                                                              _____ _.-~/|\\     \\\\!!  \\  |  /       ~-.\n",
      "                                                                                                                            /     /|  / /|  \\    \\!!    \\ /          |\\~-\n",
      "                                                                                                                          /  ---/| | |   |\\  |     !!                 \\__|\n",
      "                                                                                                                         | ---/| | |  \\ /|  /    -(!!\n",
      "                                                                                                                         | -/| |  /     \\|/        !!\n",
      "                                                                                                                         |/____ /                  !!)-\n",
      "                                                                                                                                                   !!\n",
      "Initialising train\n",
      "Initialising track and subsoil\n"
     ]
    },
    {
     "name": "stderr",
     "output_type": "stream",
     "text": [
      "WARNING:root:height not defined, strain cannot be determined\n",
      "WARNING:root:height neutral axis not defined, strain cannot be determined\n"
     ]
    },
    {
     "name": "stdout",
     "output_type": "stream",
     "text": [
      "Initialising model parts\n",
      "Initialising global matrices\n",
      "Initialising global matrices\n",
      "Initialising track wheel interaction\n"
     ]
    },
    {
     "name": "stderr",
     "output_type": "stream",
     "text": [
      "100%|█████████████████████████████████████████████████████████████████████████████████████████████████████████████████████████████████████████████████████████████████████████████████████████████| 2.00/2.00 [00:00<00:00, 400steps/s]\n",
      "100%|█████████████████████████████████████████████████████████████████████████████████████████████████████████████████████████████████████████████████████████████████████████████████████████████| 1.00/1.00 [00:00<00:00, 966steps/s]"
     ]
    },
    {
     "name": "stdout",
     "output_type": "stream",
     "text": [
      "Initial static displacement of the train and the track\n",
      "Calculating calculation phase\n"
     ]
    },
    {
     "name": "stderr",
     "output_type": "stream",
     "text": [
      "\n",
      "100%|█████████████████████████████████████████████████████████████████████████████████████████████████████████████████████████████████████████████████████████████████████████████████████████| 5.00k/5.00k [00:02<00:00, 1.69ksteps/s]\n",
      "  2%|███▊                                                                                                                                                                                       | 162/8.00k [00:00<00:04, 1.62ksteps/s]"
     ]
    },
    {
     "name": "stdout",
     "output_type": "stream",
     "text": [
      "Calculating calculation phase\n"
     ]
    },
    {
     "name": "stderr",
     "output_type": "stream",
     "text": [
      "100%|█████████████████████████████████████████████████████████████████████████████████████████████████████████████████████████████████████████████████████████████████████████████████████████| 8.00k/8.00k [00:04<00:00, 1.70ksteps/s]\n"
     ]
    },
    {
     "name": "stdout",
     "output_type": "stream",
     "text": [
      "Finalising calculation\n",
      "\n",
      "\n",
      "\n",
      "\u001b[3m  Your focus determines your reality. \u001b[0m\n",
      "\u001b[3m--- Qui - Gon Jinn\u001b[0m\n",
      ".______        ______        _______. _______\n",
      "|   _  \\      /  __  \\      /       ||   ____|                                                                                                       __\n",
      "|  |_)  |    |  |  |  |    |   (----`|  |__                                                                                                   ___  _// \\\n",
      "|      /     |  |  |  |     \\   \\    |   __|                                                                                                _/   \\/__|_ \\\n",
      "|  |\\  \\----.|  `--'  | .----)   |   |  |____                                                                                              /  __//_/==\\_| ___\n",
      "| _| `._____| \\______/  |_______/    |_______|                                                                                           / | / /|// == \\ \\   /\n",
      "  ___        _                                                                                                                           |  | |\\|| //_\\ | |_/\n",
      " | _ ) _  _ (_)                                                                                                                           \\  \\ \\\\ / \\_/| || \\\n",
      " | _ \\| || | _                                                                                                                             \\___/\\\\| _  ///___\\\n",
      " |___/ \\_, |(_)                                                                                                                              \\__|\\_\\=//_// _\\_|\n",
      "       |__/                                                                                                                                     \\___\\_____/\n",
      "     ___      .______        ______   .__   __.               .______   .______       __    __  .__   __.   ______                             !! \\____/\n",
      "    /   \\     |   _  \\      /  __  \\  |  \\ |  |      ___      |   _  \\  |   _  \\     |  |  |  | |  \\ |  |  /  __  \\                           !!\n",
      "   /  ^  \\    |  |_)  |    |  |  |  | |   \\|  |     ( _ )     |  |_)  | |  |_)  |    |  |  |  | |   \\|  | |  |  |  |                           !!\n",
      "  /  /_\\  \\   |      /     |  |  |  | |  . `  |     / _ \\/\\   |   _  <  |      /     |  |  |  | |  . `  | |  |  |  |                ___      -(!!      __ ___ _\n",
      " /  _____  \\  |  |\\  \\----.|  `--'  | |  |\\   |    | (_>  <   |  |_)  | |  |\\  \\----.|  `--'  | |  |\\   | |  `--'  |               |\\|  \\       !!_.-~~ /|\\-  \\~-._\n",
      "/__/     \\__\\ | _| `._____| \\______/  |__| \\__|     \\___/\\/   |______/  | _| `._____| \\______/  |__| \\__|  \\______/                | -\\| |      !!/   /  | |\\- | |\\ \\\n",
      "                                                                                                                                    \\__-\\|______ !!  |    \\___\\|  \\_\\|\n",
      "                                                                                                                              _____ _.-~/|\\     \\\\!!  \\  |  /       ~-.\n",
      "                                                                                                                            /     /|  / /|  \\    \\!!    \\ /          |\\~-\n",
      "                                                                                                                          /  ---/| | |   |\\  |     !!                 \\__|\n",
      "                                                                                                                         | ---/| | |  \\ /|  /    -(!!\n",
      "                                                                                                                         | -/| |  /     \\|/        !!\n",
      "                                                                                                                         |/____ /                  !!)-\n",
      "                                                                                                                                                   !!\n",
      "Initialising train\n",
      "Initialising track and subsoil\n"
     ]
    },
    {
     "name": "stderr",
     "output_type": "stream",
     "text": [
      "WARNING:root:height not defined, strain cannot be determined\n",
      "WARNING:root:height neutral axis not defined, strain cannot be determined\n"
     ]
    },
    {
     "name": "stdout",
     "output_type": "stream",
     "text": [
      "Initialising model parts\n",
      "Initialising global matrices\n",
      "Initialising global matrices\n",
      "Initialising track wheel interaction\n"
     ]
    },
    {
     "name": "stderr",
     "output_type": "stream",
     "text": [
      "100%|█████████████████████████████████████████████████████████████████████████████████████████████████████████████████████████████████████████████████████████████████████████████████████████████| 2.00/2.00 [00:00<00:00, 500steps/s]\n",
      "100%|█████████████████████████████████████████████████████████████████████████████████████████████████████████████████████████████████████████████████████████████████████████████████████████████| 1.00/1.00 [00:00<00:00, 996steps/s]\n",
      "  0%|                                                                                                                                                                                                  | 0.00/5.00k [00:00<?, ?steps/s]"
     ]
    },
    {
     "name": "stdout",
     "output_type": "stream",
     "text": [
      "Initial static displacement of the train and the track\n",
      "Calculating calculation phase\n"
     ]
    },
    {
     "name": "stderr",
     "output_type": "stream",
     "text": [
      "100%|█████████████████████████████████████████████████████████████████████████████████████████████████████████████████████████████████████████████████████████████████████████████████████████| 5.00k/5.00k [00:02<00:00, 1.73ksteps/s]\n",
      "  5%|████████▋                                                                                                                                                                                  | 373/8.00k [00:00<00:04, 1.88ksteps/s]"
     ]
    },
    {
     "name": "stdout",
     "output_type": "stream",
     "text": [
      "Calculating calculation phase\n"
     ]
    },
    {
     "name": "stderr",
     "output_type": "stream",
     "text": [
      "100%|█████████████████████████████████████████████████████████████████████████████████████████████████████████████████████████████████████████████████████████████████████████████████████████| 8.00k/8.00k [00:04<00:00, 1.73ksteps/s]\n"
     ]
    },
    {
     "name": "stdout",
     "output_type": "stream",
     "text": [
      "Finalising calculation\n",
      "\n",
      "\n",
      "\n",
      "\u001b[3m  Your focus determines your reality. \u001b[0m\n",
      "\u001b[3m--- Qui - Gon Jinn\u001b[0m\n",
      ".______        ______        _______. _______\n",
      "|   _  \\      /  __  \\      /       ||   ____|                                                                                                       __\n",
      "|  |_)  |    |  |  |  |    |   (----`|  |__                                                                                                   ___  _// \\\n",
      "|      /     |  |  |  |     \\   \\    |   __|                                                                                                _/   \\/__|_ \\\n",
      "|  |\\  \\----.|  `--'  | .----)   |   |  |____                                                                                              /  __//_/==\\_| ___\n",
      "| _| `._____| \\______/  |_______/    |_______|                                                                                           / | / /|// == \\ \\   /\n",
      "  ___        _                                                                                                                           |  | |\\|| //_\\ | |_/\n",
      " | _ ) _  _ (_)                                                                                                                           \\  \\ \\\\ / \\_/| || \\\n",
      " | _ \\| || | _                                                                                                                             \\___/\\\\| _  ///___\\\n",
      " |___/ \\_, |(_)                                                                                                                              \\__|\\_\\=//_// _\\_|\n",
      "       |__/                                                                                                                                     \\___\\_____/\n",
      "     ___      .______        ______   .__   __.               .______   .______       __    __  .__   __.   ______                             !! \\____/\n",
      "    /   \\     |   _  \\      /  __  \\  |  \\ |  |      ___      |   _  \\  |   _  \\     |  |  |  | |  \\ |  |  /  __  \\                           !!\n",
      "   /  ^  \\    |  |_)  |    |  |  |  | |   \\|  |     ( _ )     |  |_)  | |  |_)  |    |  |  |  | |   \\|  | |  |  |  |                           !!\n",
      "  /  /_\\  \\   |      /     |  |  |  | |  . `  |     / _ \\/\\   |   _  <  |      /     |  |  |  | |  . `  | |  |  |  |                ___      -(!!      __ ___ _\n",
      " /  _____  \\  |  |\\  \\----.|  `--'  | |  |\\   |    | (_>  <   |  |_)  | |  |\\  \\----.|  `--'  | |  |\\   | |  `--'  |               |\\|  \\       !!_.-~~ /|\\-  \\~-._\n",
      "/__/     \\__\\ | _| `._____| \\______/  |__| \\__|     \\___/\\/   |______/  | _| `._____| \\______/  |__| \\__|  \\______/                | -\\| |      !!/   /  | |\\- | |\\ \\\n",
      "                                                                                                                                    \\__-\\|______ !!  |    \\___\\|  \\_\\|\n",
      "                                                                                                                              _____ _.-~/|\\     \\\\!!  \\  |  /       ~-.\n",
      "                                                                                                                            /     /|  / /|  \\    \\!!    \\ /          |\\~-\n",
      "                                                                                                                          /  ---/| | |   |\\  |     !!                 \\__|\n",
      "                                                                                                                         | ---/| | |  \\ /|  /    -(!!\n",
      "                                                                                                                         | -/| |  /     \\|/        !!\n",
      "                                                                                                                         |/____ /                  !!)-\n",
      "                                                                                                                                                   !!\n",
      "Initialising train\n",
      "Initialising track and subsoil\n"
     ]
    },
    {
     "name": "stderr",
     "output_type": "stream",
     "text": [
      "WARNING:root:height not defined, strain cannot be determined\n",
      "WARNING:root:height neutral axis not defined, strain cannot be determined\n"
     ]
    },
    {
     "name": "stdout",
     "output_type": "stream",
     "text": [
      "Initialising model parts\n",
      "Initialising global matrices\n",
      "Initialising global matrices\n",
      "Initialising track wheel interaction\n"
     ]
    },
    {
     "name": "stderr",
     "output_type": "stream",
     "text": [
      "100%|█████████████████████████████████████████████████████████████████████████████████████████████████████████████████████████████████████████████████████████████████████████████████████████████| 2.00/2.00 [00:00<00:00, 500steps/s]\n",
      "100%|█████████████████████████████████████████████████████████████████████████████████████████████████████████████████████████████████████████████████████████████████████████████████████████████| 1.00/1.00 [00:00<00:00, 998steps/s]\n",
      "  0%|                                                                                                                                                                                                  | 0.00/5.00k [00:00<?, ?steps/s]"
     ]
    },
    {
     "name": "stdout",
     "output_type": "stream",
     "text": [
      "Initial static displacement of the train and the track\n",
      "Calculating calculation phase\n"
     ]
    },
    {
     "name": "stderr",
     "output_type": "stream",
     "text": [
      "100%|█████████████████████████████████████████████████████████████████████████████████████████████████████████████████████████████████████████████████████████████████████████████████████████| 5.00k/5.00k [00:02<00:00, 1.73ksteps/s]\n",
      "  2%|████▌                                                                                                                                                                                      | 194/8.00k [00:00<00:04, 1.94ksteps/s]"
     ]
    },
    {
     "name": "stdout",
     "output_type": "stream",
     "text": [
      "Calculating calculation phase\n"
     ]
    },
    {
     "name": "stderr",
     "output_type": "stream",
     "text": [
      "100%|█████████████████████████████████████████████████████████████████████████████████████████████████████████████████████████████████████████████████████████████████████████████████████████| 8.00k/8.00k [00:04<00:00, 1.79ksteps/s]\n"
     ]
    },
    {
     "name": "stdout",
     "output_type": "stream",
     "text": [
      "Finalising calculation\n",
      "\n",
      "\n",
      "\n",
      "\u001b[3m  Your focus determines your reality. \u001b[0m\n",
      "\u001b[3m--- Qui - Gon Jinn\u001b[0m\n",
      ".______        ______        _______. _______\n",
      "|   _  \\      /  __  \\      /       ||   ____|                                                                                                       __\n",
      "|  |_)  |    |  |  |  |    |   (----`|  |__                                                                                                   ___  _// \\\n",
      "|      /     |  |  |  |     \\   \\    |   __|                                                                                                _/   \\/__|_ \\\n",
      "|  |\\  \\----.|  `--'  | .----)   |   |  |____                                                                                              /  __//_/==\\_| ___\n",
      "| _| `._____| \\______/  |_______/    |_______|                                                                                           / | / /|// == \\ \\   /\n",
      "  ___        _                                                                                                                           |  | |\\|| //_\\ | |_/\n",
      " | _ ) _  _ (_)                                                                                                                           \\  \\ \\\\ / \\_/| || \\\n",
      " | _ \\| || | _                                                                                                                             \\___/\\\\| _  ///___\\\n",
      " |___/ \\_, |(_)                                                                                                                              \\__|\\_\\=//_// _\\_|\n",
      "       |__/                                                                                                                                     \\___\\_____/\n",
      "     ___      .______        ______   .__   __.               .______   .______       __    __  .__   __.   ______                             !! \\____/\n",
      "    /   \\     |   _  \\      /  __  \\  |  \\ |  |      ___      |   _  \\  |   _  \\     |  |  |  | |  \\ |  |  /  __  \\                           !!\n",
      "   /  ^  \\    |  |_)  |    |  |  |  | |   \\|  |     ( _ )     |  |_)  | |  |_)  |    |  |  |  | |   \\|  | |  |  |  |                           !!\n",
      "  /  /_\\  \\   |      /     |  |  |  | |  . `  |     / _ \\/\\   |   _  <  |      /     |  |  |  | |  . `  | |  |  |  |                ___      -(!!      __ ___ _\n",
      " /  _____  \\  |  |\\  \\----.|  `--'  | |  |\\   |    | (_>  <   |  |_)  | |  |\\  \\----.|  `--'  | |  |\\   | |  `--'  |               |\\|  \\       !!_.-~~ /|\\-  \\~-._\n",
      "/__/     \\__\\ | _| `._____| \\______/  |__| \\__|     \\___/\\/   |______/  | _| `._____| \\______/  |__| \\__|  \\______/                | -\\| |      !!/   /  | |\\- | |\\ \\\n",
      "                                                                                                                                    \\__-\\|______ !!  |    \\___\\|  \\_\\|\n",
      "                                                                                                                              _____ _.-~/|\\     \\\\!!  \\  |  /       ~-.\n",
      "                                                                                                                            /     /|  / /|  \\    \\!!    \\ /          |\\~-\n",
      "                                                                                                                          /  ---/| | |   |\\  |     !!                 \\__|\n",
      "                                                                                                                         | ---/| | |  \\ /|  /    -(!!\n",
      "                                                                                                                         | -/| |  /     \\|/        !!\n",
      "                                                                                                                         |/____ /                  !!)-\n",
      "                                                                                                                                                   !!\n",
      "Initialising train\n",
      "Initialising track and subsoil\n"
     ]
    },
    {
     "name": "stderr",
     "output_type": "stream",
     "text": [
      "WARNING:root:height not defined, strain cannot be determined\n",
      "WARNING:root:height neutral axis not defined, strain cannot be determined\n"
     ]
    },
    {
     "name": "stdout",
     "output_type": "stream",
     "text": [
      "Initialising model parts\n",
      "Initialising global matrices\n",
      "Initialising global matrices\n",
      "Initialising track wheel interaction\n"
     ]
    },
    {
     "name": "stderr",
     "output_type": "stream",
     "text": [
      "100%|█████████████████████████████████████████████████████████████████████████████████████████████████████████████████████████████████████████████████████████████████████████████████████████████| 2.00/2.00 [00:00<00:00, 182steps/s]\n",
      "100%|█████████████████████████████████████████████████████████████████████████████████████████████████████████████████████████████████████████████████████████████████████████████████████████████| 1.00/1.00 [00:00<00:00, 250steps/s]"
     ]
    },
    {
     "name": "stdout",
     "output_type": "stream",
     "text": [
      "Initial static displacement of the train and the track\n"
     ]
    },
    {
     "name": "stderr",
     "output_type": "stream",
     "text": [
      "\n",
      "  3%|██████▎                                                                                                                                                                                    | 170/5.00k [00:00<00:02, 1.68ksteps/s]"
     ]
    },
    {
     "name": "stdout",
     "output_type": "stream",
     "text": [
      "Calculating calculation phase\n"
     ]
    },
    {
     "name": "stderr",
     "output_type": "stream",
     "text": [
      "100%|█████████████████████████████████████████████████████████████████████████████████████████████████████████████████████████████████████████████████████████████████████████████████████████| 5.00k/5.00k [00:03<00:00, 1.66ksteps/s]\n",
      "  2%|████▏                                                                                                                                                                                      | 179/8.00k [00:00<00:04, 1.79ksteps/s]"
     ]
    },
    {
     "name": "stdout",
     "output_type": "stream",
     "text": [
      "Calculating calculation phase\n"
     ]
    },
    {
     "name": "stderr",
     "output_type": "stream",
     "text": [
      "100%|█████████████████████████████████████████████████████████████████████████████████████████████████████████████████████████████████████████████████████████████████████████████████████████| 8.00k/8.00k [00:04<00:00, 1.69ksteps/s]\n"
     ]
    },
    {
     "name": "stdout",
     "output_type": "stream",
     "text": [
      "Finalising calculation\n",
      "\n",
      "\n",
      "\n",
      "\u001b[3m  Your focus determines your reality. \u001b[0m\n",
      "\u001b[3m--- Qui - Gon Jinn\u001b[0m\n",
      ".______        ______        _______. _______\n",
      "|   _  \\      /  __  \\      /       ||   ____|                                                                                                       __\n",
      "|  |_)  |    |  |  |  |    |   (----`|  |__                                                                                                   ___  _// \\\n",
      "|      /     |  |  |  |     \\   \\    |   __|                                                                                                _/   \\/__|_ \\\n",
      "|  |\\  \\----.|  `--'  | .----)   |   |  |____                                                                                              /  __//_/==\\_| ___\n",
      "| _| `._____| \\______/  |_______/    |_______|                                                                                           / | / /|// == \\ \\   /\n",
      "  ___        _                                                                                                                           |  | |\\|| //_\\ | |_/\n",
      " | _ ) _  _ (_)                                                                                                                           \\  \\ \\\\ / \\_/| || \\\n",
      " | _ \\| || | _                                                                                                                             \\___/\\\\| _  ///___\\\n",
      " |___/ \\_, |(_)                                                                                                                              \\__|\\_\\=//_// _\\_|\n",
      "       |__/                                                                                                                                     \\___\\_____/\n",
      "     ___      .______        ______   .__   __.               .______   .______       __    __  .__   __.   ______                             !! \\____/\n",
      "    /   \\     |   _  \\      /  __  \\  |  \\ |  |      ___      |   _  \\  |   _  \\     |  |  |  | |  \\ |  |  /  __  \\                           !!\n",
      "   /  ^  \\    |  |_)  |    |  |  |  | |   \\|  |     ( _ )     |  |_)  | |  |_)  |    |  |  |  | |   \\|  | |  |  |  |                           !!\n",
      "  /  /_\\  \\   |      /     |  |  |  | |  . `  |     / _ \\/\\   |   _  <  |      /     |  |  |  | |  . `  | |  |  |  |                ___      -(!!      __ ___ _\n",
      " /  _____  \\  |  |\\  \\----.|  `--'  | |  |\\   |    | (_>  <   |  |_)  | |  |\\  \\----.|  `--'  | |  |\\   | |  `--'  |               |\\|  \\       !!_.-~~ /|\\-  \\~-._\n",
      "/__/     \\__\\ | _| `._____| \\______/  |__| \\__|     \\___/\\/   |______/  | _| `._____| \\______/  |__| \\__|  \\______/                | -\\| |      !!/   /  | |\\- | |\\ \\\n",
      "                                                                                                                                    \\__-\\|______ !!  |    \\___\\|  \\_\\|\n",
      "                                                                                                                              _____ _.-~/|\\     \\\\!!  \\  |  /       ~-.\n",
      "                                                                                                                            /     /|  / /|  \\    \\!!    \\ /          |\\~-\n",
      "                                                                                                                          /  ---/| | |   |\\  |     !!                 \\__|\n",
      "                                                                                                                         | ---/| | |  \\ /|  /    -(!!\n",
      "                                                                                                                         | -/| |  /     \\|/        !!\n",
      "                                                                                                                         |/____ /                  !!)-\n",
      "                                                                                                                                                   !!\n",
      "Initialising train\n",
      "Initialising track and subsoil\n"
     ]
    },
    {
     "name": "stderr",
     "output_type": "stream",
     "text": [
      "WARNING:root:height not defined, strain cannot be determined\n",
      "WARNING:root:height neutral axis not defined, strain cannot be determined\n"
     ]
    },
    {
     "name": "stdout",
     "output_type": "stream",
     "text": [
      "Initialising model parts\n",
      "Initialising global matrices\n",
      "Initialising global matrices\n",
      "Initialising track wheel interaction\n"
     ]
    },
    {
     "name": "stderr",
     "output_type": "stream",
     "text": [
      "100%|█████████████████████████████████████████████████████████████████████████████████████████████████████████████████████████████████████████████████████████████████████████████████████████████| 2.00/2.00 [00:00<00:00, 674steps/s]\n",
      "100%|███████████████████████████████████████████████████████████████████████████████████████████████████████████████████████████████████████████████████████████████████████████████████████████| 1.00/1.00 [00:00<00:00, 1.04ksteps/s]\n",
      "  0%|                                                                                                                                                                                                  | 0.00/5.00k [00:00<?, ?steps/s]"
     ]
    },
    {
     "name": "stdout",
     "output_type": "stream",
     "text": [
      "Initial static displacement of the train and the track\n",
      "Calculating calculation phase\n"
     ]
    },
    {
     "name": "stderr",
     "output_type": "stream",
     "text": [
      "100%|█████████████████████████████████████████████████████████████████████████████████████████████████████████████████████████████████████████████████████████████████████████████████████████| 5.00k/5.00k [00:02<00:00, 1.72ksteps/s]\n",
      "  4%|████████▎                                                                                                                                                                                  | 358/8.00k [00:00<00:04, 1.81ksteps/s]"
     ]
    },
    {
     "name": "stdout",
     "output_type": "stream",
     "text": [
      "Calculating calculation phase\n"
     ]
    },
    {
     "name": "stderr",
     "output_type": "stream",
     "text": [
      "100%|█████████████████████████████████████████████████████████████████████████████████████████████████████████████████████████████████████████████████████████████████████████████████████████| 8.00k/8.00k [00:04<00:00, 1.73ksteps/s]\n"
     ]
    },
    {
     "name": "stdout",
     "output_type": "stream",
     "text": [
      "Finalising calculation\n",
      "\n",
      "\n",
      "\n",
      "\u001b[3m  Your focus determines your reality. \u001b[0m\n",
      "\u001b[3m--- Qui - Gon Jinn\u001b[0m\n",
      ".______        ______        _______. _______\n",
      "|   _  \\      /  __  \\      /       ||   ____|                                                                                                       __\n",
      "|  |_)  |    |  |  |  |    |   (----`|  |__                                                                                                   ___  _// \\\n",
      "|      /     |  |  |  |     \\   \\    |   __|                                                                                                _/   \\/__|_ \\\n",
      "|  |\\  \\----.|  `--'  | .----)   |   |  |____                                                                                              /  __//_/==\\_| ___\n",
      "| _| `._____| \\______/  |_______/    |_______|                                                                                           / | / /|// == \\ \\   /\n",
      "  ___        _                                                                                                                           |  | |\\|| //_\\ | |_/\n",
      " | _ ) _  _ (_)                                                                                                                           \\  \\ \\\\ / \\_/| || \\\n",
      " | _ \\| || | _                                                                                                                             \\___/\\\\| _  ///___\\\n",
      " |___/ \\_, |(_)                                                                                                                              \\__|\\_\\=//_// _\\_|\n",
      "       |__/                                                                                                                                     \\___\\_____/\n",
      "     ___      .______        ______   .__   __.               .______   .______       __    __  .__   __.   ______                             !! \\____/\n",
      "    /   \\     |   _  \\      /  __  \\  |  \\ |  |      ___      |   _  \\  |   _  \\     |  |  |  | |  \\ |  |  /  __  \\                           !!\n",
      "   /  ^  \\    |  |_)  |    |  |  |  | |   \\|  |     ( _ )     |  |_)  | |  |_)  |    |  |  |  | |   \\|  | |  |  |  |                           !!\n",
      "  /  /_\\  \\   |      /     |  |  |  | |  . `  |     / _ \\/\\   |   _  <  |      /     |  |  |  | |  . `  | |  |  |  |                ___      -(!!      __ ___ _\n",
      " /  _____  \\  |  |\\  \\----.|  `--'  | |  |\\   |    | (_>  <   |  |_)  | |  |\\  \\----.|  `--'  | |  |\\   | |  `--'  |               |\\|  \\       !!_.-~~ /|\\-  \\~-._\n",
      "/__/     \\__\\ | _| `._____| \\______/  |__| \\__|     \\___/\\/   |______/  | _| `._____| \\______/  |__| \\__|  \\______/                | -\\| |      !!/   /  | |\\- | |\\ \\\n",
      "                                                                                                                                    \\__-\\|______ !!  |    \\___\\|  \\_\\|\n",
      "                                                                                                                              _____ _.-~/|\\     \\\\!!  \\  |  /       ~-.\n",
      "                                                                                                                            /     /|  / /|  \\    \\!!    \\ /          |\\~-\n",
      "                                                                                                                          /  ---/| | |   |\\  |     !!                 \\__|\n",
      "                                                                                                                         | ---/| | |  \\ /|  /    -(!!\n",
      "                                                                                                                         | -/| |  /     \\|/        !!\n",
      "                                                                                                                         |/____ /                  !!)-\n",
      "                                                                                                                                                   !!\n",
      "Initialising train\n",
      "Initialising track and subsoil\n"
     ]
    },
    {
     "name": "stderr",
     "output_type": "stream",
     "text": [
      "WARNING:root:height not defined, strain cannot be determined\n",
      "WARNING:root:height neutral axis not defined, strain cannot be determined\n"
     ]
    },
    {
     "name": "stdout",
     "output_type": "stream",
     "text": [
      "Initialising model parts\n",
      "Initialising global matrices\n",
      "Initialising global matrices\n",
      "Initialising track wheel interaction\n"
     ]
    },
    {
     "name": "stderr",
     "output_type": "stream",
     "text": [
      "100%|█████████████████████████████████████████████████████████████████████████████████████████████████████████████████████████████████████████████████████████████████████████████████████████████| 2.00/2.00 [00:00<00:00, 223steps/s]\n",
      "100%|█████████████████████████████████████████████████████████████████████████████████████████████████████████████████████████████████████████████████████████████████████████████████████████████| 1.00/1.00 [00:00<00:00, 500steps/s]"
     ]
    },
    {
     "name": "stdout",
     "output_type": "stream",
     "text": [
      "Initial static displacement of the train and the track\n",
      "Calculating calculation phase\n"
     ]
    },
    {
     "name": "stderr",
     "output_type": "stream",
     "text": [
      "\n",
      "100%|█████████████████████████████████████████████████████████████████████████████████████████████████████████████████████████████████████████████████████████████████████████████████████████| 5.00k/5.00k [00:02<00:00, 1.70ksteps/s]\n",
      "  2%|████▍                                                                                                                                                                                      | 191/8.00k [00:00<00:04, 1.89ksteps/s]"
     ]
    },
    {
     "name": "stdout",
     "output_type": "stream",
     "text": [
      "Calculating calculation phase\n"
     ]
    },
    {
     "name": "stderr",
     "output_type": "stream",
     "text": [
      "100%|█████████████████████████████████████████████████████████████████████████████████████████████████████████████████████████████████████████████████████████████████████████████████████████| 8.00k/8.00k [00:04<00:00, 1.76ksteps/s]\n"
     ]
    },
    {
     "name": "stdout",
     "output_type": "stream",
     "text": [
      "Finalising calculation\n",
      "\n",
      "\n",
      "\n",
      "\u001b[3m  Your focus determines your reality. \u001b[0m\n",
      "\u001b[3m--- Qui - Gon Jinn\u001b[0m\n",
      ".______        ______        _______. _______\n",
      "|   _  \\      /  __  \\      /       ||   ____|                                                                                                       __\n",
      "|  |_)  |    |  |  |  |    |   (----`|  |__                                                                                                   ___  _// \\\n",
      "|      /     |  |  |  |     \\   \\    |   __|                                                                                                _/   \\/__|_ \\\n",
      "|  |\\  \\----.|  `--'  | .----)   |   |  |____                                                                                              /  __//_/==\\_| ___\n",
      "| _| `._____| \\______/  |_______/    |_______|                                                                                           / | / /|// == \\ \\   /\n",
      "  ___        _                                                                                                                           |  | |\\|| //_\\ | |_/\n",
      " | _ ) _  _ (_)                                                                                                                           \\  \\ \\\\ / \\_/| || \\\n",
      " | _ \\| || | _                                                                                                                             \\___/\\\\| _  ///___\\\n",
      " |___/ \\_, |(_)                                                                                                                              \\__|\\_\\=//_// _\\_|\n",
      "       |__/                                                                                                                                     \\___\\_____/\n",
      "     ___      .______        ______   .__   __.               .______   .______       __    __  .__   __.   ______                             !! \\____/\n",
      "    /   \\     |   _  \\      /  __  \\  |  \\ |  |      ___      |   _  \\  |   _  \\     |  |  |  | |  \\ |  |  /  __  \\                           !!\n",
      "   /  ^  \\    |  |_)  |    |  |  |  | |   \\|  |     ( _ )     |  |_)  | |  |_)  |    |  |  |  | |   \\|  | |  |  |  |                           !!\n",
      "  /  /_\\  \\   |      /     |  |  |  | |  . `  |     / _ \\/\\   |   _  <  |      /     |  |  |  | |  . `  | |  |  |  |                ___      -(!!      __ ___ _\n",
      " /  _____  \\  |  |\\  \\----.|  `--'  | |  |\\   |    | (_>  <   |  |_)  | |  |\\  \\----.|  `--'  | |  |\\   | |  `--'  |               |\\|  \\       !!_.-~~ /|\\-  \\~-._\n",
      "/__/     \\__\\ | _| `._____| \\______/  |__| \\__|     \\___/\\/   |______/  | _| `._____| \\______/  |__| \\__|  \\______/                | -\\| |      !!/   /  | |\\- | |\\ \\\n",
      "                                                                                                                                    \\__-\\|______ !!  |    \\___\\|  \\_\\|\n",
      "                                                                                                                              _____ _.-~/|\\     \\\\!!  \\  |  /       ~-.\n",
      "                                                                                                                            /     /|  / /|  \\    \\!!    \\ /          |\\~-\n",
      "                                                                                                                          /  ---/| | |   |\\  |     !!                 \\__|\n",
      "                                                                                                                         | ---/| | |  \\ /|  /    -(!!\n",
      "                                                                                                                         | -/| |  /     \\|/        !!\n",
      "                                                                                                                         |/____ /                  !!)-\n",
      "                                                                                                                                                   !!\n",
      "Initialising train\n",
      "Initialising track and subsoil\n"
     ]
    },
    {
     "name": "stderr",
     "output_type": "stream",
     "text": [
      "WARNING:root:height not defined, strain cannot be determined\n",
      "WARNING:root:height neutral axis not defined, strain cannot be determined\n"
     ]
    },
    {
     "name": "stdout",
     "output_type": "stream",
     "text": [
      "Initialising model parts\n",
      "Initialising global matrices\n",
      "Initialising global matrices\n",
      "Initialising track wheel interaction\n"
     ]
    },
    {
     "name": "stderr",
     "output_type": "stream",
     "text": [
      "100%|█████████████████████████████████████████████████████████████████████████████████████████████████████████████████████████████████████████████████████████████████████████████████████████████| 2.00/2.00 [00:00<00:00, 400steps/s]\n",
      "100%|█████████████████████████████████████████████████████████████████████████████████████████████████████████████████████████████████████████████████████████████████████████████████████████████| 1.00/1.00 [00:00<00:00, 493steps/s]\n",
      "  0%|                                                                                                                                                                                                  | 0.00/5.00k [00:00<?, ?steps/s]"
     ]
    },
    {
     "name": "stdout",
     "output_type": "stream",
     "text": [
      "Initial static displacement of the train and the track\n",
      "Calculating calculation phase\n"
     ]
    },
    {
     "name": "stderr",
     "output_type": "stream",
     "text": [
      "100%|█████████████████████████████████████████████████████████████████████████████████████████████████████████████████████████████████████████████████████████████████████████████████████████| 5.00k/5.00k [00:02<00:00, 1.72ksteps/s]\n",
      "  5%|████████▊                                                                                                                                                                                  | 377/8.00k [00:00<00:04, 1.89ksteps/s]"
     ]
    },
    {
     "name": "stdout",
     "output_type": "stream",
     "text": [
      "Calculating calculation phase\n"
     ]
    },
    {
     "name": "stderr",
     "output_type": "stream",
     "text": [
      "100%|█████████████████████████████████████████████████████████████████████████████████████████████████████████████████████████████████████████████████████████████████████████████████████████| 8.00k/8.00k [00:04<00:00, 1.78ksteps/s]\n"
     ]
    },
    {
     "name": "stdout",
     "output_type": "stream",
     "text": [
      "Finalising calculation\n",
      "\n",
      "\n",
      "\n",
      "\u001b[3m  Your focus determines your reality. \u001b[0m\n",
      "\u001b[3m--- Qui - Gon Jinn\u001b[0m\n",
      ".______        ______        _______. _______\n",
      "|   _  \\      /  __  \\      /       ||   ____|                                                                                                       __\n",
      "|  |_)  |    |  |  |  |    |   (----`|  |__                                                                                                   ___  _// \\\n",
      "|      /     |  |  |  |     \\   \\    |   __|                                                                                                _/   \\/__|_ \\\n",
      "|  |\\  \\----.|  `--'  | .----)   |   |  |____                                                                                              /  __//_/==\\_| ___\n",
      "| _| `._____| \\______/  |_______/    |_______|                                                                                           / | / /|// == \\ \\   /\n",
      "  ___        _                                                                                                                           |  | |\\|| //_\\ | |_/\n",
      " | _ ) _  _ (_)                                                                                                                           \\  \\ \\\\ / \\_/| || \\\n",
      " | _ \\| || | _                                                                                                                             \\___/\\\\| _  ///___\\\n",
      " |___/ \\_, |(_)                                                                                                                              \\__|\\_\\=//_// _\\_|\n",
      "       |__/                                                                                                                                     \\___\\_____/\n",
      "     ___      .______        ______   .__   __.               .______   .______       __    __  .__   __.   ______                             !! \\____/\n",
      "    /   \\     |   _  \\      /  __  \\  |  \\ |  |      ___      |   _  \\  |   _  \\     |  |  |  | |  \\ |  |  /  __  \\                           !!\n",
      "   /  ^  \\    |  |_)  |    |  |  |  | |   \\|  |     ( _ )     |  |_)  | |  |_)  |    |  |  |  | |   \\|  | |  |  |  |                           !!\n",
      "  /  /_\\  \\   |      /     |  |  |  | |  . `  |     / _ \\/\\   |   _  <  |      /     |  |  |  | |  . `  | |  |  |  |                ___      -(!!      __ ___ _\n",
      " /  _____  \\  |  |\\  \\----.|  `--'  | |  |\\   |    | (_>  <   |  |_)  | |  |\\  \\----.|  `--'  | |  |\\   | |  `--'  |               |\\|  \\       !!_.-~~ /|\\-  \\~-._\n",
      "/__/     \\__\\ | _| `._____| \\______/  |__| \\__|     \\___/\\/   |______/  | _| `._____| \\______/  |__| \\__|  \\______/                | -\\| |      !!/   /  | |\\- | |\\ \\\n",
      "                                                                                                                                    \\__-\\|______ !!  |    \\___\\|  \\_\\|\n",
      "                                                                                                                              _____ _.-~/|\\     \\\\!!  \\  |  /       ~-.\n",
      "                                                                                                                            /     /|  / /|  \\    \\!!    \\ /          |\\~-\n",
      "                                                                                                                          /  ---/| | |   |\\  |     !!                 \\__|\n",
      "                                                                                                                         | ---/| | |  \\ /|  /    -(!!\n",
      "                                                                                                                         | -/| |  /     \\|/        !!\n",
      "                                                                                                                         |/____ /                  !!)-\n",
      "                                                                                                                                                   !!\n",
      "Initialising train\n",
      "Initialising track and subsoil\n"
     ]
    },
    {
     "name": "stderr",
     "output_type": "stream",
     "text": [
      "WARNING:root:height not defined, strain cannot be determined\n",
      "WARNING:root:height neutral axis not defined, strain cannot be determined\n"
     ]
    },
    {
     "name": "stdout",
     "output_type": "stream",
     "text": [
      "Initialising model parts\n",
      "Initialising global matrices\n",
      "Initialising global matrices\n",
      "Initialising track wheel interaction\n"
     ]
    },
    {
     "name": "stderr",
     "output_type": "stream",
     "text": [
      "100%|█████████████████████████████████████████████████████████████████████████████████████████████████████████████████████████████████████████████████████████████████████████████████████████████| 2.00/2.00 [00:00<00:00, 499steps/s]\n",
      "100%|█████████████████████████████████████████████████████████████████████████████████████████████████████████████████████████████████████████████████████████████████████████████████████████████| 1.00/1.00 [00:00<00:00, 501steps/s]"
     ]
    },
    {
     "name": "stdout",
     "output_type": "stream",
     "text": [
      "Initial static displacement of the train and the track\n"
     ]
    },
    {
     "name": "stderr",
     "output_type": "stream",
     "text": [
      "\n",
      "  7%|█████████████▉                                                                                                                                                                             | 371/5.00k [00:00<00:02, 1.84ksteps/s]"
     ]
    },
    {
     "name": "stdout",
     "output_type": "stream",
     "text": [
      "Calculating calculation phase\n"
     ]
    },
    {
     "name": "stderr",
     "output_type": "stream",
     "text": [
      "100%|█████████████████████████████████████████████████████████████████████████████████████████████████████████████████████████████████████████████████████████████████████████████████████████| 5.00k/5.00k [00:02<00:00, 1.71ksteps/s]\n",
      "  2%|████▎                                                                                                                                                                                      | 187/8.00k [00:00<00:04, 1.84ksteps/s]"
     ]
    },
    {
     "name": "stdout",
     "output_type": "stream",
     "text": [
      "Calculating calculation phase\n"
     ]
    },
    {
     "name": "stderr",
     "output_type": "stream",
     "text": [
      "100%|█████████████████████████████████████████████████████████████████████████████████████████████████████████████████████████████████████████████████████████████████████████████████████████| 8.00k/8.00k [00:04<00:00, 1.77ksteps/s]\n"
     ]
    },
    {
     "name": "stdout",
     "output_type": "stream",
     "text": [
      "Finalising calculation\n",
      "\n",
      "\n",
      "\n",
      "\u001b[3m  Your focus determines your reality. \u001b[0m\n",
      "\u001b[3m--- Qui - Gon Jinn\u001b[0m\n",
      ".______        ______        _______. _______\n",
      "|   _  \\      /  __  \\      /       ||   ____|                                                                                                       __\n",
      "|  |_)  |    |  |  |  |    |   (----`|  |__                                                                                                   ___  _// \\\n",
      "|      /     |  |  |  |     \\   \\    |   __|                                                                                                _/   \\/__|_ \\\n",
      "|  |\\  \\----.|  `--'  | .----)   |   |  |____                                                                                              /  __//_/==\\_| ___\n",
      "| _| `._____| \\______/  |_______/    |_______|                                                                                           / | / /|// == \\ \\   /\n",
      "  ___        _                                                                                                                           |  | |\\|| //_\\ | |_/\n",
      " | _ ) _  _ (_)                                                                                                                           \\  \\ \\\\ / \\_/| || \\\n",
      " | _ \\| || | _                                                                                                                             \\___/\\\\| _  ///___\\\n",
      " |___/ \\_, |(_)                                                                                                                              \\__|\\_\\=//_// _\\_|\n",
      "       |__/                                                                                                                                     \\___\\_____/\n",
      "     ___      .______        ______   .__   __.               .______   .______       __    __  .__   __.   ______                             !! \\____/\n",
      "    /   \\     |   _  \\      /  __  \\  |  \\ |  |      ___      |   _  \\  |   _  \\     |  |  |  | |  \\ |  |  /  __  \\                           !!\n",
      "   /  ^  \\    |  |_)  |    |  |  |  | |   \\|  |     ( _ )     |  |_)  | |  |_)  |    |  |  |  | |   \\|  | |  |  |  |                           !!\n",
      "  /  /_\\  \\   |      /     |  |  |  | |  . `  |     / _ \\/\\   |   _  <  |      /     |  |  |  | |  . `  | |  |  |  |                ___      -(!!      __ ___ _\n",
      " /  _____  \\  |  |\\  \\----.|  `--'  | |  |\\   |    | (_>  <   |  |_)  | |  |\\  \\----.|  `--'  | |  |\\   | |  `--'  |               |\\|  \\       !!_.-~~ /|\\-  \\~-._\n",
      "/__/     \\__\\ | _| `._____| \\______/  |__| \\__|     \\___/\\/   |______/  | _| `._____| \\______/  |__| \\__|  \\______/                | -\\| |      !!/   /  | |\\- | |\\ \\\n",
      "                                                                                                                                    \\__-\\|______ !!  |    \\___\\|  \\_\\|\n",
      "                                                                                                                              _____ _.-~/|\\     \\\\!!  \\  |  /       ~-.\n",
      "                                                                                                                            /     /|  / /|  \\    \\!!    \\ /          |\\~-\n",
      "                                                                                                                          /  ---/| | |   |\\  |     !!                 \\__|\n",
      "                                                                                                                         | ---/| | |  \\ /|  /    -(!!\n",
      "                                                                                                                         | -/| |  /     \\|/        !!\n",
      "                                                                                                                         |/____ /                  !!)-\n",
      "                                                                                                                                                   !!\n",
      "Initialising train\n",
      "Initialising track and subsoil\n"
     ]
    },
    {
     "name": "stderr",
     "output_type": "stream",
     "text": [
      "WARNING:root:height not defined, strain cannot be determined\n",
      "WARNING:root:height neutral axis not defined, strain cannot be determined\n"
     ]
    },
    {
     "name": "stdout",
     "output_type": "stream",
     "text": [
      "Initialising model parts\n",
      "Initialising global matrices\n",
      "Initialising global matrices\n",
      "Initialising track wheel interaction\n"
     ]
    },
    {
     "name": "stderr",
     "output_type": "stream",
     "text": [
      "100%|█████████████████████████████████████████████████████████████████████████████████████████████████████████████████████████████████████████████████████████████████████████████████████████████| 2.00/2.00 [00:00<00:00, 335steps/s]\n",
      "100%|███████████████████████████████████████████████████████████████████████████████████████████████████████████████████████████████████████████████████████████████████████████████████████████████████| 1.00/1.00 [00:00<?, ?steps/s]"
     ]
    },
    {
     "name": "stdout",
     "output_type": "stream",
     "text": [
      "Initial static displacement of the train and the track\n",
      "Calculating calculation phase\n"
     ]
    },
    {
     "name": "stderr",
     "output_type": "stream",
     "text": [
      "\n",
      "100%|█████████████████████████████████████████████████████████████████████████████████████████████████████████████████████████████████████████████████████████████████████████████████████████| 5.00k/5.00k [00:02<00:00, 1.73ksteps/s]\n",
      "  5%|████████▋                                                                                                                                                                                  | 370/8.00k [00:00<00:04, 1.84ksteps/s]"
     ]
    },
    {
     "name": "stdout",
     "output_type": "stream",
     "text": [
      "Calculating calculation phase\n"
     ]
    },
    {
     "name": "stderr",
     "output_type": "stream",
     "text": [
      "100%|█████████████████████████████████████████████████████████████████████████████████████████████████████████████████████████████████████████████████████████████████████████████████████████| 8.00k/8.00k [00:04<00:00, 1.75ksteps/s]\n"
     ]
    },
    {
     "name": "stdout",
     "output_type": "stream",
     "text": [
      "Finalising calculation\n",
      "\n",
      "\n",
      "\n",
      "\u001b[3m  Your focus determines your reality. \u001b[0m\n",
      "\u001b[3m--- Qui - Gon Jinn\u001b[0m\n",
      ".______        ______        _______. _______\n",
      "|   _  \\      /  __  \\      /       ||   ____|                                                                                                       __\n",
      "|  |_)  |    |  |  |  |    |   (----`|  |__                                                                                                   ___  _// \\\n",
      "|      /     |  |  |  |     \\   \\    |   __|                                                                                                _/   \\/__|_ \\\n",
      "|  |\\  \\----.|  `--'  | .----)   |   |  |____                                                                                              /  __//_/==\\_| ___\n",
      "| _| `._____| \\______/  |_______/    |_______|                                                                                           / | / /|// == \\ \\   /\n",
      "  ___        _                                                                                                                           |  | |\\|| //_\\ | |_/\n",
      " | _ ) _  _ (_)                                                                                                                           \\  \\ \\\\ / \\_/| || \\\n",
      " | _ \\| || | _                                                                                                                             \\___/\\\\| _  ///___\\\n",
      " |___/ \\_, |(_)                                                                                                                              \\__|\\_\\=//_// _\\_|\n",
      "       |__/                                                                                                                                     \\___\\_____/\n",
      "     ___      .______        ______   .__   __.               .______   .______       __    __  .__   __.   ______                             !! \\____/\n",
      "    /   \\     |   _  \\      /  __  \\  |  \\ |  |      ___      |   _  \\  |   _  \\     |  |  |  | |  \\ |  |  /  __  \\                           !!\n",
      "   /  ^  \\    |  |_)  |    |  |  |  | |   \\|  |     ( _ )     |  |_)  | |  |_)  |    |  |  |  | |   \\|  | |  |  |  |                           !!\n",
      "  /  /_\\  \\   |      /     |  |  |  | |  . `  |     / _ \\/\\   |   _  <  |      /     |  |  |  | |  . `  | |  |  |  |                ___      -(!!      __ ___ _\n",
      " /  _____  \\  |  |\\  \\----.|  `--'  | |  |\\   |    | (_>  <   |  |_)  | |  |\\  \\----.|  `--'  | |  |\\   | |  `--'  |               |\\|  \\       !!_.-~~ /|\\-  \\~-._\n",
      "/__/     \\__\\ | _| `._____| \\______/  |__| \\__|     \\___/\\/   |______/  | _| `._____| \\______/  |__| \\__|  \\______/                | -\\| |      !!/   /  | |\\- | |\\ \\\n",
      "                                                                                                                                    \\__-\\|______ !!  |    \\___\\|  \\_\\|\n",
      "                                                                                                                              _____ _.-~/|\\     \\\\!!  \\  |  /       ~-.\n",
      "                                                                                                                            /     /|  / /|  \\    \\!!    \\ /          |\\~-\n",
      "                                                                                                                          /  ---/| | |   |\\  |     !!                 \\__|\n",
      "                                                                                                                         | ---/| | |  \\ /|  /    -(!!\n",
      "                                                                                                                         | -/| |  /     \\|/        !!\n",
      "                                                                                                                         |/____ /                  !!)-\n",
      "                                                                                                                                                   !!\n",
      "Initialising train\n",
      "Initialising track and subsoil\n"
     ]
    },
    {
     "name": "stderr",
     "output_type": "stream",
     "text": [
      "WARNING:root:height not defined, strain cannot be determined\n",
      "WARNING:root:height neutral axis not defined, strain cannot be determined\n"
     ]
    },
    {
     "name": "stdout",
     "output_type": "stream",
     "text": [
      "Initialising model parts\n",
      "Initialising global matrices\n",
      "Initialising global matrices\n",
      "Initialising track wheel interaction\n"
     ]
    },
    {
     "name": "stderr",
     "output_type": "stream",
     "text": [
      "100%|█████████████████████████████████████████████████████████████████████████████████████████████████████████████████████████████████████████████████████████████████████████████████████████████| 2.00/2.00 [00:00<00:00, 400steps/s]\n",
      "100%|███████████████████████████████████████████████████████████████████████████████████████████████████████████████████████████████████████████████████████████████████████████████████████████| 1.00/1.00 [00:00<00:00, 1.06ksteps/s]\n",
      "  0%|                                                                                                                                                                                                  | 0.00/5.00k [00:00<?, ?steps/s]"
     ]
    },
    {
     "name": "stdout",
     "output_type": "stream",
     "text": [
      "Initial static displacement of the train and the track\n",
      "Calculating calculation phase\n"
     ]
    },
    {
     "name": "stderr",
     "output_type": "stream",
     "text": [
      "100%|█████████████████████████████████████████████████████████████████████████████████████████████████████████████████████████████████████████████████████████████████████████████████████████| 5.00k/5.00k [00:02<00:00, 1.72ksteps/s]\n",
      "  2%|████▍                                                                                                                                                                                      | 191/8.00k [00:00<00:04, 1.91ksteps/s]"
     ]
    },
    {
     "name": "stdout",
     "output_type": "stream",
     "text": [
      "Calculating calculation phase\n"
     ]
    },
    {
     "name": "stderr",
     "output_type": "stream",
     "text": [
      "100%|█████████████████████████████████████████████████████████████████████████████████████████████████████████████████████████████████████████████████████████████████████████████████████████| 8.00k/8.00k [00:04<00:00, 1.76ksteps/s]\n"
     ]
    },
    {
     "name": "stdout",
     "output_type": "stream",
     "text": [
      "Finalising calculation\n",
      "\n",
      "\n",
      "\n",
      "\u001b[3m  Your focus determines your reality. \u001b[0m\n",
      "\u001b[3m--- Qui - Gon Jinn\u001b[0m\n"
     ]
    }
   ],
   "source": [
    "optimisation.least_square(np.array([initial_guess_stiffness]), ftol=1e-8)"
   ]
  },
  {
   "cell_type": "code",
   "execution_count": null,
   "id": "8e84ec75",
   "metadata": {},
   "outputs": [],
   "source": []
  }
 ],
 "metadata": {
  "kernelspec": {
   "display_name": "Python 3 (ipykernel)",
   "language": "python",
   "name": "python3"
  },
  "language_info": {
   "codemirror_mode": {
    "name": "ipython",
    "version": 3
   },
   "file_extension": ".py",
   "mimetype": "text/x-python",
   "name": "python",
   "nbconvert_exporter": "python",
   "pygments_lexer": "ipython3",
   "version": "3.8.2"
  }
 },
 "nbformat": 4,
 "nbformat_minor": 5
}
