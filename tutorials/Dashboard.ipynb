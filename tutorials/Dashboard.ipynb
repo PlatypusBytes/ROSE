{
 "cells": [
  {
   "cell_type": "markdown",
   "id": "5cd6922a",
   "metadata": {},
   "source": [
    "# Dashboard\n",
    "\n",
    "The dashboard is an standalone application that uses ROSE.\n",
    "\n",
    "The goal of the dashboard is to visualise the results and run the analysis.\n"
   ]
  },
  {
   "cell_type": "markdown",
   "id": "2b2ecf38",
   "metadata": {},
   "source": [
    "## Install dashboard\n",
    "\n",
    "The dashboard should be installed in a new virtual environment:\n",
    "\n",
    "`conda create -n rose_dashboard python=3.8`\n",
    "\n",
    "To activate the environment:\n",
    "\n",
    "`conda activate rose_dashboard`\n",
    "\n",
    "The yml file for the dasboard can be installed:\n",
    "\n",
    "`conda env update -f env_dashboard.yml`\n",
    "\n",
    "Alternatively, the environment can be created in one step following:\n",
    "\n",
    "`conda env create -f env_dashboard.yml`\n",
    "\n",
    "\n",
    "The yml file is located under `rose/dashboard`.\n",
    "\n",
    "The dashboard is a Flask application.\n",
    "In order to run the Flask application the FLASK_APP environmental variable need to be set:\n",
    "\n",
    "* when using bash (command prompt):\n",
    "\n",
    "    `cd ./rose/dashboard`\n",
    "    \n",
    "    `set FLASK_APP=application.py`\n",
    "    \n",
    "* when using PowerShell:\n",
    "\n",
    "    `cd ./rose/dashboard`\n",
    "    \n",
    "    `$env:FLASK_APP=\"application.py\"`\n",
    "    \n",
    "Then to run the application:\n",
    "    \n",
    "    `flask run`\n",
    "    \n",
    "    \n",
    "The dashboard should appear on your browser.\n",
    "\n",
    "<img src=\"static/dashboard.png\" width=\"1000\">\n",
    "\n"
   ]
  },
  {
   "cell_type": "markdown",
   "id": "21967868",
   "metadata": {},
   "source": [
    "## Prepare data\n",
    "\n",
    "In order to run the analysis it is required to have a SOS file. \n",
    "\n",
    "This file can be prepared in a similar fashion to the demo. \n",
    "\n",
    "A template for the preparation of this file is available under:\n",
    "`./dashboard/create_input_json.py`"
   ]
  },
  {
   "cell_type": "markdown",
   "id": "b30281bb",
   "metadata": {},
   "source": [
    "## To be improved\n",
    "\n",
    "* The process of generating the data\n",
    "* The coupling with dataset\n",
    "* Dashboard as a package\n"
   ]
  }
 ],
 "metadata": {
  "kernelspec": {
   "display_name": "Python 3 (ipykernel)",
   "language": "python",
   "name": "python3"
  },
  "language_info": {
   "codemirror_mode": {
    "name": "ipython",
    "version": 3
   },
   "file_extension": ".py",
   "mimetype": "text/x-python",
   "name": "python",
   "nbconvert_exporter": "python",
   "pygments_lexer": "ipython3",
   "version": "3.8.2"
  }
 },
 "nbformat": 4,
 "nbformat_minor": 5
}
